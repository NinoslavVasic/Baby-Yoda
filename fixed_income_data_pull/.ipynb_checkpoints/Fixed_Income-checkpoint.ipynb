{
 "cells": [
  {
   "cell_type": "code",
   "execution_count": 1,
   "metadata": {},
   "outputs": [],
   "source": [
    "import numpy as np\n",
    "import pandas as pd\n",
    "from datetime import datetime, timedelta\n",
    "import matplotlib.pyplot as plt\n",
    "%matplotlib inline\n",
    "import os"
   ]
  },
  {
   "cell_type": "code",
   "execution_count": 2,
   "metadata": {},
   "outputs": [],
   "source": [
    "np.random.seed(42)"
   ]
  },
  {
   "cell_type": "code",
   "execution_count": 3,
   "metadata": {},
   "outputs": [],
   "source": [
    "from iexfinance.stocks import get_historical_data\n",
    "import iexfinance as iex"
   ]
  },
  {
   "cell_type": "code",
   "execution_count": 4,
   "metadata": {},
   "outputs": [
    {
     "name": "stdout",
     "output_type": "stream",
     "text": [
      "35\n",
      "35\n"
     ]
    }
   ],
   "source": [
    "#Pull IEX Tokens\n",
    "IEX_TOKEN = os.getenv('IEX_TOKEN')\n",
    "IEX_TOKEN_SECRET = os.getenv('IEX_TOKEN_SECRET')\n",
    "print(len(IEX_TOKEN))\n",
    "print(len(IEX_TOKEN_SECRET))"
   ]
  },
  {
   "cell_type": "code",
   "execution_count": 5,
   "metadata": {},
   "outputs": [
    {
     "data": {
      "text/html": [
       "<div>\n",
       "<style scoped>\n",
       "    .dataframe tbody tr th:only-of-type {\n",
       "        vertical-align: middle;\n",
       "    }\n",
       "\n",
       "    .dataframe tbody tr th {\n",
       "        vertical-align: top;\n",
       "    }\n",
       "\n",
       "    .dataframe thead tr th {\n",
       "        text-align: left;\n",
       "    }\n",
       "\n",
       "    .dataframe thead tr:last-of-type th {\n",
       "        text-align: right;\n",
       "    }\n",
       "</style>\n",
       "<table border=\"1\" class=\"dataframe\">\n",
       "  <thead>\n",
       "    <tr>\n",
       "      <th></th>\n",
       "      <th>AGG</th>\n",
       "      <th>TLT</th>\n",
       "      <th>SHY</th>\n",
       "      <th>IEI</th>\n",
       "      <th>HYG</th>\n",
       "      <th>BKLN</th>\n",
       "      <th>LQD</th>\n",
       "    </tr>\n",
       "    <tr>\n",
       "      <th></th>\n",
       "      <th>close</th>\n",
       "      <th>close</th>\n",
       "      <th>close</th>\n",
       "      <th>close</th>\n",
       "      <th>close</th>\n",
       "      <th>close</th>\n",
       "      <th>close</th>\n",
       "    </tr>\n",
       "    <tr>\n",
       "      <th>date</th>\n",
       "      <th></th>\n",
       "      <th></th>\n",
       "      <th></th>\n",
       "      <th></th>\n",
       "      <th></th>\n",
       "      <th></th>\n",
       "      <th></th>\n",
       "    </tr>\n",
       "  </thead>\n",
       "  <tbody>\n",
       "    <tr>\n",
       "      <td>2015-02-11</td>\n",
       "      <td>110.87</td>\n",
       "      <td>129.95</td>\n",
       "      <td>84.61</td>\n",
       "      <td>123.09</td>\n",
       "      <td>91.00</td>\n",
       "      <td>24.07</td>\n",
       "      <td>121.00</td>\n",
       "    </tr>\n",
       "    <tr>\n",
       "      <td>2015-02-12</td>\n",
       "      <td>110.89</td>\n",
       "      <td>129.52</td>\n",
       "      <td>84.64</td>\n",
       "      <td>123.23</td>\n",
       "      <td>90.99</td>\n",
       "      <td>24.10</td>\n",
       "      <td>121.31</td>\n",
       "    </tr>\n",
       "    <tr>\n",
       "      <td>2015-02-13</td>\n",
       "      <td>110.76</td>\n",
       "      <td>128.19</td>\n",
       "      <td>84.64</td>\n",
       "      <td>123.09</td>\n",
       "      <td>91.12</td>\n",
       "      <td>24.02</td>\n",
       "      <td>120.83</td>\n",
       "    </tr>\n",
       "    <tr>\n",
       "      <td>2015-02-17</td>\n",
       "      <td>110.31</td>\n",
       "      <td>126.26</td>\n",
       "      <td>84.60</td>\n",
       "      <td>122.64</td>\n",
       "      <td>91.06</td>\n",
       "      <td>24.12</td>\n",
       "      <td>120.27</td>\n",
       "    </tr>\n",
       "    <tr>\n",
       "      <td>2015-02-18</td>\n",
       "      <td>110.62</td>\n",
       "      <td>127.01</td>\n",
       "      <td>84.70</td>\n",
       "      <td>123.08</td>\n",
       "      <td>91.37</td>\n",
       "      <td>24.11</td>\n",
       "      <td>120.70</td>\n",
       "    </tr>\n",
       "  </tbody>\n",
       "</table>\n",
       "</div>"
      ],
      "text/plain": [
       "               AGG     TLT    SHY     IEI    HYG   BKLN     LQD\n",
       "             close   close  close   close  close  close   close\n",
       "date                                                           \n",
       "2015-02-11  110.87  129.95  84.61  123.09  91.00  24.07  121.00\n",
       "2015-02-12  110.89  129.52  84.64  123.23  90.99  24.10  121.31\n",
       "2015-02-13  110.76  128.19  84.64  123.09  91.12  24.02  120.83\n",
       "2015-02-17  110.31  126.26  84.60  122.64  91.06  24.12  120.27\n",
       "2015-02-18  110.62  127.01  84.70  123.08  91.37  24.11  120.70"
      ]
     },
     "execution_count": 5,
     "metadata": {},
     "output_type": "execute_result"
    }
   ],
   "source": [
    "list_of_tickers = [\"AGG\", \"TLT\", \"SHY\", \"IEI\", \"HYG\", \"BKLN\", \"LQD\"]\n",
    "# Set Dates\n",
    "end_date = datetime.now()\n",
    "start_date = end_date + timedelta(-1825)\n",
    "\n",
    "#Pull Data From IEX Finance\n",
    "#portfolio_df = get_historical_data(list_of_tickers, start_date, end_date, close_only=True, output_format='pandas')\n",
    "#portfolio_df.drop(columns='volume', level=1,inplace=True)\n",
    "#portfolio_df.head()"
   ]
  },
  {
   "cell_type": "code",
   "execution_count": 46,
   "metadata": {},
   "outputs": [],
   "source": [
    "#Data Pull To CSV\n",
    "portfolio_df.to_csv('fixed_income_returns.csv')"
   ]
  },
  {
   "cell_type": "code",
   "execution_count": 47,
   "metadata": {},
   "outputs": [
    {
     "data": {
      "text/html": [
       "<div>\n",
       "<style scoped>\n",
       "    .dataframe tbody tr th:only-of-type {\n",
       "        vertical-align: middle;\n",
       "    }\n",
       "\n",
       "    .dataframe tbody tr th {\n",
       "        vertical-align: top;\n",
       "    }\n",
       "\n",
       "    .dataframe thead th {\n",
       "        text-align: right;\n",
       "    }\n",
       "</style>\n",
       "<table border=\"1\" class=\"dataframe\">\n",
       "  <thead>\n",
       "    <tr style=\"text-align: right;\">\n",
       "      <th></th>\n",
       "      <th>Unnamed: 0</th>\n",
       "      <th>AGG</th>\n",
       "      <th>TLT</th>\n",
       "      <th>SHY</th>\n",
       "      <th>IEI</th>\n",
       "      <th>HYG</th>\n",
       "      <th>BKLN</th>\n",
       "      <th>LQD</th>\n",
       "    </tr>\n",
       "  </thead>\n",
       "  <tbody>\n",
       "    <tr>\n",
       "      <td>1256</td>\n",
       "      <td>2020-02-05</td>\n",
       "      <td>113.82</td>\n",
       "      <td>142.01</td>\n",
       "      <td>84.81</td>\n",
       "      <td>127.08</td>\n",
       "      <td>88.03</td>\n",
       "      <td>22.62</td>\n",
       "      <td>130.25</td>\n",
       "    </tr>\n",
       "    <tr>\n",
       "      <td>1257</td>\n",
       "      <td>2020-02-06</td>\n",
       "      <td>113.89</td>\n",
       "      <td>142.65</td>\n",
       "      <td>84.83</td>\n",
       "      <td>127.09</td>\n",
       "      <td>88.1</td>\n",
       "      <td>22.6</td>\n",
       "      <td>130.19</td>\n",
       "    </tr>\n",
       "    <tr>\n",
       "      <td>1258</td>\n",
       "      <td>2020-02-07</td>\n",
       "      <td>114.22</td>\n",
       "      <td>144.43</td>\n",
       "      <td>84.88</td>\n",
       "      <td>127.39</td>\n",
       "      <td>87.97</td>\n",
       "      <td>22.59</td>\n",
       "      <td>130.69</td>\n",
       "    </tr>\n",
       "    <tr>\n",
       "      <td>1259</td>\n",
       "      <td>2020-02-07</td>\n",
       "      <td>114.22</td>\n",
       "      <td>144.43</td>\n",
       "      <td>84.88</td>\n",
       "      <td>127.39</td>\n",
       "      <td>87.97</td>\n",
       "      <td>22.59</td>\n",
       "      <td>130.69</td>\n",
       "    </tr>\n",
       "    <tr>\n",
       "      <td>1260</td>\n",
       "      <td>2020-02-07</td>\n",
       "      <td>114.22</td>\n",
       "      <td>144.43</td>\n",
       "      <td>84.88</td>\n",
       "      <td>127.39</td>\n",
       "      <td>87.97</td>\n",
       "      <td>22.59</td>\n",
       "      <td>130.69</td>\n",
       "    </tr>\n",
       "  </tbody>\n",
       "</table>\n",
       "</div>"
      ],
      "text/plain": [
       "      Unnamed: 0     AGG     TLT    SHY     IEI    HYG   BKLN     LQD\n",
       "1256  2020-02-05  113.82  142.01  84.81  127.08  88.03  22.62  130.25\n",
       "1257  2020-02-06  113.89  142.65  84.83  127.09   88.1   22.6  130.19\n",
       "1258  2020-02-07  114.22  144.43  84.88  127.39  87.97  22.59  130.69\n",
       "1259  2020-02-07  114.22  144.43  84.88  127.39  87.97  22.59  130.69\n",
       "1260  2020-02-07  114.22  144.43  84.88  127.39  87.97  22.59  130.69"
      ]
     },
     "execution_count": 47,
     "metadata": {},
     "output_type": "execute_result"
    }
   ],
   "source": [
    "#Read In Fixed Income Prices\n",
    "fixed_income = pd.read_csv('fixed_income_returns.csv')\n",
    "fixed_income.tail()"
   ]
  },
  {
   "cell_type": "code",
   "execution_count": 48,
   "metadata": {},
   "outputs": [
    {
     "data": {
      "text/html": [
       "<div>\n",
       "<style scoped>\n",
       "    .dataframe tbody tr th:only-of-type {\n",
       "        vertical-align: middle;\n",
       "    }\n",
       "\n",
       "    .dataframe tbody tr th {\n",
       "        vertical-align: top;\n",
       "    }\n",
       "\n",
       "    .dataframe thead th {\n",
       "        text-align: right;\n",
       "    }\n",
       "</style>\n",
       "<table border=\"1\" class=\"dataframe\">\n",
       "  <thead>\n",
       "    <tr style=\"text-align: right;\">\n",
       "      <th></th>\n",
       "      <th>Unnamed: 0</th>\n",
       "      <th>AGG</th>\n",
       "      <th>TLT</th>\n",
       "      <th>SHY</th>\n",
       "      <th>IEI</th>\n",
       "      <th>HYG</th>\n",
       "      <th>BKLN</th>\n",
       "      <th>LQD</th>\n",
       "    </tr>\n",
       "  </thead>\n",
       "  <tbody>\n",
       "    <tr>\n",
       "      <td>1256</td>\n",
       "      <td>2020-02-05</td>\n",
       "      <td>113.82</td>\n",
       "      <td>142.01</td>\n",
       "      <td>84.81</td>\n",
       "      <td>127.08</td>\n",
       "      <td>88.03</td>\n",
       "      <td>22.62</td>\n",
       "      <td>130.25</td>\n",
       "    </tr>\n",
       "    <tr>\n",
       "      <td>1257</td>\n",
       "      <td>2020-02-06</td>\n",
       "      <td>113.89</td>\n",
       "      <td>142.65</td>\n",
       "      <td>84.83</td>\n",
       "      <td>127.09</td>\n",
       "      <td>88.1</td>\n",
       "      <td>22.6</td>\n",
       "      <td>130.19</td>\n",
       "    </tr>\n",
       "    <tr>\n",
       "      <td>1258</td>\n",
       "      <td>2020-02-07</td>\n",
       "      <td>114.22</td>\n",
       "      <td>144.43</td>\n",
       "      <td>84.88</td>\n",
       "      <td>127.39</td>\n",
       "      <td>87.97</td>\n",
       "      <td>22.59</td>\n",
       "      <td>130.69</td>\n",
       "    </tr>\n",
       "    <tr>\n",
       "      <td>1259</td>\n",
       "      <td>2020-02-07</td>\n",
       "      <td>114.22</td>\n",
       "      <td>144.43</td>\n",
       "      <td>84.88</td>\n",
       "      <td>127.39</td>\n",
       "      <td>87.97</td>\n",
       "      <td>22.59</td>\n",
       "      <td>130.69</td>\n",
       "    </tr>\n",
       "    <tr>\n",
       "      <td>1260</td>\n",
       "      <td>2020-02-07</td>\n",
       "      <td>114.22</td>\n",
       "      <td>144.43</td>\n",
       "      <td>84.88</td>\n",
       "      <td>127.39</td>\n",
       "      <td>87.97</td>\n",
       "      <td>22.59</td>\n",
       "      <td>130.69</td>\n",
       "    </tr>\n",
       "  </tbody>\n",
       "</table>\n",
       "</div>"
      ],
      "text/plain": [
       "      Unnamed: 0     AGG     TLT    SHY     IEI    HYG   BKLN     LQD\n",
       "1256  2020-02-05  113.82  142.01  84.81  127.08  88.03  22.62  130.25\n",
       "1257  2020-02-06  113.89  142.65  84.83  127.09   88.1   22.6  130.19\n",
       "1258  2020-02-07  114.22  144.43  84.88  127.39  87.97  22.59  130.69\n",
       "1259  2020-02-07  114.22  144.43  84.88  127.39  87.97  22.59  130.69\n",
       "1260  2020-02-07  114.22  144.43  84.88  127.39  87.97  22.59  130.69"
      ]
     },
     "execution_count": 48,
     "metadata": {},
     "output_type": "execute_result"
    }
   ],
   "source": [
    "#Cleaning Up CSV by dropping NAs\n",
    "fixed_income_clean = fixed_income.dropna()\n",
    "fixed_income_clean.tail()"
   ]
  },
  {
   "cell_type": "code",
   "execution_count": 49,
   "metadata": {},
   "outputs": [
    {
     "data": {
      "text/html": [
       "<div>\n",
       "<style scoped>\n",
       "    .dataframe tbody tr th:only-of-type {\n",
       "        vertical-align: middle;\n",
       "    }\n",
       "\n",
       "    .dataframe tbody tr th {\n",
       "        vertical-align: top;\n",
       "    }\n",
       "\n",
       "    .dataframe thead th {\n",
       "        text-align: right;\n",
       "    }\n",
       "</style>\n",
       "<table border=\"1\" class=\"dataframe\">\n",
       "  <thead>\n",
       "    <tr style=\"text-align: right;\">\n",
       "      <th></th>\n",
       "      <th>Unnamed: 0</th>\n",
       "      <th>AGG</th>\n",
       "      <th>TLT</th>\n",
       "      <th>SHY</th>\n",
       "      <th>IEI</th>\n",
       "      <th>HYG</th>\n",
       "      <th>BKLN</th>\n",
       "      <th>LQD</th>\n",
       "    </tr>\n",
       "  </thead>\n",
       "  <tbody>\n",
       "    <tr>\n",
       "      <td>1254</td>\n",
       "      <td>2020-02-03</td>\n",
       "      <td>114.37</td>\n",
       "      <td>145.54</td>\n",
       "      <td>84.96</td>\n",
       "      <td>127.73</td>\n",
       "      <td>87.15</td>\n",
       "      <td>22.61</td>\n",
       "      <td>130.65</td>\n",
       "    </tr>\n",
       "    <tr>\n",
       "      <td>1255</td>\n",
       "      <td>2020-02-04</td>\n",
       "      <td>113.99</td>\n",
       "      <td>143.58</td>\n",
       "      <td>84.87</td>\n",
       "      <td>127.35</td>\n",
       "      <td>87.67</td>\n",
       "      <td>22.62</td>\n",
       "      <td>130.33</td>\n",
       "    </tr>\n",
       "    <tr>\n",
       "      <td>1256</td>\n",
       "      <td>2020-02-05</td>\n",
       "      <td>113.82</td>\n",
       "      <td>142.01</td>\n",
       "      <td>84.81</td>\n",
       "      <td>127.08</td>\n",
       "      <td>88.03</td>\n",
       "      <td>22.62</td>\n",
       "      <td>130.25</td>\n",
       "    </tr>\n",
       "    <tr>\n",
       "      <td>1257</td>\n",
       "      <td>2020-02-06</td>\n",
       "      <td>113.89</td>\n",
       "      <td>142.65</td>\n",
       "      <td>84.83</td>\n",
       "      <td>127.09</td>\n",
       "      <td>88.1</td>\n",
       "      <td>22.6</td>\n",
       "      <td>130.19</td>\n",
       "    </tr>\n",
       "    <tr>\n",
       "      <td>1258</td>\n",
       "      <td>2020-02-07</td>\n",
       "      <td>114.22</td>\n",
       "      <td>144.43</td>\n",
       "      <td>84.88</td>\n",
       "      <td>127.39</td>\n",
       "      <td>87.97</td>\n",
       "      <td>22.59</td>\n",
       "      <td>130.69</td>\n",
       "    </tr>\n",
       "  </tbody>\n",
       "</table>\n",
       "</div>"
      ],
      "text/plain": [
       "      Unnamed: 0     AGG     TLT    SHY     IEI    HYG   BKLN     LQD\n",
       "1254  2020-02-03  114.37  145.54  84.96  127.73  87.15  22.61  130.65\n",
       "1255  2020-02-04  113.99  143.58  84.87  127.35  87.67  22.62  130.33\n",
       "1256  2020-02-05  113.82  142.01  84.81  127.08  88.03  22.62  130.25\n",
       "1257  2020-02-06  113.89  142.65  84.83  127.09   88.1   22.6  130.19\n",
       "1258  2020-02-07  114.22  144.43  84.88  127.39  87.97  22.59  130.69"
      ]
     },
     "execution_count": 49,
     "metadata": {},
     "output_type": "execute_result"
    }
   ],
   "source": [
    "#Drop the final 2 rows \n",
    "fixed_income_clean_2 = fixed_income_clean.drop([1259,1260])\n",
    "fixed_income_clean_2.tail()"
   ]
  },
  {
   "cell_type": "code",
   "execution_count": 50,
   "metadata": {},
   "outputs": [
    {
     "data": {
      "text/html": [
       "<div>\n",
       "<style scoped>\n",
       "    .dataframe tbody tr th:only-of-type {\n",
       "        vertical-align: middle;\n",
       "    }\n",
       "\n",
       "    .dataframe tbody tr th {\n",
       "        vertical-align: top;\n",
       "    }\n",
       "\n",
       "    .dataframe thead th {\n",
       "        text-align: right;\n",
       "    }\n",
       "</style>\n",
       "<table border=\"1\" class=\"dataframe\">\n",
       "  <thead>\n",
       "    <tr style=\"text-align: right;\">\n",
       "      <th></th>\n",
       "      <th>AGG</th>\n",
       "      <th>TLT</th>\n",
       "      <th>SHY</th>\n",
       "      <th>IEI</th>\n",
       "      <th>HYG</th>\n",
       "      <th>BKLN</th>\n",
       "      <th>LQD</th>\n",
       "    </tr>\n",
       "    <tr>\n",
       "      <th>Unnamed: 0</th>\n",
       "      <th></th>\n",
       "      <th></th>\n",
       "      <th></th>\n",
       "      <th></th>\n",
       "      <th></th>\n",
       "      <th></th>\n",
       "      <th></th>\n",
       "    </tr>\n",
       "  </thead>\n",
       "  <tbody>\n",
       "    <tr>\n",
       "      <td>2015-02-11</td>\n",
       "      <td>110.87</td>\n",
       "      <td>129.95</td>\n",
       "      <td>84.61</td>\n",
       "      <td>123.09</td>\n",
       "      <td>91.0</td>\n",
       "      <td>24.07</td>\n",
       "      <td>121.0</td>\n",
       "    </tr>\n",
       "    <tr>\n",
       "      <td>2015-02-12</td>\n",
       "      <td>110.89</td>\n",
       "      <td>129.52</td>\n",
       "      <td>84.64</td>\n",
       "      <td>123.23</td>\n",
       "      <td>90.99</td>\n",
       "      <td>24.1</td>\n",
       "      <td>121.31</td>\n",
       "    </tr>\n",
       "    <tr>\n",
       "      <td>2015-02-13</td>\n",
       "      <td>110.76</td>\n",
       "      <td>128.19</td>\n",
       "      <td>84.64</td>\n",
       "      <td>123.09</td>\n",
       "      <td>91.12</td>\n",
       "      <td>24.02</td>\n",
       "      <td>120.83</td>\n",
       "    </tr>\n",
       "    <tr>\n",
       "      <td>2015-02-17</td>\n",
       "      <td>110.31</td>\n",
       "      <td>126.26</td>\n",
       "      <td>84.6</td>\n",
       "      <td>122.64</td>\n",
       "      <td>91.06</td>\n",
       "      <td>24.12</td>\n",
       "      <td>120.27</td>\n",
       "    </tr>\n",
       "    <tr>\n",
       "      <td>2015-02-18</td>\n",
       "      <td>110.62</td>\n",
       "      <td>127.01</td>\n",
       "      <td>84.7</td>\n",
       "      <td>123.08</td>\n",
       "      <td>91.37</td>\n",
       "      <td>24.11</td>\n",
       "      <td>120.7</td>\n",
       "    </tr>\n",
       "  </tbody>\n",
       "</table>\n",
       "</div>"
      ],
      "text/plain": [
       "               AGG     TLT    SHY     IEI    HYG   BKLN     LQD\n",
       "Unnamed: 0                                                     \n",
       "2015-02-11  110.87  129.95  84.61  123.09   91.0  24.07   121.0\n",
       "2015-02-12  110.89  129.52  84.64  123.23  90.99   24.1  121.31\n",
       "2015-02-13  110.76  128.19  84.64  123.09  91.12  24.02  120.83\n",
       "2015-02-17  110.31  126.26   84.6  122.64  91.06  24.12  120.27\n",
       "2015-02-18  110.62  127.01   84.7  123.08  91.37  24.11   120.7"
      ]
     },
     "execution_count": 50,
     "metadata": {},
     "output_type": "execute_result"
    }
   ],
   "source": [
    "#New Index Col for Fixed Income Data frame \n",
    "fixed_income_clean_3 = fixed_income_clean_2.set_index('Unnamed: 0')\n",
    "fixed_income_clean_3.head()"
   ]
  },
  {
   "cell_type": "code",
   "execution_count": 51,
   "metadata": {},
   "outputs": [
    {
     "data": {
      "text/html": [
       "<div>\n",
       "<style scoped>\n",
       "    .dataframe tbody tr th:only-of-type {\n",
       "        vertical-align: middle;\n",
       "    }\n",
       "\n",
       "    .dataframe tbody tr th {\n",
       "        vertical-align: top;\n",
       "    }\n",
       "\n",
       "    .dataframe thead th {\n",
       "        text-align: right;\n",
       "    }\n",
       "</style>\n",
       "<table border=\"1\" class=\"dataframe\">\n",
       "  <thead>\n",
       "    <tr style=\"text-align: right;\">\n",
       "      <th></th>\n",
       "      <th>AGG</th>\n",
       "      <th>TLT</th>\n",
       "      <th>SHY</th>\n",
       "      <th>IEI</th>\n",
       "      <th>HYG</th>\n",
       "      <th>BKLN</th>\n",
       "      <th>LQD</th>\n",
       "    </tr>\n",
       "    <tr>\n",
       "      <th>Date</th>\n",
       "      <th></th>\n",
       "      <th></th>\n",
       "      <th></th>\n",
       "      <th></th>\n",
       "      <th></th>\n",
       "      <th></th>\n",
       "      <th></th>\n",
       "    </tr>\n",
       "  </thead>\n",
       "  <tbody>\n",
       "    <tr>\n",
       "      <td>2015-02-11</td>\n",
       "      <td>110.87</td>\n",
       "      <td>129.95</td>\n",
       "      <td>84.61</td>\n",
       "      <td>123.09</td>\n",
       "      <td>91.0</td>\n",
       "      <td>24.07</td>\n",
       "      <td>121.0</td>\n",
       "    </tr>\n",
       "    <tr>\n",
       "      <td>2015-02-12</td>\n",
       "      <td>110.89</td>\n",
       "      <td>129.52</td>\n",
       "      <td>84.64</td>\n",
       "      <td>123.23</td>\n",
       "      <td>90.99</td>\n",
       "      <td>24.1</td>\n",
       "      <td>121.31</td>\n",
       "    </tr>\n",
       "    <tr>\n",
       "      <td>2015-02-13</td>\n",
       "      <td>110.76</td>\n",
       "      <td>128.19</td>\n",
       "      <td>84.64</td>\n",
       "      <td>123.09</td>\n",
       "      <td>91.12</td>\n",
       "      <td>24.02</td>\n",
       "      <td>120.83</td>\n",
       "    </tr>\n",
       "    <tr>\n",
       "      <td>2015-02-17</td>\n",
       "      <td>110.31</td>\n",
       "      <td>126.26</td>\n",
       "      <td>84.6</td>\n",
       "      <td>122.64</td>\n",
       "      <td>91.06</td>\n",
       "      <td>24.12</td>\n",
       "      <td>120.27</td>\n",
       "    </tr>\n",
       "    <tr>\n",
       "      <td>2015-02-18</td>\n",
       "      <td>110.62</td>\n",
       "      <td>127.01</td>\n",
       "      <td>84.7</td>\n",
       "      <td>123.08</td>\n",
       "      <td>91.37</td>\n",
       "      <td>24.11</td>\n",
       "      <td>120.7</td>\n",
       "    </tr>\n",
       "    <tr>\n",
       "      <td>...</td>\n",
       "      <td>...</td>\n",
       "      <td>...</td>\n",
       "      <td>...</td>\n",
       "      <td>...</td>\n",
       "      <td>...</td>\n",
       "      <td>...</td>\n",
       "      <td>...</td>\n",
       "    </tr>\n",
       "    <tr>\n",
       "      <td>2020-02-03</td>\n",
       "      <td>114.37</td>\n",
       "      <td>145.54</td>\n",
       "      <td>84.96</td>\n",
       "      <td>127.73</td>\n",
       "      <td>87.15</td>\n",
       "      <td>22.61</td>\n",
       "      <td>130.65</td>\n",
       "    </tr>\n",
       "    <tr>\n",
       "      <td>2020-02-04</td>\n",
       "      <td>113.99</td>\n",
       "      <td>143.58</td>\n",
       "      <td>84.87</td>\n",
       "      <td>127.35</td>\n",
       "      <td>87.67</td>\n",
       "      <td>22.62</td>\n",
       "      <td>130.33</td>\n",
       "    </tr>\n",
       "    <tr>\n",
       "      <td>2020-02-05</td>\n",
       "      <td>113.82</td>\n",
       "      <td>142.01</td>\n",
       "      <td>84.81</td>\n",
       "      <td>127.08</td>\n",
       "      <td>88.03</td>\n",
       "      <td>22.62</td>\n",
       "      <td>130.25</td>\n",
       "    </tr>\n",
       "    <tr>\n",
       "      <td>2020-02-06</td>\n",
       "      <td>113.89</td>\n",
       "      <td>142.65</td>\n",
       "      <td>84.83</td>\n",
       "      <td>127.09</td>\n",
       "      <td>88.1</td>\n",
       "      <td>22.6</td>\n",
       "      <td>130.19</td>\n",
       "    </tr>\n",
       "    <tr>\n",
       "      <td>2020-02-07</td>\n",
       "      <td>114.22</td>\n",
       "      <td>144.43</td>\n",
       "      <td>84.88</td>\n",
       "      <td>127.39</td>\n",
       "      <td>87.97</td>\n",
       "      <td>22.59</td>\n",
       "      <td>130.69</td>\n",
       "    </tr>\n",
       "  </tbody>\n",
       "</table>\n",
       "<p>1257 rows × 7 columns</p>\n",
       "</div>"
      ],
      "text/plain": [
       "               AGG     TLT    SHY     IEI    HYG   BKLN     LQD\n",
       "Date                                                           \n",
       "2015-02-11  110.87  129.95  84.61  123.09   91.0  24.07   121.0\n",
       "2015-02-12  110.89  129.52  84.64  123.23  90.99   24.1  121.31\n",
       "2015-02-13  110.76  128.19  84.64  123.09  91.12  24.02  120.83\n",
       "2015-02-17  110.31  126.26   84.6  122.64  91.06  24.12  120.27\n",
       "2015-02-18  110.62  127.01   84.7  123.08  91.37  24.11   120.7\n",
       "...            ...     ...    ...     ...    ...    ...     ...\n",
       "2020-02-03  114.37  145.54  84.96  127.73  87.15  22.61  130.65\n",
       "2020-02-04  113.99  143.58  84.87  127.35  87.67  22.62  130.33\n",
       "2020-02-05  113.82  142.01  84.81  127.08  88.03  22.62  130.25\n",
       "2020-02-06  113.89  142.65  84.83  127.09   88.1   22.6  130.19\n",
       "2020-02-07  114.22  144.43  84.88  127.39  87.97  22.59  130.69\n",
       "\n",
       "[1257 rows x 7 columns]"
      ]
     },
     "execution_count": 51,
     "metadata": {},
     "output_type": "execute_result"
    }
   ],
   "source": [
    "#Final Cleaning for Fixed Income DataFrame -> Setting Index to date \n",
    "final_fixed_income = fixed_income_clean_3.rename_axis('Date', axis='index')\n",
    "final_fixed_income"
   ]
  },
  {
   "cell_type": "code",
   "execution_count": 52,
   "metadata": {},
   "outputs": [
    {
     "data": {
      "text/html": [
       "<div>\n",
       "<style scoped>\n",
       "    .dataframe tbody tr th:only-of-type {\n",
       "        vertical-align: middle;\n",
       "    }\n",
       "\n",
       "    .dataframe tbody tr th {\n",
       "        vertical-align: top;\n",
       "    }\n",
       "\n",
       "    .dataframe thead th {\n",
       "        text-align: right;\n",
       "    }\n",
       "</style>\n",
       "<table border=\"1\" class=\"dataframe\">\n",
       "  <thead>\n",
       "    <tr style=\"text-align: right;\">\n",
       "      <th></th>\n",
       "      <th>AGG</th>\n",
       "      <th>TLT</th>\n",
       "      <th>SHY</th>\n",
       "      <th>IEI</th>\n",
       "      <th>HYG</th>\n",
       "      <th>BKLN</th>\n",
       "      <th>LQD</th>\n",
       "    </tr>\n",
       "    <tr>\n",
       "      <th>Date</th>\n",
       "      <th></th>\n",
       "      <th></th>\n",
       "      <th></th>\n",
       "      <th></th>\n",
       "      <th></th>\n",
       "      <th></th>\n",
       "      <th></th>\n",
       "    </tr>\n",
       "  </thead>\n",
       "  <tbody>\n",
       "    <tr>\n",
       "      <td>2015-02-11</td>\n",
       "      <td>NaN</td>\n",
       "      <td>NaN</td>\n",
       "      <td>NaN</td>\n",
       "      <td>NaN</td>\n",
       "      <td>NaN</td>\n",
       "      <td>NaN</td>\n",
       "      <td>NaN</td>\n",
       "    </tr>\n",
       "    <tr>\n",
       "      <td>2015-02-12</td>\n",
       "      <td>0.000180</td>\n",
       "      <td>-0.003309</td>\n",
       "      <td>0.000355</td>\n",
       "      <td>0.001137</td>\n",
       "      <td>-0.000110</td>\n",
       "      <td>0.001246</td>\n",
       "      <td>0.002562</td>\n",
       "    </tr>\n",
       "    <tr>\n",
       "      <td>2015-02-13</td>\n",
       "      <td>-0.001172</td>\n",
       "      <td>-0.010269</td>\n",
       "      <td>0.000000</td>\n",
       "      <td>-0.001136</td>\n",
       "      <td>0.001429</td>\n",
       "      <td>-0.003320</td>\n",
       "      <td>-0.003957</td>\n",
       "    </tr>\n",
       "    <tr>\n",
       "      <td>2015-02-17</td>\n",
       "      <td>-0.004063</td>\n",
       "      <td>-0.015056</td>\n",
       "      <td>-0.000473</td>\n",
       "      <td>-0.003656</td>\n",
       "      <td>-0.000658</td>\n",
       "      <td>0.004163</td>\n",
       "      <td>-0.004635</td>\n",
       "    </tr>\n",
       "    <tr>\n",
       "      <td>2015-02-18</td>\n",
       "      <td>0.002810</td>\n",
       "      <td>0.005940</td>\n",
       "      <td>0.001182</td>\n",
       "      <td>0.003588</td>\n",
       "      <td>0.003404</td>\n",
       "      <td>-0.000415</td>\n",
       "      <td>0.003575</td>\n",
       "    </tr>\n",
       "    <tr>\n",
       "      <td>...</td>\n",
       "      <td>...</td>\n",
       "      <td>...</td>\n",
       "      <td>...</td>\n",
       "      <td>...</td>\n",
       "      <td>...</td>\n",
       "      <td>...</td>\n",
       "      <td>...</td>\n",
       "    </tr>\n",
       "    <tr>\n",
       "      <td>2020-02-03</td>\n",
       "      <td>-0.002442</td>\n",
       "      <td>-0.002467</td>\n",
       "      <td>-0.001880</td>\n",
       "      <td>-0.002577</td>\n",
       "      <td>-0.004341</td>\n",
       "      <td>0.000000</td>\n",
       "      <td>-0.003356</td>\n",
       "    </tr>\n",
       "    <tr>\n",
       "      <td>2020-02-04</td>\n",
       "      <td>-0.003323</td>\n",
       "      <td>-0.013467</td>\n",
       "      <td>-0.001059</td>\n",
       "      <td>-0.002975</td>\n",
       "      <td>0.005967</td>\n",
       "      <td>0.000442</td>\n",
       "      <td>-0.002449</td>\n",
       "    </tr>\n",
       "    <tr>\n",
       "      <td>2020-02-05</td>\n",
       "      <td>-0.001491</td>\n",
       "      <td>-0.010935</td>\n",
       "      <td>-0.000707</td>\n",
       "      <td>-0.002120</td>\n",
       "      <td>0.004106</td>\n",
       "      <td>0.000000</td>\n",
       "      <td>-0.000614</td>\n",
       "    </tr>\n",
       "    <tr>\n",
       "      <td>2020-02-06</td>\n",
       "      <td>0.000615</td>\n",
       "      <td>0.004507</td>\n",
       "      <td>0.000236</td>\n",
       "      <td>0.000079</td>\n",
       "      <td>0.000795</td>\n",
       "      <td>-0.000884</td>\n",
       "      <td>-0.000461</td>\n",
       "    </tr>\n",
       "    <tr>\n",
       "      <td>2020-02-07</td>\n",
       "      <td>0.002898</td>\n",
       "      <td>0.012478</td>\n",
       "      <td>0.000589</td>\n",
       "      <td>0.002361</td>\n",
       "      <td>-0.001476</td>\n",
       "      <td>-0.000442</td>\n",
       "      <td>0.003841</td>\n",
       "    </tr>\n",
       "  </tbody>\n",
       "</table>\n",
       "<p>1257 rows × 7 columns</p>\n",
       "</div>"
      ],
      "text/plain": [
       "                 AGG       TLT       SHY       IEI       HYG      BKLN  \\\n",
       "Date                                                                     \n",
       "2015-02-11       NaN       NaN       NaN       NaN       NaN       NaN   \n",
       "2015-02-12  0.000180 -0.003309  0.000355  0.001137 -0.000110  0.001246   \n",
       "2015-02-13 -0.001172 -0.010269  0.000000 -0.001136  0.001429 -0.003320   \n",
       "2015-02-17 -0.004063 -0.015056 -0.000473 -0.003656 -0.000658  0.004163   \n",
       "2015-02-18  0.002810  0.005940  0.001182  0.003588  0.003404 -0.000415   \n",
       "...              ...       ...       ...       ...       ...       ...   \n",
       "2020-02-03 -0.002442 -0.002467 -0.001880 -0.002577 -0.004341  0.000000   \n",
       "2020-02-04 -0.003323 -0.013467 -0.001059 -0.002975  0.005967  0.000442   \n",
       "2020-02-05 -0.001491 -0.010935 -0.000707 -0.002120  0.004106  0.000000   \n",
       "2020-02-06  0.000615  0.004507  0.000236  0.000079  0.000795 -0.000884   \n",
       "2020-02-07  0.002898  0.012478  0.000589  0.002361 -0.001476 -0.000442   \n",
       "\n",
       "                 LQD  \n",
       "Date                  \n",
       "2015-02-11       NaN  \n",
       "2015-02-12  0.002562  \n",
       "2015-02-13 -0.003957  \n",
       "2015-02-17 -0.004635  \n",
       "2015-02-18  0.003575  \n",
       "...              ...  \n",
       "2020-02-03 -0.003356  \n",
       "2020-02-04 -0.002449  \n",
       "2020-02-05 -0.000614  \n",
       "2020-02-06 -0.000461  \n",
       "2020-02-07  0.003841  \n",
       "\n",
       "[1257 rows x 7 columns]"
      ]
     },
     "execution_count": 52,
     "metadata": {},
     "output_type": "execute_result"
    }
   ],
   "source": [
    "#Fixed Income Returns \n",
    "fixed_returns = final_fixed_income.astype(float).pct_change()\n",
    "fixed_returns"
   ]
  },
  {
   "cell_type": "code",
   "execution_count": 53,
   "metadata": {},
   "outputs": [],
   "source": [
    "#list_of_tickers = [\"SPY\"]\n",
    "# Set Dates\n",
    "end_date = datetime.now()\n",
    "start_date = end_date + timedelta(-1825)\n",
    "\n",
    "#Pull Data From IEX Finance\n",
    "#spy_df = get_historical_data('SPY', start_date, end_date, close_only=True, output_format='pandas')\n",
    "#spy_df.drop(columns='volume',inplace=True)\n",
    "#spy_df.head()"
   ]
  },
  {
   "cell_type": "code",
   "execution_count": 54,
   "metadata": {},
   "outputs": [],
   "source": [
    "#S&P Data Pull To CSV\n",
    "spy_df.to_csv('spy_returns.csv')"
   ]
  },
  {
   "cell_type": "code",
   "execution_count": 55,
   "metadata": {},
   "outputs": [
    {
     "data": {
      "text/html": [
       "<div>\n",
       "<style scoped>\n",
       "    .dataframe tbody tr th:only-of-type {\n",
       "        vertical-align: middle;\n",
       "    }\n",
       "\n",
       "    .dataframe tbody tr th {\n",
       "        vertical-align: top;\n",
       "    }\n",
       "\n",
       "    .dataframe thead th {\n",
       "        text-align: right;\n",
       "    }\n",
       "</style>\n",
       "<table border=\"1\" class=\"dataframe\">\n",
       "  <thead>\n",
       "    <tr style=\"text-align: right;\">\n",
       "      <th></th>\n",
       "      <th>date</th>\n",
       "      <th>close</th>\n",
       "    </tr>\n",
       "  </thead>\n",
       "  <tbody>\n",
       "    <tr>\n",
       "      <td>0</td>\n",
       "      <td>2015-02-11</td>\n",
       "      <td>206.93</td>\n",
       "    </tr>\n",
       "    <tr>\n",
       "      <td>1</td>\n",
       "      <td>2015-02-12</td>\n",
       "      <td>208.92</td>\n",
       "    </tr>\n",
       "    <tr>\n",
       "      <td>2</td>\n",
       "      <td>2015-02-13</td>\n",
       "      <td>209.78</td>\n",
       "    </tr>\n",
       "    <tr>\n",
       "      <td>3</td>\n",
       "      <td>2015-02-17</td>\n",
       "      <td>210.11</td>\n",
       "    </tr>\n",
       "    <tr>\n",
       "      <td>4</td>\n",
       "      <td>2015-02-18</td>\n",
       "      <td>210.13</td>\n",
       "    </tr>\n",
       "  </tbody>\n",
       "</table>\n",
       "</div>"
      ],
      "text/plain": [
       "         date   close\n",
       "0  2015-02-11  206.93\n",
       "1  2015-02-12  208.92\n",
       "2  2015-02-13  209.78\n",
       "3  2015-02-17  210.11\n",
       "4  2015-02-18  210.13"
      ]
     },
     "execution_count": 55,
     "metadata": {},
     "output_type": "execute_result"
    }
   ],
   "source": [
    "#Read In S&P 500 Prices\n",
    "spy_org = pd.read_csv('spy_returns.csv')\n",
    "spy_org.head()"
   ]
  },
  {
   "cell_type": "code",
   "execution_count": 33,
   "metadata": {},
   "outputs": [
    {
     "data": {
      "text/html": [
       "<div>\n",
       "<style scoped>\n",
       "    .dataframe tbody tr th:only-of-type {\n",
       "        vertical-align: middle;\n",
       "    }\n",
       "\n",
       "    .dataframe tbody tr th {\n",
       "        vertical-align: top;\n",
       "    }\n",
       "\n",
       "    .dataframe thead th {\n",
       "        text-align: right;\n",
       "    }\n",
       "</style>\n",
       "<table border=\"1\" class=\"dataframe\">\n",
       "  <thead>\n",
       "    <tr style=\"text-align: right;\">\n",
       "      <th></th>\n",
       "      <th>date</th>\n",
       "      <th>close</th>\n",
       "    </tr>\n",
       "  </thead>\n",
       "  <tbody>\n",
       "    <tr>\n",
       "      <td>1254</td>\n",
       "      <td>2020-02-05</td>\n",
       "      <td>332.86</td>\n",
       "    </tr>\n",
       "    <tr>\n",
       "      <td>1255</td>\n",
       "      <td>2020-02-06</td>\n",
       "      <td>333.98</td>\n",
       "    </tr>\n",
       "    <tr>\n",
       "      <td>1256</td>\n",
       "      <td>2020-02-07</td>\n",
       "      <td>332.20</td>\n",
       "    </tr>\n",
       "    <tr>\n",
       "      <td>1257</td>\n",
       "      <td>2020-02-07</td>\n",
       "      <td>332.20</td>\n",
       "    </tr>\n",
       "    <tr>\n",
       "      <td>1258</td>\n",
       "      <td>2020-02-07</td>\n",
       "      <td>332.20</td>\n",
       "    </tr>\n",
       "  </tbody>\n",
       "</table>\n",
       "</div>"
      ],
      "text/plain": [
       "            date   close\n",
       "1254  2020-02-05  332.86\n",
       "1255  2020-02-06  333.98\n",
       "1256  2020-02-07  332.20\n",
       "1257  2020-02-07  332.20\n",
       "1258  2020-02-07  332.20"
      ]
     },
     "execution_count": 33,
     "metadata": {},
     "output_type": "execute_result"
    }
   ],
   "source": [
    "#Cleaning Up CSV by dropping NAs\n",
    "spy_clean = spy_org.dropna()\n",
    "spy_clean.tail()"
   ]
  },
  {
   "cell_type": "code",
   "execution_count": 34,
   "metadata": {},
   "outputs": [
    {
     "data": {
      "text/html": [
       "<div>\n",
       "<style scoped>\n",
       "    .dataframe tbody tr th:only-of-type {\n",
       "        vertical-align: middle;\n",
       "    }\n",
       "\n",
       "    .dataframe tbody tr th {\n",
       "        vertical-align: top;\n",
       "    }\n",
       "\n",
       "    .dataframe thead th {\n",
       "        text-align: right;\n",
       "    }\n",
       "</style>\n",
       "<table border=\"1\" class=\"dataframe\">\n",
       "  <thead>\n",
       "    <tr style=\"text-align: right;\">\n",
       "      <th></th>\n",
       "      <th>date</th>\n",
       "      <th>close</th>\n",
       "    </tr>\n",
       "  </thead>\n",
       "  <tbody>\n",
       "    <tr>\n",
       "      <td>1252</td>\n",
       "      <td>2020-02-03</td>\n",
       "      <td>324.12</td>\n",
       "    </tr>\n",
       "    <tr>\n",
       "      <td>1253</td>\n",
       "      <td>2020-02-04</td>\n",
       "      <td>329.06</td>\n",
       "    </tr>\n",
       "    <tr>\n",
       "      <td>1254</td>\n",
       "      <td>2020-02-05</td>\n",
       "      <td>332.86</td>\n",
       "    </tr>\n",
       "    <tr>\n",
       "      <td>1255</td>\n",
       "      <td>2020-02-06</td>\n",
       "      <td>333.98</td>\n",
       "    </tr>\n",
       "    <tr>\n",
       "      <td>1256</td>\n",
       "      <td>2020-02-07</td>\n",
       "      <td>332.20</td>\n",
       "    </tr>\n",
       "  </tbody>\n",
       "</table>\n",
       "</div>"
      ],
      "text/plain": [
       "            date   close\n",
       "1252  2020-02-03  324.12\n",
       "1253  2020-02-04  329.06\n",
       "1254  2020-02-05  332.86\n",
       "1255  2020-02-06  333.98\n",
       "1256  2020-02-07  332.20"
      ]
     },
     "execution_count": 34,
     "metadata": {},
     "output_type": "execute_result"
    }
   ],
   "source": [
    "#Drop the final 2 rows \n",
    "spy_clean_2 = spy_clean.drop([1257,1258])\n",
    "spy_clean_2.tail()"
   ]
  },
  {
   "cell_type": "code",
   "execution_count": 35,
   "metadata": {},
   "outputs": [
    {
     "data": {
      "text/html": [
       "<div>\n",
       "<style scoped>\n",
       "    .dataframe tbody tr th:only-of-type {\n",
       "        vertical-align: middle;\n",
       "    }\n",
       "\n",
       "    .dataframe tbody tr th {\n",
       "        vertical-align: top;\n",
       "    }\n",
       "\n",
       "    .dataframe thead th {\n",
       "        text-align: right;\n",
       "    }\n",
       "</style>\n",
       "<table border=\"1\" class=\"dataframe\">\n",
       "  <thead>\n",
       "    <tr style=\"text-align: right;\">\n",
       "      <th></th>\n",
       "      <th>close</th>\n",
       "    </tr>\n",
       "    <tr>\n",
       "      <th>date</th>\n",
       "      <th></th>\n",
       "    </tr>\n",
       "  </thead>\n",
       "  <tbody>\n",
       "    <tr>\n",
       "      <td>2015-02-11</td>\n",
       "      <td>206.93</td>\n",
       "    </tr>\n",
       "    <tr>\n",
       "      <td>2015-02-12</td>\n",
       "      <td>208.92</td>\n",
       "    </tr>\n",
       "    <tr>\n",
       "      <td>2015-02-13</td>\n",
       "      <td>209.78</td>\n",
       "    </tr>\n",
       "    <tr>\n",
       "      <td>2015-02-17</td>\n",
       "      <td>210.11</td>\n",
       "    </tr>\n",
       "    <tr>\n",
       "      <td>2015-02-18</td>\n",
       "      <td>210.13</td>\n",
       "    </tr>\n",
       "  </tbody>\n",
       "</table>\n",
       "</div>"
      ],
      "text/plain": [
       "             close\n",
       "date              \n",
       "2015-02-11  206.93\n",
       "2015-02-12  208.92\n",
       "2015-02-13  209.78\n",
       "2015-02-17  210.11\n",
       "2015-02-18  210.13"
      ]
     },
     "execution_count": 35,
     "metadata": {},
     "output_type": "execute_result"
    }
   ],
   "source": [
    "#New Index Col for SPY Data frame \n",
    "spy_clean_3 = spy_clean_2.set_index('date')\n",
    "spy_clean_3.head()"
   ]
  },
  {
   "cell_type": "code",
   "execution_count": 36,
   "metadata": {},
   "outputs": [
    {
     "data": {
      "text/html": [
       "<div>\n",
       "<style scoped>\n",
       "    .dataframe tbody tr th:only-of-type {\n",
       "        vertical-align: middle;\n",
       "    }\n",
       "\n",
       "    .dataframe tbody tr th {\n",
       "        vertical-align: top;\n",
       "    }\n",
       "\n",
       "    .dataframe thead th {\n",
       "        text-align: right;\n",
       "    }\n",
       "</style>\n",
       "<table border=\"1\" class=\"dataframe\">\n",
       "  <thead>\n",
       "    <tr style=\"text-align: right;\">\n",
       "      <th></th>\n",
       "      <th>close</th>\n",
       "    </tr>\n",
       "    <tr>\n",
       "      <th>Date</th>\n",
       "      <th></th>\n",
       "    </tr>\n",
       "  </thead>\n",
       "  <tbody>\n",
       "    <tr>\n",
       "      <td>2015-02-11</td>\n",
       "      <td>206.93</td>\n",
       "    </tr>\n",
       "    <tr>\n",
       "      <td>2015-02-12</td>\n",
       "      <td>208.92</td>\n",
       "    </tr>\n",
       "    <tr>\n",
       "      <td>2015-02-13</td>\n",
       "      <td>209.78</td>\n",
       "    </tr>\n",
       "    <tr>\n",
       "      <td>2015-02-17</td>\n",
       "      <td>210.11</td>\n",
       "    </tr>\n",
       "    <tr>\n",
       "      <td>2015-02-18</td>\n",
       "      <td>210.13</td>\n",
       "    </tr>\n",
       "  </tbody>\n",
       "</table>\n",
       "</div>"
      ],
      "text/plain": [
       "             close\n",
       "Date              \n",
       "2015-02-11  206.93\n",
       "2015-02-12  208.92\n",
       "2015-02-13  209.78\n",
       "2015-02-17  210.11\n",
       "2015-02-18  210.13"
      ]
     },
     "execution_count": 36,
     "metadata": {},
     "output_type": "execute_result"
    }
   ],
   "source": [
    "#Cleaning for SPY DataFrame -> Setting Index to date \n",
    "spy_clean_4 = spy_clean_3.rename_axis('Date', axis='index')\n",
    "spy_clean_4.head()"
   ]
  },
  {
   "cell_type": "code",
   "execution_count": 37,
   "metadata": {},
   "outputs": [
    {
     "data": {
      "text/html": [
       "<div>\n",
       "<style scoped>\n",
       "    .dataframe tbody tr th:only-of-type {\n",
       "        vertical-align: middle;\n",
       "    }\n",
       "\n",
       "    .dataframe tbody tr th {\n",
       "        vertical-align: top;\n",
       "    }\n",
       "\n",
       "    .dataframe thead th {\n",
       "        text-align: right;\n",
       "    }\n",
       "</style>\n",
       "<table border=\"1\" class=\"dataframe\">\n",
       "  <thead>\n",
       "    <tr style=\"text-align: right;\">\n",
       "      <th></th>\n",
       "      <th>SPY</th>\n",
       "    </tr>\n",
       "    <tr>\n",
       "      <th>Date</th>\n",
       "      <th></th>\n",
       "    </tr>\n",
       "  </thead>\n",
       "  <tbody>\n",
       "    <tr>\n",
       "      <td>2015-02-11</td>\n",
       "      <td>206.93</td>\n",
       "    </tr>\n",
       "    <tr>\n",
       "      <td>2015-02-12</td>\n",
       "      <td>208.92</td>\n",
       "    </tr>\n",
       "    <tr>\n",
       "      <td>2015-02-13</td>\n",
       "      <td>209.78</td>\n",
       "    </tr>\n",
       "    <tr>\n",
       "      <td>2015-02-17</td>\n",
       "      <td>210.11</td>\n",
       "    </tr>\n",
       "    <tr>\n",
       "      <td>2015-02-18</td>\n",
       "      <td>210.13</td>\n",
       "    </tr>\n",
       "    <tr>\n",
       "      <td>...</td>\n",
       "      <td>...</td>\n",
       "    </tr>\n",
       "    <tr>\n",
       "      <td>2020-02-03</td>\n",
       "      <td>324.12</td>\n",
       "    </tr>\n",
       "    <tr>\n",
       "      <td>2020-02-04</td>\n",
       "      <td>329.06</td>\n",
       "    </tr>\n",
       "    <tr>\n",
       "      <td>2020-02-05</td>\n",
       "      <td>332.86</td>\n",
       "    </tr>\n",
       "    <tr>\n",
       "      <td>2020-02-06</td>\n",
       "      <td>333.98</td>\n",
       "    </tr>\n",
       "    <tr>\n",
       "      <td>2020-02-07</td>\n",
       "      <td>332.20</td>\n",
       "    </tr>\n",
       "  </tbody>\n",
       "</table>\n",
       "<p>1257 rows × 1 columns</p>\n",
       "</div>"
      ],
      "text/plain": [
       "               SPY\n",
       "Date              \n",
       "2015-02-11  206.93\n",
       "2015-02-12  208.92\n",
       "2015-02-13  209.78\n",
       "2015-02-17  210.11\n",
       "2015-02-18  210.13\n",
       "...            ...\n",
       "2020-02-03  324.12\n",
       "2020-02-04  329.06\n",
       "2020-02-05  332.86\n",
       "2020-02-06  333.98\n",
       "2020-02-07  332.20\n",
       "\n",
       "[1257 rows x 1 columns]"
      ]
     },
     "execution_count": 37,
     "metadata": {},
     "output_type": "execute_result"
    }
   ],
   "source": [
    "#Set Close to SPY for Final DataFrame\n",
    "spy_final = spy_clean_4.rename(columns = {'close':'SPY'})\n",
    "spy_final"
   ]
  },
  {
   "cell_type": "code",
   "execution_count": 41,
   "metadata": {},
   "outputs": [
    {
     "data": {
      "text/html": [
       "<div>\n",
       "<style scoped>\n",
       "    .dataframe tbody tr th:only-of-type {\n",
       "        vertical-align: middle;\n",
       "    }\n",
       "\n",
       "    .dataframe tbody tr th {\n",
       "        vertical-align: top;\n",
       "    }\n",
       "\n",
       "    .dataframe thead th {\n",
       "        text-align: right;\n",
       "    }\n",
       "</style>\n",
       "<table border=\"1\" class=\"dataframe\">\n",
       "  <thead>\n",
       "    <tr style=\"text-align: right;\">\n",
       "      <th></th>\n",
       "      <th>SPY</th>\n",
       "    </tr>\n",
       "    <tr>\n",
       "      <th>Date</th>\n",
       "      <th></th>\n",
       "    </tr>\n",
       "  </thead>\n",
       "  <tbody>\n",
       "    <tr>\n",
       "      <td>2015-02-11</td>\n",
       "      <td>NaN</td>\n",
       "    </tr>\n",
       "    <tr>\n",
       "      <td>2015-02-12</td>\n",
       "      <td>0.009617</td>\n",
       "    </tr>\n",
       "    <tr>\n",
       "      <td>2015-02-13</td>\n",
       "      <td>0.004116</td>\n",
       "    </tr>\n",
       "    <tr>\n",
       "      <td>2015-02-17</td>\n",
       "      <td>0.001573</td>\n",
       "    </tr>\n",
       "    <tr>\n",
       "      <td>2015-02-18</td>\n",
       "      <td>0.000095</td>\n",
       "    </tr>\n",
       "    <tr>\n",
       "      <td>...</td>\n",
       "      <td>...</td>\n",
       "    </tr>\n",
       "    <tr>\n",
       "      <td>2020-02-03</td>\n",
       "      <td>0.007429</td>\n",
       "    </tr>\n",
       "    <tr>\n",
       "      <td>2020-02-04</td>\n",
       "      <td>0.015241</td>\n",
       "    </tr>\n",
       "    <tr>\n",
       "      <td>2020-02-05</td>\n",
       "      <td>0.011548</td>\n",
       "    </tr>\n",
       "    <tr>\n",
       "      <td>2020-02-06</td>\n",
       "      <td>0.003365</td>\n",
       "    </tr>\n",
       "    <tr>\n",
       "      <td>2020-02-07</td>\n",
       "      <td>-0.005330</td>\n",
       "    </tr>\n",
       "  </tbody>\n",
       "</table>\n",
       "<p>1257 rows × 1 columns</p>\n",
       "</div>"
      ],
      "text/plain": [
       "                 SPY\n",
       "Date                \n",
       "2015-02-11       NaN\n",
       "2015-02-12  0.009617\n",
       "2015-02-13  0.004116\n",
       "2015-02-17  0.001573\n",
       "2015-02-18  0.000095\n",
       "...              ...\n",
       "2020-02-03  0.007429\n",
       "2020-02-04  0.015241\n",
       "2020-02-05  0.011548\n",
       "2020-02-06  0.003365\n",
       "2020-02-07 -0.005330\n",
       "\n",
       "[1257 rows x 1 columns]"
      ]
     },
     "execution_count": 41,
     "metadata": {},
     "output_type": "execute_result"
    }
   ],
   "source": [
    "#SPY Returns \n",
    "spy_returns = spy_final.astype(float).pct_change()\n",
    "spy_returns"
   ]
  },
  {
   "cell_type": "code",
   "execution_count": 42,
   "metadata": {},
   "outputs": [
    {
     "data": {
      "text/html": [
       "<div>\n",
       "<style scoped>\n",
       "    .dataframe tbody tr th:only-of-type {\n",
       "        vertical-align: middle;\n",
       "    }\n",
       "\n",
       "    .dataframe tbody tr th {\n",
       "        vertical-align: top;\n",
       "    }\n",
       "\n",
       "    .dataframe thead th {\n",
       "        text-align: right;\n",
       "    }\n",
       "</style>\n",
       "<table border=\"1\" class=\"dataframe\">\n",
       "  <thead>\n",
       "    <tr style=\"text-align: right;\">\n",
       "      <th></th>\n",
       "      <th>AGG</th>\n",
       "      <th>TLT</th>\n",
       "      <th>SHY</th>\n",
       "      <th>IEI</th>\n",
       "      <th>HYG</th>\n",
       "      <th>BKLN</th>\n",
       "      <th>LQD</th>\n",
       "      <th>SPY</th>\n",
       "    </tr>\n",
       "    <tr>\n",
       "      <th>Date</th>\n",
       "      <th></th>\n",
       "      <th></th>\n",
       "      <th></th>\n",
       "      <th></th>\n",
       "      <th></th>\n",
       "      <th></th>\n",
       "      <th></th>\n",
       "      <th></th>\n",
       "    </tr>\n",
       "  </thead>\n",
       "  <tbody>\n",
       "    <tr>\n",
       "      <td>2015-02-11</td>\n",
       "      <td>NaN</td>\n",
       "      <td>NaN</td>\n",
       "      <td>NaN</td>\n",
       "      <td>NaN</td>\n",
       "      <td>NaN</td>\n",
       "      <td>NaN</td>\n",
       "      <td>NaN</td>\n",
       "      <td>NaN</td>\n",
       "    </tr>\n",
       "    <tr>\n",
       "      <td>2015-02-12</td>\n",
       "      <td>0.000180</td>\n",
       "      <td>-0.003309</td>\n",
       "      <td>0.000355</td>\n",
       "      <td>0.001137</td>\n",
       "      <td>-0.000110</td>\n",
       "      <td>0.001246</td>\n",
       "      <td>0.002562</td>\n",
       "      <td>0.009617</td>\n",
       "    </tr>\n",
       "    <tr>\n",
       "      <td>2015-02-13</td>\n",
       "      <td>-0.001172</td>\n",
       "      <td>-0.010269</td>\n",
       "      <td>0.000000</td>\n",
       "      <td>-0.001136</td>\n",
       "      <td>0.001429</td>\n",
       "      <td>-0.003320</td>\n",
       "      <td>-0.003957</td>\n",
       "      <td>0.004116</td>\n",
       "    </tr>\n",
       "    <tr>\n",
       "      <td>2015-02-17</td>\n",
       "      <td>-0.004063</td>\n",
       "      <td>-0.015056</td>\n",
       "      <td>-0.000473</td>\n",
       "      <td>-0.003656</td>\n",
       "      <td>-0.000658</td>\n",
       "      <td>0.004163</td>\n",
       "      <td>-0.004635</td>\n",
       "      <td>0.001573</td>\n",
       "    </tr>\n",
       "    <tr>\n",
       "      <td>2015-02-18</td>\n",
       "      <td>0.002810</td>\n",
       "      <td>0.005940</td>\n",
       "      <td>0.001182</td>\n",
       "      <td>0.003588</td>\n",
       "      <td>0.003404</td>\n",
       "      <td>-0.000415</td>\n",
       "      <td>0.003575</td>\n",
       "      <td>0.000095</td>\n",
       "    </tr>\n",
       "    <tr>\n",
       "      <td>...</td>\n",
       "      <td>...</td>\n",
       "      <td>...</td>\n",
       "      <td>...</td>\n",
       "      <td>...</td>\n",
       "      <td>...</td>\n",
       "      <td>...</td>\n",
       "      <td>...</td>\n",
       "      <td>...</td>\n",
       "    </tr>\n",
       "    <tr>\n",
       "      <td>2020-02-03</td>\n",
       "      <td>-0.002442</td>\n",
       "      <td>-0.002467</td>\n",
       "      <td>-0.001880</td>\n",
       "      <td>-0.002577</td>\n",
       "      <td>-0.004341</td>\n",
       "      <td>0.000000</td>\n",
       "      <td>-0.003356</td>\n",
       "      <td>0.007429</td>\n",
       "    </tr>\n",
       "    <tr>\n",
       "      <td>2020-02-04</td>\n",
       "      <td>-0.003323</td>\n",
       "      <td>-0.013467</td>\n",
       "      <td>-0.001059</td>\n",
       "      <td>-0.002975</td>\n",
       "      <td>0.005967</td>\n",
       "      <td>0.000442</td>\n",
       "      <td>-0.002449</td>\n",
       "      <td>0.015241</td>\n",
       "    </tr>\n",
       "    <tr>\n",
       "      <td>2020-02-05</td>\n",
       "      <td>-0.001491</td>\n",
       "      <td>-0.010935</td>\n",
       "      <td>-0.000707</td>\n",
       "      <td>-0.002120</td>\n",
       "      <td>0.004106</td>\n",
       "      <td>0.000000</td>\n",
       "      <td>-0.000614</td>\n",
       "      <td>0.011548</td>\n",
       "    </tr>\n",
       "    <tr>\n",
       "      <td>2020-02-06</td>\n",
       "      <td>0.000615</td>\n",
       "      <td>0.004507</td>\n",
       "      <td>0.000236</td>\n",
       "      <td>0.000079</td>\n",
       "      <td>0.000795</td>\n",
       "      <td>-0.000884</td>\n",
       "      <td>-0.000461</td>\n",
       "      <td>0.003365</td>\n",
       "    </tr>\n",
       "    <tr>\n",
       "      <td>2020-02-07</td>\n",
       "      <td>0.002898</td>\n",
       "      <td>0.012478</td>\n",
       "      <td>0.000589</td>\n",
       "      <td>0.002361</td>\n",
       "      <td>-0.001476</td>\n",
       "      <td>-0.000442</td>\n",
       "      <td>0.003841</td>\n",
       "      <td>-0.005330</td>\n",
       "    </tr>\n",
       "  </tbody>\n",
       "</table>\n",
       "<p>1257 rows × 8 columns</p>\n",
       "</div>"
      ],
      "text/plain": [
       "                 AGG       TLT       SHY       IEI       HYG      BKLN  \\\n",
       "Date                                                                     \n",
       "2015-02-11       NaN       NaN       NaN       NaN       NaN       NaN   \n",
       "2015-02-12  0.000180 -0.003309  0.000355  0.001137 -0.000110  0.001246   \n",
       "2015-02-13 -0.001172 -0.010269  0.000000 -0.001136  0.001429 -0.003320   \n",
       "2015-02-17 -0.004063 -0.015056 -0.000473 -0.003656 -0.000658  0.004163   \n",
       "2015-02-18  0.002810  0.005940  0.001182  0.003588  0.003404 -0.000415   \n",
       "...              ...       ...       ...       ...       ...       ...   \n",
       "2020-02-03 -0.002442 -0.002467 -0.001880 -0.002577 -0.004341  0.000000   \n",
       "2020-02-04 -0.003323 -0.013467 -0.001059 -0.002975  0.005967  0.000442   \n",
       "2020-02-05 -0.001491 -0.010935 -0.000707 -0.002120  0.004106  0.000000   \n",
       "2020-02-06  0.000615  0.004507  0.000236  0.000079  0.000795 -0.000884   \n",
       "2020-02-07  0.002898  0.012478  0.000589  0.002361 -0.001476 -0.000442   \n",
       "\n",
       "                 LQD       SPY  \n",
       "Date                            \n",
       "2015-02-11       NaN       NaN  \n",
       "2015-02-12  0.002562  0.009617  \n",
       "2015-02-13 -0.003957  0.004116  \n",
       "2015-02-17 -0.004635  0.001573  \n",
       "2015-02-18  0.003575  0.000095  \n",
       "...              ...       ...  \n",
       "2020-02-03 -0.003356  0.007429  \n",
       "2020-02-04 -0.002449  0.015241  \n",
       "2020-02-05 -0.000614  0.011548  \n",
       "2020-02-06 -0.000461  0.003365  \n",
       "2020-02-07  0.003841 -0.005330  \n",
       "\n",
       "[1257 rows x 8 columns]"
      ]
     },
     "execution_count": 42,
     "metadata": {},
     "output_type": "execute_result"
    }
   ],
   "source": [
    "#Concat SPY with Fixed Income\n",
    "rtns_universe = pd.concat([fixed_returns, spy_returns],axis = 'columns', join = 'inner')\n",
    "rtns_universe"
   ]
  },
  {
   "cell_type": "code",
   "execution_count": 43,
   "metadata": {},
   "outputs": [
    {
     "data": {
      "text/html": [
       "<div>\n",
       "<style scoped>\n",
       "    .dataframe tbody tr th:only-of-type {\n",
       "        vertical-align: middle;\n",
       "    }\n",
       "\n",
       "    .dataframe tbody tr th {\n",
       "        vertical-align: top;\n",
       "    }\n",
       "\n",
       "    .dataframe thead th {\n",
       "        text-align: right;\n",
       "    }\n",
       "</style>\n",
       "<table border=\"1\" class=\"dataframe\">\n",
       "  <thead>\n",
       "    <tr style=\"text-align: right;\">\n",
       "      <th></th>\n",
       "      <th>AGG</th>\n",
       "      <th>TLT</th>\n",
       "      <th>SHY</th>\n",
       "      <th>IEI</th>\n",
       "      <th>HYG</th>\n",
       "      <th>BKLN</th>\n",
       "      <th>LQD</th>\n",
       "      <th>SPY</th>\n",
       "    </tr>\n",
       "    <tr>\n",
       "      <th>Date</th>\n",
       "      <th></th>\n",
       "      <th></th>\n",
       "      <th></th>\n",
       "      <th></th>\n",
       "      <th></th>\n",
       "      <th></th>\n",
       "      <th></th>\n",
       "      <th></th>\n",
       "    </tr>\n",
       "  </thead>\n",
       "  <tbody>\n",
       "    <tr>\n",
       "      <td>2015-02-12</td>\n",
       "      <td>0.000180</td>\n",
       "      <td>-0.003309</td>\n",
       "      <td>0.000355</td>\n",
       "      <td>0.001137</td>\n",
       "      <td>-0.000110</td>\n",
       "      <td>0.001246</td>\n",
       "      <td>0.002562</td>\n",
       "      <td>0.009617</td>\n",
       "    </tr>\n",
       "    <tr>\n",
       "      <td>2015-02-13</td>\n",
       "      <td>-0.001172</td>\n",
       "      <td>-0.010269</td>\n",
       "      <td>0.000000</td>\n",
       "      <td>-0.001136</td>\n",
       "      <td>0.001429</td>\n",
       "      <td>-0.003320</td>\n",
       "      <td>-0.003957</td>\n",
       "      <td>0.004116</td>\n",
       "    </tr>\n",
       "    <tr>\n",
       "      <td>2015-02-17</td>\n",
       "      <td>-0.004063</td>\n",
       "      <td>-0.015056</td>\n",
       "      <td>-0.000473</td>\n",
       "      <td>-0.003656</td>\n",
       "      <td>-0.000658</td>\n",
       "      <td>0.004163</td>\n",
       "      <td>-0.004635</td>\n",
       "      <td>0.001573</td>\n",
       "    </tr>\n",
       "    <tr>\n",
       "      <td>2015-02-18</td>\n",
       "      <td>0.002810</td>\n",
       "      <td>0.005940</td>\n",
       "      <td>0.001182</td>\n",
       "      <td>0.003588</td>\n",
       "      <td>0.003404</td>\n",
       "      <td>-0.000415</td>\n",
       "      <td>0.003575</td>\n",
       "      <td>0.000095</td>\n",
       "    </tr>\n",
       "    <tr>\n",
       "      <td>2015-02-19</td>\n",
       "      <td>-0.000814</td>\n",
       "      <td>-0.006614</td>\n",
       "      <td>-0.000590</td>\n",
       "      <td>-0.001787</td>\n",
       "      <td>-0.002298</td>\n",
       "      <td>0.001244</td>\n",
       "      <td>-0.000166</td>\n",
       "      <td>-0.000714</td>\n",
       "    </tr>\n",
       "    <tr>\n",
       "      <td>...</td>\n",
       "      <td>...</td>\n",
       "      <td>...</td>\n",
       "      <td>...</td>\n",
       "      <td>...</td>\n",
       "      <td>...</td>\n",
       "      <td>...</td>\n",
       "      <td>...</td>\n",
       "      <td>...</td>\n",
       "    </tr>\n",
       "    <tr>\n",
       "      <td>2020-02-03</td>\n",
       "      <td>-0.002442</td>\n",
       "      <td>-0.002467</td>\n",
       "      <td>-0.001880</td>\n",
       "      <td>-0.002577</td>\n",
       "      <td>-0.004341</td>\n",
       "      <td>0.000000</td>\n",
       "      <td>-0.003356</td>\n",
       "      <td>0.007429</td>\n",
       "    </tr>\n",
       "    <tr>\n",
       "      <td>2020-02-04</td>\n",
       "      <td>-0.003323</td>\n",
       "      <td>-0.013467</td>\n",
       "      <td>-0.001059</td>\n",
       "      <td>-0.002975</td>\n",
       "      <td>0.005967</td>\n",
       "      <td>0.000442</td>\n",
       "      <td>-0.002449</td>\n",
       "      <td>0.015241</td>\n",
       "    </tr>\n",
       "    <tr>\n",
       "      <td>2020-02-05</td>\n",
       "      <td>-0.001491</td>\n",
       "      <td>-0.010935</td>\n",
       "      <td>-0.000707</td>\n",
       "      <td>-0.002120</td>\n",
       "      <td>0.004106</td>\n",
       "      <td>0.000000</td>\n",
       "      <td>-0.000614</td>\n",
       "      <td>0.011548</td>\n",
       "    </tr>\n",
       "    <tr>\n",
       "      <td>2020-02-06</td>\n",
       "      <td>0.000615</td>\n",
       "      <td>0.004507</td>\n",
       "      <td>0.000236</td>\n",
       "      <td>0.000079</td>\n",
       "      <td>0.000795</td>\n",
       "      <td>-0.000884</td>\n",
       "      <td>-0.000461</td>\n",
       "      <td>0.003365</td>\n",
       "    </tr>\n",
       "    <tr>\n",
       "      <td>2020-02-07</td>\n",
       "      <td>0.002898</td>\n",
       "      <td>0.012478</td>\n",
       "      <td>0.000589</td>\n",
       "      <td>0.002361</td>\n",
       "      <td>-0.001476</td>\n",
       "      <td>-0.000442</td>\n",
       "      <td>0.003841</td>\n",
       "      <td>-0.005330</td>\n",
       "    </tr>\n",
       "  </tbody>\n",
       "</table>\n",
       "<p>1256 rows × 8 columns</p>\n",
       "</div>"
      ],
      "text/plain": [
       "                 AGG       TLT       SHY       IEI       HYG      BKLN  \\\n",
       "Date                                                                     \n",
       "2015-02-12  0.000180 -0.003309  0.000355  0.001137 -0.000110  0.001246   \n",
       "2015-02-13 -0.001172 -0.010269  0.000000 -0.001136  0.001429 -0.003320   \n",
       "2015-02-17 -0.004063 -0.015056 -0.000473 -0.003656 -0.000658  0.004163   \n",
       "2015-02-18  0.002810  0.005940  0.001182  0.003588  0.003404 -0.000415   \n",
       "2015-02-19 -0.000814 -0.006614 -0.000590 -0.001787 -0.002298  0.001244   \n",
       "...              ...       ...       ...       ...       ...       ...   \n",
       "2020-02-03 -0.002442 -0.002467 -0.001880 -0.002577 -0.004341  0.000000   \n",
       "2020-02-04 -0.003323 -0.013467 -0.001059 -0.002975  0.005967  0.000442   \n",
       "2020-02-05 -0.001491 -0.010935 -0.000707 -0.002120  0.004106  0.000000   \n",
       "2020-02-06  0.000615  0.004507  0.000236  0.000079  0.000795 -0.000884   \n",
       "2020-02-07  0.002898  0.012478  0.000589  0.002361 -0.001476 -0.000442   \n",
       "\n",
       "                 LQD       SPY  \n",
       "Date                            \n",
       "2015-02-12  0.002562  0.009617  \n",
       "2015-02-13 -0.003957  0.004116  \n",
       "2015-02-17 -0.004635  0.001573  \n",
       "2015-02-18  0.003575  0.000095  \n",
       "2015-02-19 -0.000166 -0.000714  \n",
       "...              ...       ...  \n",
       "2020-02-03 -0.003356  0.007429  \n",
       "2020-02-04 -0.002449  0.015241  \n",
       "2020-02-05 -0.000614  0.011548  \n",
       "2020-02-06 -0.000461  0.003365  \n",
       "2020-02-07  0.003841 -0.005330  \n",
       "\n",
       "[1256 rows x 8 columns]"
      ]
     },
     "execution_count": 43,
     "metadata": {},
     "output_type": "execute_result"
    }
   ],
   "source": [
    "#Dropping the NAs from the Universe \n",
    "rtns_universe_clean = rtns_universe.dropna()\n",
    "rtns_universe_clean"
   ]
  },
  {
   "cell_type": "code",
   "execution_count": 45,
   "metadata": {},
   "outputs": [
    {
     "data": {
      "text/html": [
       "<div>\n",
       "<style scoped>\n",
       "    .dataframe tbody tr th:only-of-type {\n",
       "        vertical-align: middle;\n",
       "    }\n",
       "\n",
       "    .dataframe tbody tr th {\n",
       "        vertical-align: top;\n",
       "    }\n",
       "\n",
       "    .dataframe thead th {\n",
       "        text-align: right;\n",
       "    }\n",
       "</style>\n",
       "<table border=\"1\" class=\"dataframe\">\n",
       "  <thead>\n",
       "    <tr style=\"text-align: right;\">\n",
       "      <th></th>\n",
       "      <th>AGG</th>\n",
       "      <th>TLT</th>\n",
       "      <th>SHY</th>\n",
       "      <th>IEI</th>\n",
       "      <th>HYG</th>\n",
       "      <th>BKLN</th>\n",
       "      <th>LQD</th>\n",
       "      <th>SPY</th>\n",
       "    </tr>\n",
       "    <tr>\n",
       "      <th>Date</th>\n",
       "      <th></th>\n",
       "      <th></th>\n",
       "      <th></th>\n",
       "      <th></th>\n",
       "      <th></th>\n",
       "      <th></th>\n",
       "      <th></th>\n",
       "      <th></th>\n",
       "    </tr>\n",
       "  </thead>\n",
       "  <tbody>\n",
       "    <tr>\n",
       "      <td>2015-02-12</td>\n",
       "      <td>NaN</td>\n",
       "      <td>NaN</td>\n",
       "      <td>NaN</td>\n",
       "      <td>NaN</td>\n",
       "      <td>NaN</td>\n",
       "      <td>NaN</td>\n",
       "      <td>NaN</td>\n",
       "      <td>NaN</td>\n",
       "    </tr>\n",
       "    <tr>\n",
       "      <td>2015-02-13</td>\n",
       "      <td>NaN</td>\n",
       "      <td>NaN</td>\n",
       "      <td>NaN</td>\n",
       "      <td>NaN</td>\n",
       "      <td>NaN</td>\n",
       "      <td>NaN</td>\n",
       "      <td>NaN</td>\n",
       "      <td>NaN</td>\n",
       "    </tr>\n",
       "    <tr>\n",
       "      <td>2015-02-17</td>\n",
       "      <td>NaN</td>\n",
       "      <td>NaN</td>\n",
       "      <td>NaN</td>\n",
       "      <td>NaN</td>\n",
       "      <td>NaN</td>\n",
       "      <td>NaN</td>\n",
       "      <td>NaN</td>\n",
       "      <td>NaN</td>\n",
       "    </tr>\n",
       "    <tr>\n",
       "      <td>2015-02-18</td>\n",
       "      <td>NaN</td>\n",
       "      <td>NaN</td>\n",
       "      <td>NaN</td>\n",
       "      <td>NaN</td>\n",
       "      <td>NaN</td>\n",
       "      <td>NaN</td>\n",
       "      <td>NaN</td>\n",
       "      <td>NaN</td>\n",
       "    </tr>\n",
       "    <tr>\n",
       "      <td>2015-02-19</td>\n",
       "      <td>NaN</td>\n",
       "      <td>NaN</td>\n",
       "      <td>NaN</td>\n",
       "      <td>NaN</td>\n",
       "      <td>NaN</td>\n",
       "      <td>NaN</td>\n",
       "      <td>NaN</td>\n",
       "      <td>NaN</td>\n",
       "    </tr>\n",
       "    <tr>\n",
       "      <td>...</td>\n",
       "      <td>...</td>\n",
       "      <td>...</td>\n",
       "      <td>...</td>\n",
       "      <td>...</td>\n",
       "      <td>...</td>\n",
       "      <td>...</td>\n",
       "      <td>...</td>\n",
       "      <td>...</td>\n",
       "    </tr>\n",
       "    <tr>\n",
       "      <td>2020-02-03</td>\n",
       "      <td>0.001926</td>\n",
       "      <td>0.008006</td>\n",
       "      <td>0.000668</td>\n",
       "      <td>0.001835</td>\n",
       "      <td>0.002518</td>\n",
       "      <td>0.001907</td>\n",
       "      <td>0.002966</td>\n",
       "      <td>0.005598</td>\n",
       "    </tr>\n",
       "    <tr>\n",
       "      <td>2020-02-04</td>\n",
       "      <td>0.001976</td>\n",
       "      <td>0.008192</td>\n",
       "      <td>0.000680</td>\n",
       "      <td>0.001871</td>\n",
       "      <td>0.002626</td>\n",
       "      <td>0.001898</td>\n",
       "      <td>0.002916</td>\n",
       "      <td>0.005895</td>\n",
       "    </tr>\n",
       "    <tr>\n",
       "      <td>2020-02-05</td>\n",
       "      <td>0.001880</td>\n",
       "      <td>0.007962</td>\n",
       "      <td>0.000669</td>\n",
       "      <td>0.001794</td>\n",
       "      <td>0.002673</td>\n",
       "      <td>0.001885</td>\n",
       "      <td>0.002712</td>\n",
       "      <td>0.006038</td>\n",
       "    </tr>\n",
       "    <tr>\n",
       "      <td>2020-02-06</td>\n",
       "      <td>0.001877</td>\n",
       "      <td>0.007948</td>\n",
       "      <td>0.000669</td>\n",
       "      <td>0.001792</td>\n",
       "      <td>0.002673</td>\n",
       "      <td>0.001882</td>\n",
       "      <td>0.002703</td>\n",
       "      <td>0.006042</td>\n",
       "    </tr>\n",
       "    <tr>\n",
       "      <td>2020-02-07</td>\n",
       "      <td>0.001907</td>\n",
       "      <td>0.008086</td>\n",
       "      <td>0.000672</td>\n",
       "      <td>0.001813</td>\n",
       "      <td>0.002680</td>\n",
       "      <td>0.001882</td>\n",
       "      <td>0.002736</td>\n",
       "      <td>0.006089</td>\n",
       "    </tr>\n",
       "  </tbody>\n",
       "</table>\n",
       "<p>1256 rows × 8 columns</p>\n",
       "</div>"
      ],
      "text/plain": [
       "                 AGG       TLT       SHY       IEI       HYG      BKLN  \\\n",
       "Date                                                                     \n",
       "2015-02-12       NaN       NaN       NaN       NaN       NaN       NaN   \n",
       "2015-02-13       NaN       NaN       NaN       NaN       NaN       NaN   \n",
       "2015-02-17       NaN       NaN       NaN       NaN       NaN       NaN   \n",
       "2015-02-18       NaN       NaN       NaN       NaN       NaN       NaN   \n",
       "2015-02-19       NaN       NaN       NaN       NaN       NaN       NaN   \n",
       "...              ...       ...       ...       ...       ...       ...   \n",
       "2020-02-03  0.001926  0.008006  0.000668  0.001835  0.002518  0.001907   \n",
       "2020-02-04  0.001976  0.008192  0.000680  0.001871  0.002626  0.001898   \n",
       "2020-02-05  0.001880  0.007962  0.000669  0.001794  0.002673  0.001885   \n",
       "2020-02-06  0.001877  0.007948  0.000669  0.001792  0.002673  0.001882   \n",
       "2020-02-07  0.001907  0.008086  0.000672  0.001813  0.002680  0.001882   \n",
       "\n",
       "                 LQD       SPY  \n",
       "Date                            \n",
       "2015-02-12       NaN       NaN  \n",
       "2015-02-13       NaN       NaN  \n",
       "2015-02-17       NaN       NaN  \n",
       "2015-02-18       NaN       NaN  \n",
       "2015-02-19       NaN       NaN  \n",
       "...              ...       ...  \n",
       "2020-02-03  0.002966  0.005598  \n",
       "2020-02-04  0.002916  0.005895  \n",
       "2020-02-05  0.002712  0.006038  \n",
       "2020-02-06  0.002703  0.006042  \n",
       "2020-02-07  0.002736  0.006089  \n",
       "\n",
       "[1256 rows x 8 columns]"
      ]
     },
     "execution_count": 45,
     "metadata": {},
     "output_type": "execute_result"
    }
   ],
   "source": [
    "# Calculate the rolling standard deviation for the universe using a 60 day window\n",
    "rolling_std = rtns_universe_clean.rolling(window=60).std()\n",
    "rolling_std"
   ]
  },
  {
   "cell_type": "code",
   "execution_count": 56,
   "metadata": {},
   "outputs": [
    {
     "data": {
      "text/plain": [
       "<matplotlib.axes._subplots.AxesSubplot at 0x11ccf0110>"
      ]
     },
     "execution_count": 56,
     "metadata": {},
     "output_type": "execute_result"
    },
    {
     "data": {
      "image/png": "[encoded data removed]",
      "text/plain": [
       "<Figure size 432x288 with 1 Axes>"
      ]
     },
     "metadata": {
      "needs_background": "light"
     },
     "output_type": "display_data"
    }
   ],
   "source": [
    "#The AGG Std Charts \n",
    "rolling_std['AGG'].plot()"
   ]
  },
  {
   "cell_type": "code",
   "execution_count": 58,
   "metadata": {},
   "outputs": [
    {
     "data": {
      "text/plain": [
       "<matplotlib.axes._subplots.AxesSubplot at 0x11d7eb510>"
      ]
     },
     "execution_count": 58,
     "metadata": {},
     "output_type": "execute_result"
    },
    {
     "data": {
      "image/png": "[encoded data removed]",
      "text/plain": [
       "<Figure size 432x288 with 1 Axes>"
      ]
     },
     "metadata": {
      "needs_background": "light"
     },
     "output_type": "display_data"
    }
   ],
   "source": [
    "#The TLT Std Charts \n",
    "rolling_std['TLT'].plot()"
   ]
  },
  {
   "cell_type": "code",
   "execution_count": 59,
   "metadata": {},
   "outputs": [
    {
     "data": {
      "text/plain": [
       "<matplotlib.axes._subplots.AxesSubplot at 0x11d915c10>"
      ]
     },
     "execution_count": 59,
     "metadata": {},
     "output_type": "execute_result"
    },
    {
     "data": {
      "image/png": "[encoded data removed]",
      "text/plain": [
       "<Figure size 432x288 with 1 Axes>"
      ]
     },
     "metadata": {
      "needs_background": "light"
     },
     "output_type": "display_data"
    }
   ],
   "source": [
    "#The SHY Std Charts \n",
    "rolling_std['SHY'].plot()"
   ]
  },
  {
   "cell_type": "code",
   "execution_count": 60,
   "metadata": {},
   "outputs": [
    {
     "data": {
      "text/plain": [
       "<matplotlib.axes._subplots.AxesSubplot at 0x11d7f2f10>"
      ]
     },
     "execution_count": 60,
     "metadata": {},
     "output_type": "execute_result"
    },
    {
     "data": {
      "image/png": "[encoded data removed]",
      "text/plain": [
       "<Figure size 432x288 with 1 Axes>"
      ]
     },
     "metadata": {
      "needs_background": "light"
     },
     "output_type": "display_data"
    }
   ],
   "source": [
    "#The IEI Std Charts \n",
    "rolling_std['IEI'].plot()"
   ]
  },
  {
   "cell_type": "code",
   "execution_count": 61,
   "metadata": {},
   "outputs": [
    {
     "data": {
      "text/plain": [
       "<matplotlib.axes._subplots.AxesSubplot at 0x11d8976d0>"
      ]
     },
     "execution_count": 61,
     "metadata": {},
     "output_type": "execute_result"
    },
    {
     "data": {
      "image/png": "[encoded data removed]",
      "text/plain": [
       "<Figure size 432x288 with 1 Axes>"
      ]
     },
     "metadata": {
      "needs_background": "light"
     },
     "output_type": "display_data"
    }
   ],
   "source": [
    "#The HYG Std Charts \n",
    "rolling_std['HYG'].plot()"
   ]
  },
  {
   "cell_type": "code",
   "execution_count": 62,
   "metadata": {},
   "outputs": [
    {
     "data": {
      "text/plain": [
       "<matplotlib.axes._subplots.AxesSubplot at 0x11d897910>"
      ]
     },
     "execution_count": 62,
     "metadata": {},
     "output_type": "execute_result"
    },
    {
     "data": {
      "image/png": "[encoded data removed]",
      "text/plain": [
       "<Figure size 432x288 with 1 Axes>"
      ]
     },
     "metadata": {
      "needs_background": "light"
     },
     "output_type": "display_data"
    }
   ],
   "source": [
    "#The BKLN Std Charts \n",
    "rolling_std['BKLN'].plot()"
   ]
  },
  {
   "cell_type": "code",
   "execution_count": 63,
   "metadata": {},
   "outputs": [
    {
     "data": {
      "text/plain": [
       "<matplotlib.axes._subplots.AxesSubplot at 0x11b7ba8d0>"
      ]
     },
     "execution_count": 63,
     "metadata": {},
     "output_type": "execute_result"
    },
    {
     "data": {
      "image/png": "[encoded data removed]",
      "text/plain": [
       "<Figure size 432x288 with 1 Axes>"
      ]
     },
     "metadata": {
      "needs_background": "light"
     },
     "output_type": "display_data"
    }
   ],
   "source": [
    "#The LQD Std Charts \n",
    "rolling_std['LQD'].plot()"
   ]
  },
  {
   "cell_type": "code",
   "execution_count": 64,
   "metadata": {},
   "outputs": [
    {
     "data": {
      "text/plain": [
       "Date\n",
       "2015-02-12         NaN\n",
       "2015-02-13         NaN\n",
       "2015-02-17         NaN\n",
       "2015-02-18         NaN\n",
       "2015-02-19         NaN\n",
       "                ...   \n",
       "2020-02-03   -0.000004\n",
       "2020-02-04   -0.000005\n",
       "2020-02-05   -0.000005\n",
       "2020-02-06   -0.000005\n",
       "2020-02-07   -0.000006\n",
       "Length: 1256, dtype: float64"
      ]
     },
     "execution_count": 64,
     "metadata": {},
     "output_type": "execute_result"
    }
   ],
   "source": [
    "# Calculate the covariance for the AGG ETF\n",
    "rolling_covariance_agg = rtns_universe_clean['AGG'].rolling(window=60).cov(rtns_universe_clean['SPY'])\n",
    "rolling_covariance_agg"
   ]
  },
  {
   "cell_type": "code",
   "execution_count": 65,
   "metadata": {},
   "outputs": [
    {
     "data": {
      "text/plain": [
       "Date\n",
       "2015-02-12         NaN\n",
       "2015-02-13         NaN\n",
       "2015-02-17         NaN\n",
       "2015-02-18         NaN\n",
       "2015-02-19         NaN\n",
       "                ...   \n",
       "2020-02-03    0.000031\n",
       "2020-02-04    0.000035\n",
       "2020-02-05    0.000036\n",
       "2020-02-06    0.000037\n",
       "2020-02-07    0.000037\n",
       "Name: SPY, Length: 1256, dtype: float64"
      ]
     },
     "execution_count": 65,
     "metadata": {},
     "output_type": "execute_result"
    }
   ],
   "source": [
    "#Calculate rolling variance \n",
    "rolling_variance_spy = rtns_universe_clean['SPY'].rolling(window=60).var()\n",
    "rolling_variance_spy"
   ]
  },
  {
   "cell_type": "code",
   "execution_count": 66,
   "metadata": {},
   "outputs": [
    {
     "data": {
      "text/plain": [
       "<matplotlib.axes._subplots.AxesSubplot at 0x11b76ea10>"
      ]
     },
     "execution_count": 66,
     "metadata": {},
     "output_type": "execute_result"
    },
    {
     "data": {
      "image/png": "[encoded data removed]",
      "text/plain": [
       "<Figure size 432x288 with 1 Axes>"
      ]
     },
     "metadata": {
      "needs_background": "light"
     },
     "output_type": "display_data"
    }
   ],
   "source": [
    "#Calculate the rolling 60 day beta of AGG\n",
    "rolling_beta_agg = rolling_covariance_agg / rolling_variance_spy\n",
    "rolling_beta_agg.plot()"
   ]
  },
  {
   "cell_type": "code",
   "execution_count": 67,
   "metadata": {},
   "outputs": [
    {
     "data": {
      "text/plain": [
       "Date\n",
       "2015-02-12         NaN\n",
       "2015-02-13         NaN\n",
       "2015-02-17         NaN\n",
       "2015-02-18         NaN\n",
       "2015-02-19         NaN\n",
       "                ...   \n",
       "2020-02-03   -0.000019\n",
       "2020-02-04   -0.000023\n",
       "2020-02-05   -0.000024\n",
       "2020-02-06   -0.000024\n",
       "2020-02-07   -0.000025\n",
       "Length: 1256, dtype: float64"
      ]
     },
     "execution_count": 67,
     "metadata": {},
     "output_type": "execute_result"
    }
   ],
   "source": [
    "# Calculate the covariance for the TLT ETF\n",
    "rolling_covariance_tlt = rtns_universe_clean['TLT'].rolling(window=60).cov(rtns_universe_clean['SPY'])\n",
    "rolling_covariance_tlt"
   ]
  },
  {
   "cell_type": "code",
   "execution_count": 68,
   "metadata": {},
   "outputs": [
    {
     "data": {
      "text/plain": [
       "<matplotlib.axes._subplots.AxesSubplot at 0x122063a10>"
      ]
     },
     "execution_count": 68,
     "metadata": {},
     "output_type": "execute_result"
    },
    {
     "data": {
      "image/png": "[encoded data removed]",
      "text/plain": [
       "<Figure size 432x288 with 1 Axes>"
      ]
     },
     "metadata": {
      "needs_background": "light"
     },
     "output_type": "display_data"
    }
   ],
   "source": [
    "#Calculate the rolling 60 day beta of TLT\n",
    "rolling_beta_tlt = rolling_covariance_tlt / rolling_variance_spy\n",
    "rolling_beta_tlt.plot()"
   ]
  },
  {
   "cell_type": "code",
   "execution_count": 69,
   "metadata": {},
   "outputs": [
    {
     "data": {
      "text/plain": [
       "Date\n",
       "2015-02-12         NaN\n",
       "2015-02-13         NaN\n",
       "2015-02-17         NaN\n",
       "2015-02-18         NaN\n",
       "2015-02-19         NaN\n",
       "                ...   \n",
       "2020-02-03   -0.000002\n",
       "2020-02-04   -0.000002\n",
       "2020-02-05   -0.000002\n",
       "2020-02-06   -0.000002\n",
       "2020-02-07   -0.000002\n",
       "Length: 1256, dtype: float64"
      ]
     },
     "execution_count": 69,
     "metadata": {},
     "output_type": "execute_result"
    }
   ],
   "source": [
    "# Calculate the covariance for the SHY ETF\n",
    "rolling_covariance_shy = rtns_universe_clean['SHY'].rolling(window=60).cov(rtns_universe_clean['SPY'])\n",
    "rolling_covariance_shy"
   ]
  },
  {
   "cell_type": "code",
   "execution_count": 70,
   "metadata": {},
   "outputs": [
    {
     "data": {
      "text/plain": [
       "<matplotlib.axes._subplots.AxesSubplot at 0x11b76ec90>"
      ]
     },
     "execution_count": 70,
     "metadata": {},
     "output_type": "execute_result"
    },
    {
     "data": {
      "image/png": "[encoded data removed]",
      "text/plain": [
       "<Figure size 432x288 with 1 Axes>"
      ]
     },
     "metadata": {
      "needs_background": "light"
     },
     "output_type": "display_data"
    }
   ],
   "source": [
    "#Calculate the rolling 60 day beta of SHY\n",
    "rolling_beta_shy = rolling_covariance_shy / rolling_variance_spy\n",
    "rolling_beta_shy.plot()"
   ]
  },
  {
   "cell_type": "code",
   "execution_count": 71,
   "metadata": {},
   "outputs": [
    {
     "data": {
      "text/plain": [
       "Date\n",
       "2015-02-12         NaN\n",
       "2015-02-13         NaN\n",
       "2015-02-17         NaN\n",
       "2015-02-18         NaN\n",
       "2015-02-19         NaN\n",
       "                ...   \n",
       "2020-02-03   -0.000005\n",
       "2020-02-04   -0.000006\n",
       "2020-02-05   -0.000006\n",
       "2020-02-06   -0.000006\n",
       "2020-02-07   -0.000007\n",
       "Length: 1256, dtype: float64"
      ]
     },
     "execution_count": 71,
     "metadata": {},
     "output_type": "execute_result"
    }
   ],
   "source": [
    "# Calculate the covariance for the IEI ETF\n",
    "rolling_covariance_iei = rtns_universe_clean['IEI'].rolling(window=60).cov(rtns_universe_clean['SPY'])\n",
    "rolling_covariance_iei"
   ]
  },
  {
   "cell_type": "code",
   "execution_count": 72,
   "metadata": {},
   "outputs": [
    {
     "data": {
      "text/plain": [
       "<matplotlib.axes._subplots.AxesSubplot at 0x12234ab90>"
      ]
     },
     "execution_count": 72,
     "metadata": {},
     "output_type": "execute_result"
    },
    {
     "data": {
      "image/png": "[encoded data removed]",
      "text/plain": [
       "<Figure size 432x288 with 1 Axes>"
      ]
     },
     "metadata": {
      "needs_background": "light"
     },
     "output_type": "display_data"
    }
   ],
   "source": [
    "#Calculate the rolling 60 day beta of IEI\n",
    "rolling_beta_iei = rolling_covariance_shy / rolling_variance_spy\n",
    "rolling_beta_iei.plot()"
   ]
  },
  {
   "cell_type": "code",
   "execution_count": 73,
   "metadata": {},
   "outputs": [
    {
     "data": {
      "text/plain": [
       "Date\n",
       "2015-02-12         NaN\n",
       "2015-02-13         NaN\n",
       "2015-02-17         NaN\n",
       "2015-02-18         NaN\n",
       "2015-02-19         NaN\n",
       "                ...   \n",
       "2020-02-03    0.000009\n",
       "2020-02-04    0.000011\n",
       "2020-02-05    0.000011\n",
       "2020-02-06    0.000011\n",
       "2020-02-07    0.000011\n",
       "Length: 1256, dtype: float64"
      ]
     },
     "execution_count": 73,
     "metadata": {},
     "output_type": "execute_result"
    }
   ],
   "source": [
    "# Calculate the covariance for the HYG ETF\n",
    "rolling_covariance_hyg = rtns_universe_clean['HYG'].rolling(window=60).cov(rtns_universe_clean['SPY'])\n",
    "rolling_covariance_hyg"
   ]
  },
  {
   "cell_type": "code",
   "execution_count": 74,
   "metadata": {},
   "outputs": [
    {
     "data": {
      "text/plain": [
       "<matplotlib.axes._subplots.AxesSubplot at 0x1223c8090>"
      ]
     },
     "execution_count": 74,
     "metadata": {},
     "output_type": "execute_result"
    },
    {
     "data": {
      "image/png": "[encoded data removed]",
      "text/plain": [
       "<Figure size 432x288 with 1 Axes>"
      ]
     },
     "metadata": {
      "needs_background": "light"
     },
     "output_type": "display_data"
    }
   ],
   "source": [
    "#Calculate the rolling 60 day beta of HYG\n",
    "rolling_beta_hyg = rolling_covariance_hyg / rolling_variance_spy\n",
    "rolling_beta_hyg.plot()"
   ]
  },
  {
   "cell_type": "code",
   "execution_count": 75,
   "metadata": {},
   "outputs": [
    {
     "data": {
      "text/plain": [
       "Date\n",
       "2015-02-12         NaN\n",
       "2015-02-13         NaN\n",
       "2015-02-17         NaN\n",
       "2015-02-18         NaN\n",
       "2015-02-19         NaN\n",
       "                ...   \n",
       "2020-02-03    0.000005\n",
       "2020-02-04    0.000006\n",
       "2020-02-05    0.000005\n",
       "2020-02-06    0.000005\n",
       "2020-02-07    0.000005\n",
       "Length: 1256, dtype: float64"
      ]
     },
     "execution_count": 75,
     "metadata": {},
     "output_type": "execute_result"
    }
   ],
   "source": [
    "# Calculate the covariance for the BKLN ETF\n",
    "rolling_covariance_bkln = rtns_universe_clean['BKLN'].rolling(window=60).cov(rtns_universe_clean['SPY'])\n",
    "rolling_covariance_bkln"
   ]
  },
  {
   "cell_type": "code",
   "execution_count": 76,
   "metadata": {},
   "outputs": [
    {
     "data": {
      "text/plain": [
       "<matplotlib.axes._subplots.AxesSubplot at 0x11f8c2650>"
      ]
     },
     "execution_count": 76,
     "metadata": {},
     "output_type": "execute_result"
    },
    {
     "data": {
      "image/png": "[encoded data removed]",
      "text/plain": [
       "<Figure size 432x288 with 1 Axes>"
      ]
     },
     "metadata": {
      "needs_background": "light"
     },
     "output_type": "display_data"
    }
   ],
   "source": [
    "#Calculate the rolling 60 day beta of BKLN\n",
    "rolling_beta_bkln = rolling_covariance_bkln / rolling_variance_spy\n",
    "rolling_beta_bkln.plot()"
   ]
  },
  {
   "cell_type": "code",
   "execution_count": 77,
   "metadata": {},
   "outputs": [
    {
     "data": {
      "text/plain": [
       "Date\n",
       "2015-02-12         NaN\n",
       "2015-02-13         NaN\n",
       "2015-02-17         NaN\n",
       "2015-02-18         NaN\n",
       "2015-02-19         NaN\n",
       "                ...   \n",
       "2020-02-03   -0.000003\n",
       "2020-02-04   -0.000004\n",
       "2020-02-05   -0.000004\n",
       "2020-02-06   -0.000004\n",
       "2020-02-07   -0.000004\n",
       "Length: 1256, dtype: float64"
      ]
     },
     "execution_count": 77,
     "metadata": {},
     "output_type": "execute_result"
    }
   ],
   "source": [
    "# Calculate the covariance for the LQD ETF\n",
    "rolling_covariance_lqd = rtns_universe_clean['LQD'].rolling(window=60).cov(rtns_universe_clean['SPY'])\n",
    "rolling_covariance_lqd"
   ]
  },
  {
   "cell_type": "code",
   "execution_count": 78,
   "metadata": {},
   "outputs": [
    {
     "data": {
      "text/plain": [
       "<matplotlib.axes._subplots.AxesSubplot at 0x121fa0b90>"
      ]
     },
     "execution_count": 78,
     "metadata": {},
     "output_type": "execute_result"
    },
    {
     "data": {
      "image/png": "[encoded data removed]",
      "text/plain": [
       "<Figure size 432x288 with 1 Axes>"
      ]
     },
     "metadata": {
      "needs_background": "light"
     },
     "output_type": "display_data"
    }
   ],
   "source": [
    "#Calculate the rolling 60 day beta of LQD\n",
    "rolling_beta_lqd = rolling_covariance_lqd / rolling_variance_spy\n",
    "rolling_beta_lqd.plot()"
   ]
  },
  {
   "cell_type": "code",
   "execution_count": null,
   "metadata": {},
   "outputs": [],
   "source": []
  }
 ],
 "metadata": {
  "kernelspec": {
   "display_name": "Python 3",
   "language": "python",
   "name": "python3"
  },
  "language_info": {
   "codemirror_mode": {
    "name": "ipython",
    "version": 3
   },
   "file_extension": ".py",
   "mimetype": "text/x-python",
   "name": "python",
   "nbconvert_exporter": "python",
   "pygments_lexer": "ipython3",
   "version": "3.7.4"
  }
 },
 "nbformat": 4,
 "nbformat_minor": 4
}
