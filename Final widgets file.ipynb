{
 "cells": [
  {
   "cell_type": "code",
   "execution_count": 212,
   "metadata": {},
   "outputs": [
    {
     "data": {
      "application/vnd.jupyter.widget-view+json": {
       "model_id": "96f5c9a717584286bd443c09d3e88ab9",
       "version_major": 2,
       "version_minor": 0
      },
      "text/plain": [
       "Box(children=(Box(children=(Label(value='Years Until Retirement'), IntSlider(value=5, max=30, min=5)), layout=…"
      ]
     },
     "metadata": {},
     "output_type": "display_data"
    }
   ],
   "source": [
    "#use interactive widgets for insert user data, which should be presented on the welcome tab, \n",
    "#and add click buton to call the functions for all portfolio.\n",
    "#to make it easier\n",
    "\n",
    "from ipywidgets import Layout, Button, Box, FloatText, Textarea, Dropdown, Label, IntSlider\n",
    "from ipywidgets import widgets\n",
    "import yoda_simulator as ys\n",
    "from IPython.display import display\n",
    "\n",
    "\n",
    "#this widgets should be put in function at the end, \n",
    "\n",
    "slider = widgets.IntSlider(value= 5, min=5, max=30)\n",
    "#years_until_retirement = slider.value\n",
    "\n",
    "dropdown = widgets.Dropdown(options=['Yoda 1 - Equally Weighted Equity Portfolio',\n",
    "                           'Yoda 2 - Fixed income Optimized Portfolio Yoda',\n",
    "                           'Yoda 3 - Fixed income Equally Weighted',\n",
    "                           'Yoda 4 - Blended - Will the real Yoda please stand up!', \n",
    "                           'Yoda 5 - Maximized Profit Adjusting Returns '])\n",
    "#portfolio_choice = dropdown.value\n",
    "\n",
    "investment = widgets.FloatText()\n",
    "#initial_investment = investment.value\n",
    "\n",
    "withdrawal_pct = widgets.FloatText()\n",
    "#annual_withdrawal_pct = withdrawal_pct.value\n",
    "\n",
    "withdrawal_amount = widgets.FloatText()\n",
    "#annual_withdrawal_ammount = withdrawal_amount.value\n",
    "\n",
    "\n",
    "withdrawal_type = widgets.FloatText()\n",
    "#annual_withdrawal_type = withdrawal_type.value\n",
    "\n",
    "\n",
    "\n",
    "\n",
    "button = widgets.Button(description=\"Calculate!\")\n",
    "output = widgets.Output()\n",
    "\n",
    "#here we are gonna need a function to get the output correctly. CHALLENGE!!!\n",
    "def on_button_clicked(b):\n",
    "    with output:\n",
    "        print(years_until_retirement, initial_investment,\n",
    "              annual_withdrawal_pct, annual_withdrawal_ammount, annual_withdrawal_type)\n",
    "        \n",
    "        \n",
    "button.on_click(on_button_clicked)\n",
    "\n",
    "form_item_layout = Layout(\n",
    "    display='flex',\n",
    "    flex_flow='row',\n",
    "    justify_content='space-between'\n",
    ")\n",
    "\n",
    "form_items = [\n",
    "    Box([Label(value='Years Until Retirement'), slider], layout=form_item_layout),\n",
    "    Box([Label(value='Yoda Portfolio Choice'),dropdown], layout=form_item_layout),\n",
    "    Box([Label(value='Initial Investment'), investment], layout=form_item_layout),\n",
    "    \n",
    "    Box([Label(value='% of Annual Withdrawal'), withdrawal_pct], layout=form_item_layout),\n",
    "    \n",
    "    Box([Label(value='Annual Withdrawal Amount'), withdrawal_amount], layout=form_item_layout),\n",
    "    Box([Label(value='Annual Withdrawal Type'), withdrawal_type], layout=form_item_layout),\n",
    "    Box([Label(value='Additional Information'), widgets.Textarea()], layout=form_item_layout),\n",
    "    Box([Label(value='YODA Calculator'), button], layout=form_item_layout)\n",
    "    \n",
    "]\n",
    "\n",
    "widgets.interact_manual()\n",
    "\n",
    "insert_param = Box(form_items, layout=Layout(\n",
    "    display='flex',\n",
    "    flex_flow='column',\n",
    "    border='solid 2px',\n",
    "    align_items='stretch',\n",
    "    width='50%'\n",
    "))\n",
    "insert_param\n"
   ]
  },
  {
   "cell_type": "code",
   "execution_count": 213,
   "metadata": {},
   "outputs": [
    {
     "data": {
      "text/plain": [
       "19"
      ]
     },
     "metadata": {},
     "output_type": "display_data"
    },
    {
     "data": {
      "text/plain": [
       "'Yoda 3 - Fixed income Equally Weighted'"
      ]
     },
     "metadata": {},
     "output_type": "display_data"
    },
    {
     "data": {
      "text/plain": [
       "20000000.0"
      ]
     },
     "metadata": {},
     "output_type": "display_data"
    },
    {
     "data": {
      "text/plain": [
       "0.05"
      ]
     },
     "metadata": {},
     "output_type": "display_data"
    },
    {
     "data": {
      "text/plain": [
       "100000.0"
      ]
     },
     "metadata": {},
     "output_type": "display_data"
    },
    {
     "data": {
      "text/plain": [
       "0.0"
      ]
     },
     "metadata": {},
     "output_type": "display_data"
    }
   ],
   "source": [
    "years_to_retirement = slider.value\n",
    "portfolio_choice = dropdown.value\n",
    "initial_investment = investment.value \n",
    "annual_withdrawal_pct = withdrawal_pct.value \n",
    "annual_withdrawal_ammount = withdrawal_amount.value\n",
    "annual_withdrawal_type = withdrawal_type.value\n",
    "\n",
    "display(years_to_retirement, portfolio_choice, \n",
    "        initial_investment,annual_withdrawal_pct, \n",
    "        annual_withdrawal_ammount,  annual_withdrawal_type)"
   ]
  },
  {
   "cell_type": "code",
   "execution_count": null,
   "metadata": {},
   "outputs": [],
   "source": []
  }
 ],
 "metadata": {
  "kernelspec": {
   "display_name": "Python 3",
   "language": "python",
   "name": "python3"
  },
  "language_info": {
   "codemirror_mode": {
    "name": "ipython",
    "version": 3
   },
   "file_extension": ".py",
   "mimetype": "text/x-python",
   "name": "python",
   "nbconvert_exporter": "python",
   "pygments_lexer": "ipython3",
   "version": "3.7.4"
  }
 },
 "nbformat": 4,
 "nbformat_minor": 4
}
