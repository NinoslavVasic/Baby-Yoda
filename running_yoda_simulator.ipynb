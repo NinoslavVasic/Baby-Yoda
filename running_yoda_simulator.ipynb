{
 "cells": [
  {
   "cell_type": "code",
   "execution_count": 1,
   "metadata": {},
   "outputs": [],
   "source": [
    "import numpy as np\n",
    "import pandas as pd\n",
    "from datetime import datetime, timedelta\n",
    "import matplotlib.pyplot as plt\n",
    "import yoda_simulator as ys\n",
    "%matplotlib inline"
   ]
  },
  {
   "cell_type": "code",
   "execution_count": 2,
   "metadata": {},
   "outputs": [
    {
     "data": {
      "text/html": [
       "<div>\n",
       "<style scoped>\n",
       "    .dataframe tbody tr th:only-of-type {\n",
       "        vertical-align: middle;\n",
       "    }\n",
       "\n",
       "    .dataframe tbody tr th {\n",
       "        vertical-align: top;\n",
       "    }\n",
       "\n",
       "    .dataframe thead th {\n",
       "        text-align: right;\n",
       "    }\n",
       "</style>\n",
       "<table border=\"1\" class=\"dataframe\">\n",
       "  <thead>\n",
       "    <tr style=\"text-align: right;\">\n",
       "      <th></th>\n",
       "      <th>SPY</th>\n",
       "      <th>AGG</th>\n",
       "      <th>XYZ</th>\n",
       "    </tr>\n",
       "  </thead>\n",
       "  <tbody>\n",
       "    <tr>\n",
       "      <th>avg</th>\n",
       "      <td>0.000507</td>\n",
       "      <td>0.000052</td>\n",
       "      <td>0.000002</td>\n",
       "    </tr>\n",
       "    <tr>\n",
       "      <th>std</th>\n",
       "      <td>0.008114</td>\n",
       "      <td>0.001879</td>\n",
       "      <td>0.030000</td>\n",
       "    </tr>\n",
       "    <tr>\n",
       "      <th>weight</th>\n",
       "      <td>0.400000</td>\n",
       "      <td>0.600000</td>\n",
       "      <td>0.000000</td>\n",
       "    </tr>\n",
       "  </tbody>\n",
       "</table>\n",
       "</div>"
      ],
      "text/plain": [
       "             SPY       AGG       XYZ\n",
       "avg     0.000507  0.000052  0.000002\n",
       "std     0.008114  0.001879  0.030000\n",
       "weight  0.400000  0.600000  0.000000"
      ]
     },
     "execution_count": 2,
     "metadata": {},
     "output_type": "execute_result"
    }
   ],
   "source": [
    "#get portfolio 1\n",
    "iex_df = pd.read_pickle(\"./iex3years\")\n",
    "iex_df.drop(columns=['volume'], level=1, inplace=True)\n",
    "iex_df.columns = iex_df.columns.droplevel(1)\n",
    "iex_df.sort_index(ascending = True, inplace = True)\n",
    "\n",
    "# Calculate the daily roi for the stocks\n",
    "daily_return = iex_df.pct_change().dropna()\n",
    "\n",
    "cal_avg = pd.DataFrame(daily_return.mean()).rename(columns = ({0:'avg'}))\n",
    "cal_std = pd.DataFrame(daily_return.std()).rename(columns = ({0:'std'}))\n",
    "portfolio1 = pd.concat((cal_avg, cal_std), axis = 1).T\n",
    "portfolio1.loc['weight','SPY'] = 0.4\n",
    "portfolio1.loc['weight','AGG'] = 0.6\n",
    "portfolio1.loc[:,'XYZ'] =[0.000002,0.03,0.0]\n",
    "portfolio1"
   ]
  },
  {
   "cell_type": "code",
   "execution_count": 3,
   "metadata": {},
   "outputs": [
    {
     "data": {
      "text/html": [
       "<div>\n",
       "<style scoped>\n",
       "    .dataframe tbody tr th:only-of-type {\n",
       "        vertical-align: middle;\n",
       "    }\n",
       "\n",
       "    .dataframe tbody tr th {\n",
       "        vertical-align: top;\n",
       "    }\n",
       "\n",
       "    .dataframe thead th {\n",
       "        text-align: right;\n",
       "    }\n",
       "</style>\n",
       "<table border=\"1\" class=\"dataframe\">\n",
       "  <thead>\n",
       "    <tr style=\"text-align: right;\">\n",
       "      <th></th>\n",
       "      <th>0</th>\n",
       "      <th>1</th>\n",
       "      <th>2</th>\n",
       "      <th>3</th>\n",
       "    </tr>\n",
       "  </thead>\n",
       "  <tbody>\n",
       "    <tr>\n",
       "      <th>0</th>\n",
       "      <td>0.00020</td>\n",
       "      <td>0.000009</td>\n",
       "      <td>0.0002</td>\n",
       "      <td>0.000080</td>\n",
       "    </tr>\n",
       "    <tr>\n",
       "      <th>1</th>\n",
       "      <td>0.00003</td>\n",
       "      <td>0.008300</td>\n",
       "      <td>0.0005</td>\n",
       "      <td>0.000865</td>\n",
       "    </tr>\n",
       "    <tr>\n",
       "      <th>2</th>\n",
       "      <td>0.20000</td>\n",
       "      <td>0.100000</td>\n",
       "      <td>0.3000</td>\n",
       "      <td>0.400000</td>\n",
       "    </tr>\n",
       "  </tbody>\n",
       "</table>\n",
       "</div>"
      ],
      "text/plain": [
       "         0         1       2         3\n",
       "0  0.00020  0.000009  0.0002  0.000080\n",
       "1  0.00003  0.008300  0.0005  0.000865\n",
       "2  0.20000  0.100000  0.3000  0.400000"
      ]
     },
     "execution_count": 3,
     "metadata": {},
     "output_type": "execute_result"
    }
   ],
   "source": [
    "#get portfolio 2\n",
    "portfolio2 = pd.DataFrame([[0.0002,0.000009,0.0002,0.00008],\n",
    "                           [0.00003,0.0083,0.0005,0.000865],\n",
    "                           [0.2,0.1,0.3,0.4]])\n",
    "portfolio2"
   ]
  },
  {
   "cell_type": "code",
   "execution_count": 5,
   "metadata": {
    "jupyter": {
     "outputs_hidden": false
    }
   },
   "outputs": [
    {
     "data": {
      "text/plain": [
       "<matplotlib.axes._subplots.AxesSubplot at 0x1225fbbd0>"
      ]
     },
     "execution_count": 5,
     "metadata": {},
     "output_type": "execute_result"
    },
    {
     "data": {
      "image/png": "[encoded data removed]",
      "text/plain": [
       "<Figure size 720x360 with 1 Axes>"
      ]
     },
     "metadata": {
      "needs_background": "light"
     },
     "output_type": "display_data"
    }
   ],
   "source": [
    "#ys.quantile_chart(portfolio, initial_investment,withdraw_type('fixed amount' or 'fixed rate'), withdraw amount or withdraw rate, years to retirement)\n",
    "\n",
    "ys.quantile_chart(portfolio1, 1000,'fixed rate', -0.02,30)"
   ]
  },
  {
   "cell_type": "code",
   "execution_count": null,
   "metadata": {},
   "outputs": [],
   "source": [
    "#ys.quantile_chart(portfolio, initial_investment,withdraw_type('fixed amount' or 'fixed rate'), withdraw amount or withdraw rate, years to retirement)\n",
    "\n",
    "ys.quantile_chart(portfolio1, 1000,'fixed rate', 0.00,30)"
   ]
  },
  {
   "cell_type": "code",
   "execution_count": null,
   "metadata": {},
   "outputs": [],
   "source": [
    "ys.simulation_chart(portfolio1, 1_000_000,'fixed amount', 60_000,20)"
   ]
  },
  {
   "cell_type": "code",
   "execution_count": null,
   "metadata": {},
   "outputs": [],
   "source": [
    "ys.confidence_interval(portfolio2, 10_000,'fixed amount', 100,20)"
   ]
  },
  {
   "cell_type": "code",
   "execution_count": null,
   "metadata": {},
   "outputs": [],
   "source": [
    "ys.quantile_chart(portfolio1, 1_000_000,'fixed rate', -0.06,20)"
   ]
  },
  {
   "cell_type": "code",
   "execution_count": null,
   "metadata": {},
   "outputs": [],
   "source": [
    "ys.simulation_chart(portfolio1, 1_000_000,'fixed rate', 0.06,20)"
   ]
  },
  {
   "cell_type": "code",
   "execution_count": null,
   "metadata": {},
   "outputs": [],
   "source": [
    "ys.confidence_interval(portfolio1, 1_000_000,'fixed rate', 0.06,20)"
   ]
  },
  {
   "cell_type": "code",
   "execution_count": 6,
   "metadata": {},
   "outputs": [
    {
     "name": "stdout",
     "output_type": "stream",
     "text": [
      "CPU times: user 32.9 s, sys: 9.53 s, total: 42.4 s\n",
      "Wall time: 42.7 s\n"
     ]
    }
   ],
   "source": [
    "%%time\n",
    "#ys.search_withdraw_amount(portfolio,initial_investment,years_to_retirement,target_return)\n",
    "result = ys.search_withdraw_amount(portfolio1,10000,30,60000)"
   ]
  },
  {
   "cell_type": "code",
   "execution_count": 8,
   "metadata": {
    "scrolled": true
   },
   "outputs": [
    {
     "name": "stdout",
     "output_type": "stream",
     "text": [
      "Rather than withdrawing, you should deposit $400 annually, and ending 10% percentile balance after 30 years would be $63318.\n"
     ]
    }
   ],
   "source": [
    "print(result['a'])"
   ]
  },
  {
   "cell_type": "code",
   "execution_count": 9,
   "metadata": {
    "scrolled": true
   },
   "outputs": [
    {
     "data": {
      "image/png": "[encoded data removed]",
      "text/plain": [
       "<Figure size 720x360 with 1 Axes>"
      ]
     },
     "metadata": {
      "needs_background": "light"
     },
     "output_type": "display_data"
    }
   ],
   "source": [
    "if result['a'] != 'Your target return is out of bound.  Please input reasonable numbers!':\n",
    "    ys.quantile_chart(portfolio1, 1_000_000,'fixed amount', result['b'],30)"
   ]
  },
  {
   "cell_type": "code",
   "execution_count": null,
   "metadata": {},
   "outputs": [],
   "source": [
    "ys.search_withdraw_amount(portfolio2,10000,20,25000)"
   ]
  },
  {
   "cell_type": "code",
   "execution_count": null,
   "metadata": {},
   "outputs": [],
   "source": [
    "%%time\n",
    "ys.search_withdraw_rate(portfolio1,10000,20,22000)"
   ]
  },
  {
   "cell_type": "code",
   "execution_count": null,
   "metadata": {},
   "outputs": [],
   "source": [
    "ys.search_withdraw_rate(portfolio1,10000,20,200000)"
   ]
  },
  {
   "cell_type": "code",
   "execution_count": null,
   "metadata": {},
   "outputs": [],
   "source": []
  }
 ],
 "metadata": {
  "kernel_info": {
   "name": "dev"
  },
  "kernelspec": {
   "display_name": "Python 3",
   "language": "python",
   "name": "python3"
  },
  "language_info": {
   "codemirror_mode": {
    "name": "ipython",
    "version": 3
   },
   "file_extension": ".py",
   "mimetype": "text/x-python",
   "name": "python",
   "nbconvert_exporter": "python",
   "pygments_lexer": "ipython3",
   "version": "3.7.4"
  },
  "nteract": {
   "version": "0.12.3"
  }
 },
 "nbformat": 4,
 "nbformat_minor": 4
}
