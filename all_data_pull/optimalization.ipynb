{
 "cells": [
  {
   "cell_type": "code",
   "execution_count": 1,
   "metadata": {},
   "outputs": [],
   "source": [
    "import pandas as pd\n",
    "from pypfopt.efficient_frontier import EfficientFrontier\n",
    "from pypfopt import risk_models\n",
    "from pypfopt import expected_returns"
   ]
  },
  {
   "cell_type": "code",
   "execution_count": 9,
   "metadata": {},
   "outputs": [
    {
     "data": {
      "text/html": [
       "<div>\n",
       "<style scoped>\n",
       "    .dataframe tbody tr th:only-of-type {\n",
       "        vertical-align: middle;\n",
       "    }\n",
       "\n",
       "    .dataframe tbody tr th {\n",
       "        vertical-align: top;\n",
       "    }\n",
       "\n",
       "    .dataframe thead th {\n",
       "        text-align: right;\n",
       "    }\n",
       "</style>\n",
       "<table border=\"1\" class=\"dataframe\">\n",
       "  <thead>\n",
       "    <tr style=\"text-align: right;\">\n",
       "      <th></th>\n",
       "      <th>VOOV</th>\n",
       "      <th>EZU</th>\n",
       "      <th>IWM</th>\n",
       "      <th>SMH</th>\n",
       "      <th>IBB</th>\n",
       "      <th>XLU</th>\n",
       "      <th>VOOG</th>\n",
       "      <th>SPY</th>\n",
       "      <th>QQQ</th>\n",
       "    </tr>\n",
       "    <tr>\n",
       "      <th>Date</th>\n",
       "      <th></th>\n",
       "      <th></th>\n",
       "      <th></th>\n",
       "      <th></th>\n",
       "      <th></th>\n",
       "      <th></th>\n",
       "      <th></th>\n",
       "      <th></th>\n",
       "      <th></th>\n",
       "    </tr>\n",
       "  </thead>\n",
       "  <tbody>\n",
       "    <tr>\n",
       "      <th>2/11/15</th>\n",
       "      <td>89.86</td>\n",
       "      <td>37.22</td>\n",
       "      <td>119.45</td>\n",
       "      <td>55.28</td>\n",
       "      <td>105.75</td>\n",
       "      <td>46.08</td>\n",
       "      <td>101.52</td>\n",
       "      <td>206.93</td>\n",
       "      <td>104.78</td>\n",
       "    </tr>\n",
       "    <tr>\n",
       "      <th>2/12/15</th>\n",
       "      <td>90.75</td>\n",
       "      <td>38.20</td>\n",
       "      <td>120.81</td>\n",
       "      <td>56.06</td>\n",
       "      <td>106.81</td>\n",
       "      <td>45.87</td>\n",
       "      <td>102.60</td>\n",
       "      <td>208.92</td>\n",
       "      <td>106.00</td>\n",
       "    </tr>\n",
       "    <tr>\n",
       "      <th>2/13/15</th>\n",
       "      <td>91.08</td>\n",
       "      <td>38.29</td>\n",
       "      <td>121.53</td>\n",
       "      <td>56.39</td>\n",
       "      <td>107.82</td>\n",
       "      <td>45.17</td>\n",
       "      <td>103.12</td>\n",
       "      <td>209.78</td>\n",
       "      <td>106.91</td>\n",
       "    </tr>\n",
       "    <tr>\n",
       "      <th>2/17/15</th>\n",
       "      <td>91.13</td>\n",
       "      <td>38.34</td>\n",
       "      <td>121.91</td>\n",
       "      <td>56.63</td>\n",
       "      <td>108.94</td>\n",
       "      <td>45.13</td>\n",
       "      <td>103.24</td>\n",
       "      <td>210.11</td>\n",
       "      <td>107.01</td>\n",
       "    </tr>\n",
       "    <tr>\n",
       "      <th>2/18/15</th>\n",
       "      <td>91.01</td>\n",
       "      <td>38.44</td>\n",
       "      <td>122.04</td>\n",
       "      <td>56.44</td>\n",
       "      <td>109.81</td>\n",
       "      <td>46.20</td>\n",
       "      <td>103.44</td>\n",
       "      <td>210.13</td>\n",
       "      <td>107.16</td>\n",
       "    </tr>\n",
       "  </tbody>\n",
       "</table>\n",
       "</div>"
      ],
      "text/plain": [
       "          VOOV    EZU     IWM    SMH     IBB    XLU    VOOG     SPY     QQQ\n",
       "Date                                                                       \n",
       "2/11/15  89.86  37.22  119.45  55.28  105.75  46.08  101.52  206.93  104.78\n",
       "2/12/15  90.75  38.20  120.81  56.06  106.81  45.87  102.60  208.92  106.00\n",
       "2/13/15  91.08  38.29  121.53  56.39  107.82  45.17  103.12  209.78  106.91\n",
       "2/17/15  91.13  38.34  121.91  56.63  108.94  45.13  103.24  210.11  107.01\n",
       "2/18/15  91.01  38.44  122.04  56.44  109.81  46.20  103.44  210.13  107.16"
      ]
     },
     "execution_count": 9,
     "metadata": {},
     "output_type": "execute_result"
    }
   ],
   "source": [
    "# Read in price data\n",
    "df = pd.read_csv(\"equitydata.csv\", parse_dates=True)\n",
    "df.set_index('Date', inplace=True)\n",
    "df.head()"
   ]
  },
  {
   "cell_type": "code",
   "execution_count": 10,
   "metadata": {},
   "outputs": [],
   "source": [
    "# Calculate expected returns and sample covariance\n",
    "mu = expected_returns.mean_historical_return(df)\n",
    "S = risk_models.sample_cov(df)"
   ]
  },
  {
   "cell_type": "code",
   "execution_count": 13,
   "metadata": {},
   "outputs": [
    {
     "name": "stdout",
     "output_type": "stream",
     "text": [
      "{'VOOV': 0.0, 'EZU': 0.0, 'IWM': 0.0, 'SMH': 0.28961, 'IBB': 0.0, 'XLU': 0.35317, 'VOOG': 0.0, 'SPY': 0.0, 'QQQ': 0.35722}\n",
      "Expected annual return: 15.6%\n",
      "Annual volatility: 14.1%\n",
      "Sharpe Ratio: 0.97\n"
     ]
    },
    {
     "data": {
      "text/plain": [
       "(0.15632238591315972, 0.14061605214841388, 0.9694653194307974)"
      ]
     },
     "execution_count": 13,
     "metadata": {},
     "output_type": "execute_result"
    }
   ],
   "source": [
    "# Optimise for maximal Sharpe ratio\n",
    "ef = EfficientFrontier(mu, S)\n",
    "raw_weights = ef.max_sharpe()\n",
    "cleaned_weights = ef.clean_weights()\n",
    "ef.save_weights_to_file(\"weights.csv\")  # saves to file\n",
    "print(cleaned_weights)\n",
    "ef.portfolio_performance(verbose=True)"
   ]
  },
  {
   "cell_type": "code",
   "execution_count": null,
   "metadata": {},
   "outputs": [],
   "source": []
  }
 ],
 "metadata": {
  "kernelspec": {
   "display_name": "Python 3",
   "language": "python",
   "name": "python3"
  },
  "language_info": {
   "codemirror_mode": {
    "name": "ipython",
    "version": 3
   },
   "file_extension": ".py",
   "mimetype": "text/x-python",
   "name": "python",
   "nbconvert_exporter": "python",
   "pygments_lexer": "ipython3",
   "version": "3.7.4"
  }
 },
 "nbformat": 4,
 "nbformat_minor": 4
}
