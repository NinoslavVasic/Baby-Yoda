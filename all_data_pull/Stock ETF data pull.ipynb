{
 "cells": [
  {
   "cell_type": "code",
   "execution_count": 1,
   "metadata": {},
   "outputs": [],
   "source": [
    "import numpy as np\n",
    "import pandas as pd\n",
    "from datetime import datetime, timedelta\n",
    "import matplotlib.pyplot as plt\n",
    "import os\n",
    "import json\n",
    "from iexfinance.stocks import get_historical_data\n",
    "import iexfinance as iex\n",
    "\n",
    "%matplotlib inline"
   ]
  },
  {
   "cell_type": "code",
   "execution_count": 2,
   "metadata": {},
   "outputs": [
    {
     "name": "stdout",
     "output_type": "stream",
     "text": [
      "35\n",
      "35\n"
     ]
    }
   ],
   "source": [
    "API_Tokens = os.getenv(\"IEX_TOKEN\")\n",
    "API_Tokens_Secret = os.getenv(\"IEX_TOKEN_SECRET\")\n",
    "print(len(API_Tokens))\n",
    "print(len(API_Tokens_Secret))"
   ]
  },
  {
   "cell_type": "code",
   "execution_count": 3,
   "metadata": {},
   "outputs": [],
   "source": [
    "#list_of_tickers = [\"SPY\",\"QQQ\"]\n",
    "# Set Dates\n",
    "#end_date = datetime.now()\n",
    "#start_date = end_date + timedelta(-1825)\n",
    "#Pull Data From IEX Finance\n",
    "#spy_df = get_historical_data(list_of_tickers, start_date, end_date, close_only=True, output_format='pandas')\n",
    "#spy_df.drop(columns='volume', level=1,inplace=True)\n",
    "#spy_df.head()"
   ]
  },
  {
   "cell_type": "code",
   "execution_count": 4,
   "metadata": {},
   "outputs": [
    {
     "ename": "NameError",
     "evalue": "name 'spy_df' is not defined",
     "output_type": "error",
     "traceback": [
      "\u001b[0;31m---------------------------------------------------------------------------\u001b[0m",
      "\u001b[0;31mNameError\u001b[0m                                 Traceback (most recent call last)",
      "\u001b[0;32m<ipython-input-4-09e05902ca50>\u001b[0m in \u001b[0;36m<module>\u001b[0;34m\u001b[0m\n\u001b[0;32m----> 1\u001b[0;31m \u001b[0mspy_df\u001b[0m\u001b[0;34m.\u001b[0m\u001b[0mto_csv\u001b[0m\u001b[0;34m(\u001b[0m\u001b[0;34m'spy&QQQ.csv'\u001b[0m\u001b[0;34m)\u001b[0m\u001b[0;34m\u001b[0m\u001b[0;34m\u001b[0m\u001b[0m\n\u001b[0m",
      "\u001b[0;31mNameError\u001b[0m: name 'spy_df' is not defined"
     ]
    }
   ],
   "source": [
    "#spy_df.to_csv('spy&QQQ.csv')"
   ]
  },
  {
   "cell_type": "code",
   "execution_count": 5,
   "metadata": {},
   "outputs": [
    {
     "ename": "FileNotFoundError",
     "evalue": "[Errno 2] File b'spy&QQQ' does not exist: b'spy&QQQ'",
     "output_type": "error",
     "traceback": [
      "\u001b[0;31m---------------------------------------------------------------------------\u001b[0m",
      "\u001b[0;31mFileNotFoundError\u001b[0m                         Traceback (most recent call last)",
      "\u001b[0;32m<ipython-input-5-396ce46847b4>\u001b[0m in \u001b[0;36m<module>\u001b[0;34m\u001b[0m\n\u001b[0;32m----> 1\u001b[0;31m \u001b[0mspy_org\u001b[0m \u001b[0;34m=\u001b[0m \u001b[0mpd\u001b[0m\u001b[0;34m.\u001b[0m\u001b[0mread_csv\u001b[0m\u001b[0;34m(\u001b[0m\u001b[0;34m'spy&QQQ'\u001b[0m\u001b[0;34m)\u001b[0m\u001b[0;34m\u001b[0m\u001b[0;34m\u001b[0m\u001b[0m\n\u001b[0m\u001b[1;32m      2\u001b[0m \u001b[0mspy_org\u001b[0m\u001b[0;34m.\u001b[0m\u001b[0mdrop\u001b[0m\u001b[0;34m(\u001b[0m\u001b[0;34m[\u001b[0m\u001b[0;36m1259\u001b[0m\u001b[0;34m,\u001b[0m\u001b[0;36m1260\u001b[0m\u001b[0;34m]\u001b[0m\u001b[0;34m,\u001b[0m\u001b[0minplace\u001b[0m\u001b[0;34m=\u001b[0m \u001b[0;32mTrue\u001b[0m\u001b[0;34m)\u001b[0m\u001b[0;34m\u001b[0m\u001b[0;34m\u001b[0m\u001b[0m\n\u001b[1;32m      3\u001b[0m \u001b[0mspy_org\u001b[0m\u001b[0;34m.\u001b[0m\u001b[0mrename\u001b[0m\u001b[0;34m(\u001b[0m\u001b[0mcolumns\u001b[0m \u001b[0;34m=\u001b[0m \u001b[0;34m{\u001b[0m\u001b[0;34m\"Unnamed: 0\"\u001b[0m\u001b[0;34m:\u001b[0m\u001b[0;34m\"Date\"\u001b[0m\u001b[0;34m}\u001b[0m\u001b[0;34m,\u001b[0m\u001b[0minplace\u001b[0m \u001b[0;34m=\u001b[0m \u001b[0;32mTrue\u001b[0m\u001b[0;34m)\u001b[0m\u001b[0;34m\u001b[0m\u001b[0;34m\u001b[0m\u001b[0m\n\u001b[1;32m      4\u001b[0m \u001b[0mspy_org\u001b[0m\u001b[0;34m.\u001b[0m\u001b[0mdropna\u001b[0m\u001b[0;34m(\u001b[0m\u001b[0minplace\u001b[0m\u001b[0;34m=\u001b[0m\u001b[0;32mTrue\u001b[0m\u001b[0;34m)\u001b[0m\u001b[0;34m\u001b[0m\u001b[0;34m\u001b[0m\u001b[0m\n\u001b[1;32m      5\u001b[0m \u001b[0mspy_org\u001b[0m\u001b[0;34m.\u001b[0m\u001b[0mset_index\u001b[0m\u001b[0;34m(\u001b[0m\u001b[0;34m\"Date\"\u001b[0m\u001b[0;34m,\u001b[0m\u001b[0minplace\u001b[0m\u001b[0;34m=\u001b[0m\u001b[0;32mTrue\u001b[0m\u001b[0;34m)\u001b[0m\u001b[0;34m\u001b[0m\u001b[0;34m\u001b[0m\u001b[0m\n",
      "\u001b[0;32m~/opt/anaconda3/lib/python3.7/site-packages/pandas/io/parsers.py\u001b[0m in \u001b[0;36mparser_f\u001b[0;34m(filepath_or_buffer, sep, delimiter, header, names, index_col, usecols, squeeze, prefix, mangle_dupe_cols, dtype, engine, converters, true_values, false_values, skipinitialspace, skiprows, skipfooter, nrows, na_values, keep_default_na, na_filter, verbose, skip_blank_lines, parse_dates, infer_datetime_format, keep_date_col, date_parser, dayfirst, cache_dates, iterator, chunksize, compression, thousands, decimal, lineterminator, quotechar, quoting, doublequote, escapechar, comment, encoding, dialect, error_bad_lines, warn_bad_lines, delim_whitespace, low_memory, memory_map, float_precision)\u001b[0m\n\u001b[1;32m    683\u001b[0m         )\n\u001b[1;32m    684\u001b[0m \u001b[0;34m\u001b[0m\u001b[0m\n\u001b[0;32m--> 685\u001b[0;31m         \u001b[0;32mreturn\u001b[0m \u001b[0m_read\u001b[0m\u001b[0;34m(\u001b[0m\u001b[0mfilepath_or_buffer\u001b[0m\u001b[0;34m,\u001b[0m \u001b[0mkwds\u001b[0m\u001b[0;34m)\u001b[0m\u001b[0;34m\u001b[0m\u001b[0;34m\u001b[0m\u001b[0m\n\u001b[0m\u001b[1;32m    686\u001b[0m \u001b[0;34m\u001b[0m\u001b[0m\n\u001b[1;32m    687\u001b[0m     \u001b[0mparser_f\u001b[0m\u001b[0;34m.\u001b[0m\u001b[0m__name__\u001b[0m \u001b[0;34m=\u001b[0m \u001b[0mname\u001b[0m\u001b[0;34m\u001b[0m\u001b[0;34m\u001b[0m\u001b[0m\n",
      "\u001b[0;32m~/opt/anaconda3/lib/python3.7/site-packages/pandas/io/parsers.py\u001b[0m in \u001b[0;36m_read\u001b[0;34m(filepath_or_buffer, kwds)\u001b[0m\n\u001b[1;32m    455\u001b[0m \u001b[0;34m\u001b[0m\u001b[0m\n\u001b[1;32m    456\u001b[0m     \u001b[0;31m# Create the parser.\u001b[0m\u001b[0;34m\u001b[0m\u001b[0;34m\u001b[0m\u001b[0;34m\u001b[0m\u001b[0m\n\u001b[0;32m--> 457\u001b[0;31m     \u001b[0mparser\u001b[0m \u001b[0;34m=\u001b[0m \u001b[0mTextFileReader\u001b[0m\u001b[0;34m(\u001b[0m\u001b[0mfp_or_buf\u001b[0m\u001b[0;34m,\u001b[0m \u001b[0;34m**\u001b[0m\u001b[0mkwds\u001b[0m\u001b[0;34m)\u001b[0m\u001b[0;34m\u001b[0m\u001b[0;34m\u001b[0m\u001b[0m\n\u001b[0m\u001b[1;32m    458\u001b[0m \u001b[0;34m\u001b[0m\u001b[0m\n\u001b[1;32m    459\u001b[0m     \u001b[0;32mif\u001b[0m \u001b[0mchunksize\u001b[0m \u001b[0;32mor\u001b[0m \u001b[0miterator\u001b[0m\u001b[0;34m:\u001b[0m\u001b[0;34m\u001b[0m\u001b[0;34m\u001b[0m\u001b[0m\n",
      "\u001b[0;32m~/opt/anaconda3/lib/python3.7/site-packages/pandas/io/parsers.py\u001b[0m in \u001b[0;36m__init__\u001b[0;34m(self, f, engine, **kwds)\u001b[0m\n\u001b[1;32m    893\u001b[0m             \u001b[0mself\u001b[0m\u001b[0;34m.\u001b[0m\u001b[0moptions\u001b[0m\u001b[0;34m[\u001b[0m\u001b[0;34m\"has_index_names\"\u001b[0m\u001b[0;34m]\u001b[0m \u001b[0;34m=\u001b[0m \u001b[0mkwds\u001b[0m\u001b[0;34m[\u001b[0m\u001b[0;34m\"has_index_names\"\u001b[0m\u001b[0;34m]\u001b[0m\u001b[0;34m\u001b[0m\u001b[0;34m\u001b[0m\u001b[0m\n\u001b[1;32m    894\u001b[0m \u001b[0;34m\u001b[0m\u001b[0m\n\u001b[0;32m--> 895\u001b[0;31m         \u001b[0mself\u001b[0m\u001b[0;34m.\u001b[0m\u001b[0m_make_engine\u001b[0m\u001b[0;34m(\u001b[0m\u001b[0mself\u001b[0m\u001b[0;34m.\u001b[0m\u001b[0mengine\u001b[0m\u001b[0;34m)\u001b[0m\u001b[0;34m\u001b[0m\u001b[0;34m\u001b[0m\u001b[0m\n\u001b[0m\u001b[1;32m    896\u001b[0m \u001b[0;34m\u001b[0m\u001b[0m\n\u001b[1;32m    897\u001b[0m     \u001b[0;32mdef\u001b[0m \u001b[0mclose\u001b[0m\u001b[0;34m(\u001b[0m\u001b[0mself\u001b[0m\u001b[0;34m)\u001b[0m\u001b[0;34m:\u001b[0m\u001b[0;34m\u001b[0m\u001b[0;34m\u001b[0m\u001b[0m\n",
      "\u001b[0;32m~/opt/anaconda3/lib/python3.7/site-packages/pandas/io/parsers.py\u001b[0m in \u001b[0;36m_make_engine\u001b[0;34m(self, engine)\u001b[0m\n\u001b[1;32m   1133\u001b[0m     \u001b[0;32mdef\u001b[0m \u001b[0m_make_engine\u001b[0m\u001b[0;34m(\u001b[0m\u001b[0mself\u001b[0m\u001b[0;34m,\u001b[0m \u001b[0mengine\u001b[0m\u001b[0;34m=\u001b[0m\u001b[0;34m\"c\"\u001b[0m\u001b[0;34m)\u001b[0m\u001b[0;34m:\u001b[0m\u001b[0;34m\u001b[0m\u001b[0;34m\u001b[0m\u001b[0m\n\u001b[1;32m   1134\u001b[0m         \u001b[0;32mif\u001b[0m \u001b[0mengine\u001b[0m \u001b[0;34m==\u001b[0m \u001b[0;34m\"c\"\u001b[0m\u001b[0;34m:\u001b[0m\u001b[0;34m\u001b[0m\u001b[0;34m\u001b[0m\u001b[0m\n\u001b[0;32m-> 1135\u001b[0;31m             \u001b[0mself\u001b[0m\u001b[0;34m.\u001b[0m\u001b[0m_engine\u001b[0m \u001b[0;34m=\u001b[0m \u001b[0mCParserWrapper\u001b[0m\u001b[0;34m(\u001b[0m\u001b[0mself\u001b[0m\u001b[0;34m.\u001b[0m\u001b[0mf\u001b[0m\u001b[0;34m,\u001b[0m \u001b[0;34m**\u001b[0m\u001b[0mself\u001b[0m\u001b[0;34m.\u001b[0m\u001b[0moptions\u001b[0m\u001b[0;34m)\u001b[0m\u001b[0;34m\u001b[0m\u001b[0;34m\u001b[0m\u001b[0m\n\u001b[0m\u001b[1;32m   1136\u001b[0m         \u001b[0;32melse\u001b[0m\u001b[0;34m:\u001b[0m\u001b[0;34m\u001b[0m\u001b[0;34m\u001b[0m\u001b[0m\n\u001b[1;32m   1137\u001b[0m             \u001b[0;32mif\u001b[0m \u001b[0mengine\u001b[0m \u001b[0;34m==\u001b[0m \u001b[0;34m\"python\"\u001b[0m\u001b[0;34m:\u001b[0m\u001b[0;34m\u001b[0m\u001b[0;34m\u001b[0m\u001b[0m\n",
      "\u001b[0;32m~/opt/anaconda3/lib/python3.7/site-packages/pandas/io/parsers.py\u001b[0m in \u001b[0;36m__init__\u001b[0;34m(self, src, **kwds)\u001b[0m\n\u001b[1;32m   1915\u001b[0m         \u001b[0mkwds\u001b[0m\u001b[0;34m[\u001b[0m\u001b[0;34m\"usecols\"\u001b[0m\u001b[0;34m]\u001b[0m \u001b[0;34m=\u001b[0m \u001b[0mself\u001b[0m\u001b[0;34m.\u001b[0m\u001b[0musecols\u001b[0m\u001b[0;34m\u001b[0m\u001b[0;34m\u001b[0m\u001b[0m\n\u001b[1;32m   1916\u001b[0m \u001b[0;34m\u001b[0m\u001b[0m\n\u001b[0;32m-> 1917\u001b[0;31m         \u001b[0mself\u001b[0m\u001b[0;34m.\u001b[0m\u001b[0m_reader\u001b[0m \u001b[0;34m=\u001b[0m \u001b[0mparsers\u001b[0m\u001b[0;34m.\u001b[0m\u001b[0mTextReader\u001b[0m\u001b[0;34m(\u001b[0m\u001b[0msrc\u001b[0m\u001b[0;34m,\u001b[0m \u001b[0;34m**\u001b[0m\u001b[0mkwds\u001b[0m\u001b[0;34m)\u001b[0m\u001b[0;34m\u001b[0m\u001b[0;34m\u001b[0m\u001b[0m\n\u001b[0m\u001b[1;32m   1918\u001b[0m         \u001b[0mself\u001b[0m\u001b[0;34m.\u001b[0m\u001b[0munnamed_cols\u001b[0m \u001b[0;34m=\u001b[0m \u001b[0mself\u001b[0m\u001b[0;34m.\u001b[0m\u001b[0m_reader\u001b[0m\u001b[0;34m.\u001b[0m\u001b[0munnamed_cols\u001b[0m\u001b[0;34m\u001b[0m\u001b[0;34m\u001b[0m\u001b[0m\n\u001b[1;32m   1919\u001b[0m \u001b[0;34m\u001b[0m\u001b[0m\n",
      "\u001b[0;32mpandas/_libs/parsers.pyx\u001b[0m in \u001b[0;36mpandas._libs.parsers.TextReader.__cinit__\u001b[0;34m()\u001b[0m\n",
      "\u001b[0;32mpandas/_libs/parsers.pyx\u001b[0m in \u001b[0;36mpandas._libs.parsers.TextReader._setup_parser_source\u001b[0;34m()\u001b[0m\n",
      "\u001b[0;31mFileNotFoundError\u001b[0m: [Errno 2] File b'spy&QQQ' does not exist: b'spy&QQQ'"
     ]
    }
   ],
   "source": [
    "spy_org = pd.read_csv('spy&QQQ')\n",
    "spy_org.drop([1259,1260],inplace= True)\n",
    "spy_org.rename(columns = {\"Unnamed: 0\":\"Date\"},inplace = True)\n",
    "spy_org.dropna(inplace=True)\n",
    "spy_org.set_index(\"Date\",inplace=True)"
   ]
  },
  {
   "cell_type": "code",
   "execution_count": 107,
   "metadata": {},
   "outputs": [],
   "source": [
    "spy_org['SPY']=spy_org['SPY'].astype('float')\n",
    "spy_org['QQQ']=spy_org['QQQ'].astype('float')"
   ]
  },
  {
   "cell_type": "code",
   "execution_count": 35,
   "metadata": {},
   "outputs": [
    {
     "data": {
      "text/html": [
       "<div>\n",
       "<style scoped>\n",
       "    .dataframe tbody tr th:only-of-type {\n",
       "        vertical-align: middle;\n",
       "    }\n",
       "\n",
       "    .dataframe tbody tr th {\n",
       "        vertical-align: top;\n",
       "    }\n",
       "\n",
       "    .dataframe thead tr th {\n",
       "        text-align: left;\n",
       "    }\n",
       "\n",
       "    .dataframe thead tr:last-of-type th {\n",
       "        text-align: right;\n",
       "    }\n",
       "</style>\n",
       "<table border=\"1\" class=\"dataframe\">\n",
       "  <thead>\n",
       "    <tr>\n",
       "      <th></th>\n",
       "      <th>IWM</th>\n",
       "      <th>SMH</th>\n",
       "      <th>IBB</th>\n",
       "      <th>XLU</th>\n",
       "      <th>VOOG</th>\n",
       "    </tr>\n",
       "    <tr>\n",
       "      <th></th>\n",
       "      <th>close</th>\n",
       "      <th>close</th>\n",
       "      <th>close</th>\n",
       "      <th>close</th>\n",
       "      <th>close</th>\n",
       "    </tr>\n",
       "    <tr>\n",
       "      <th>date</th>\n",
       "      <th></th>\n",
       "      <th></th>\n",
       "      <th></th>\n",
       "      <th></th>\n",
       "      <th></th>\n",
       "    </tr>\n",
       "  </thead>\n",
       "  <tbody>\n",
       "    <tr>\n",
       "      <td>2015-02-11</td>\n",
       "      <td>119.45</td>\n",
       "      <td>55.28</td>\n",
       "      <td>105.75</td>\n",
       "      <td>46.08</td>\n",
       "      <td>101.52</td>\n",
       "    </tr>\n",
       "    <tr>\n",
       "      <td>2015-02-12</td>\n",
       "      <td>120.81</td>\n",
       "      <td>56.06</td>\n",
       "      <td>106.81</td>\n",
       "      <td>45.87</td>\n",
       "      <td>102.60</td>\n",
       "    </tr>\n",
       "    <tr>\n",
       "      <td>2015-02-13</td>\n",
       "      <td>121.53</td>\n",
       "      <td>56.39</td>\n",
       "      <td>107.82</td>\n",
       "      <td>45.17</td>\n",
       "      <td>103.12</td>\n",
       "    </tr>\n",
       "    <tr>\n",
       "      <td>2015-02-17</td>\n",
       "      <td>121.91</td>\n",
       "      <td>56.63</td>\n",
       "      <td>108.94</td>\n",
       "      <td>45.13</td>\n",
       "      <td>103.24</td>\n",
       "    </tr>\n",
       "    <tr>\n",
       "      <td>2015-02-18</td>\n",
       "      <td>122.04</td>\n",
       "      <td>56.44</td>\n",
       "      <td>109.81</td>\n",
       "      <td>46.20</td>\n",
       "      <td>103.44</td>\n",
       "    </tr>\n",
       "  </tbody>\n",
       "</table>\n",
       "</div>"
      ],
      "text/plain": [
       "               IWM    SMH     IBB    XLU    VOOG\n",
       "             close  close   close  close   close\n",
       "date                                            \n",
       "2015-02-11  119.45  55.28  105.75  46.08  101.52\n",
       "2015-02-12  120.81  56.06  106.81  45.87  102.60\n",
       "2015-02-13  121.53  56.39  107.82  45.17  103.12\n",
       "2015-02-17  121.91  56.63  108.94  45.13  103.24\n",
       "2015-02-18  122.04  56.44  109.81  46.20  103.44"
      ]
     },
     "execution_count": 35,
     "metadata": {},
     "output_type": "execute_result"
    }
   ],
   "source": [
    "#list_of_tickers = [\"IWM\",\"SMH\",\"IBB\",\"XLU\",\"VOOG\"]\n",
    "#\"VOOV\",\"EZU\",\"EWT\",\"EEM\",\"AIA\"\n",
    "# Set Dates\n",
    "#end_date = datetime.now()\n",
    "#start_date = end_date + timedelta(-1825)\n",
    "#Pull Data From IEX Finance\n",
    "#etf_df = get_historical_data(list_of_tickers, start_date, end_date, close_only=True, output_format='pandas')\n",
    "#etf_df.drop(columns='volume', level=1,inplace=True)\n",
    "#etf_df.head()"
   ]
  },
  {
   "cell_type": "code",
   "execution_count": 108,
   "metadata": {},
   "outputs": [],
   "source": [
    "etf_df.to_csv('IWM&SMH&IBB&XLU&VOOG.csv')"
   ]
  },
  {
   "cell_type": "code",
   "execution_count": 109,
   "metadata": {},
   "outputs": [],
   "source": [
    "etf_1 = pd.read_csv('IWM&SMH&IBB&XLU&VOOG.csv')\n",
    "etf_1.drop([1259,1260],inplace= True)\n",
    "etf_1.rename(columns = {\"Unnamed: 0\":\"Date\"},inplace = True)\n",
    "etf_1.dropna(inplace=True)\n",
    "etf_1.set_index(\"Date\",inplace=True)"
   ]
  },
  {
   "cell_type": "code",
   "execution_count": 110,
   "metadata": {},
   "outputs": [],
   "source": [
    "etf_1['IWM']=etf_1['IWM'].astype('float')\n",
    "etf_1['SMH']=etf_1['SMH'].astype('float')\n",
    "etf_1['IBB']=etf_1['IBB'].astype('float')\n",
    "etf_1['XLU']=etf_1['XLU'].astype('float')\n",
    "etf_1['VOOG']=etf_1['VOOG'].astype('float')"
   ]
  },
  {
   "cell_type": "code",
   "execution_count": 43,
   "metadata": {},
   "outputs": [
    {
     "data": {
      "text/html": [
       "<div>\n",
       "<style scoped>\n",
       "    .dataframe tbody tr th:only-of-type {\n",
       "        vertical-align: middle;\n",
       "    }\n",
       "\n",
       "    .dataframe tbody tr th {\n",
       "        vertical-align: top;\n",
       "    }\n",
       "\n",
       "    .dataframe thead tr th {\n",
       "        text-align: left;\n",
       "    }\n",
       "\n",
       "    .dataframe thead tr:last-of-type th {\n",
       "        text-align: right;\n",
       "    }\n",
       "</style>\n",
       "<table border=\"1\" class=\"dataframe\">\n",
       "  <thead>\n",
       "    <tr>\n",
       "      <th></th>\n",
       "      <th>VOOV</th>\n",
       "      <th>EZU</th>\n",
       "    </tr>\n",
       "    <tr>\n",
       "      <th></th>\n",
       "      <th>close</th>\n",
       "      <th>close</th>\n",
       "    </tr>\n",
       "    <tr>\n",
       "      <th>date</th>\n",
       "      <th></th>\n",
       "      <th></th>\n",
       "    </tr>\n",
       "  </thead>\n",
       "  <tbody>\n",
       "    <tr>\n",
       "      <td>2015-02-11</td>\n",
       "      <td>89.86</td>\n",
       "      <td>37.22</td>\n",
       "    </tr>\n",
       "    <tr>\n",
       "      <td>2015-02-12</td>\n",
       "      <td>90.75</td>\n",
       "      <td>38.20</td>\n",
       "    </tr>\n",
       "    <tr>\n",
       "      <td>2015-02-13</td>\n",
       "      <td>91.08</td>\n",
       "      <td>38.29</td>\n",
       "    </tr>\n",
       "    <tr>\n",
       "      <td>2015-02-17</td>\n",
       "      <td>91.13</td>\n",
       "      <td>38.34</td>\n",
       "    </tr>\n",
       "    <tr>\n",
       "      <td>2015-02-18</td>\n",
       "      <td>91.01</td>\n",
       "      <td>38.44</td>\n",
       "    </tr>\n",
       "  </tbody>\n",
       "</table>\n",
       "</div>"
      ],
      "text/plain": [
       "             VOOV    EZU\n",
       "            close  close\n",
       "date                    \n",
       "2015-02-11  89.86  37.22\n",
       "2015-02-12  90.75  38.20\n",
       "2015-02-13  91.08  38.29\n",
       "2015-02-17  91.13  38.34\n",
       "2015-02-18  91.01  38.44"
      ]
     },
     "execution_count": 43,
     "metadata": {},
     "output_type": "execute_result"
    }
   ],
   "source": [
    "#list_of_tickers = [\"VOOV\",\"EZU\"]\n",
    "#\"EWT\",\"EEM\",\"AIA\"\n",
    "# Set Dates\n",
    "#end_date = datetime.now()\n",
    "#start_date = end_date + timedelta(-1825)\n",
    "#Pull Data From IEX Finance\n",
    "#etf_2_df = get_historical_data(list_of_tickers, start_date, end_date, close_only=True, output_format='pandas')\n",
    "#etf_2_df.drop(columns='volume', level=1,inplace=True)\n",
    "#etf_2_df.head()"
   ]
  },
  {
   "cell_type": "code",
   "execution_count": null,
   "metadata": {},
   "outputs": [],
   "source": [
    "etf_2_df.to_csv('VOOV&EZU.csv')"
   ]
  },
  {
   "cell_type": "code",
   "execution_count": 85,
   "metadata": {},
   "outputs": [],
   "source": [
    "etf_2 = pd.read_csv('VOOV&EZU.csv')\n",
    "etf_2.drop([1259,1260],inplace= True)\n",
    "etf_2.rename(columns = {\"Unnamed: 0\":\"Date\"},inplace = True)\n",
    "etf_2.dropna(inplace=True)\n",
    "etf_2.set_index(\"Date\",inplace=True)\n",
    "etf_2['VOOV']=etf_2['VOOV'].astype('float')\n",
    "etf_2['EZU']=etf_2['EZU'].astype('float')"
   ]
  },
  {
   "cell_type": "code",
   "execution_count": 111,
   "metadata": {},
   "outputs": [],
   "source": [
    "stock_etf_combined = pd.concat([etf_2,etf_1,spy_org], axis=1 , join = \"inner\")\n",
    "stock_etf_combined.to_csv('Stock ETF data pull.csv')"
   ]
  },
  {
   "cell_type": "code",
   "execution_count": 112,
   "metadata": {},
   "outputs": [
    {
     "data": {
      "text/html": [
       "<div>\n",
       "<style scoped>\n",
       "    .dataframe tbody tr th:only-of-type {\n",
       "        vertical-align: middle;\n",
       "    }\n",
       "\n",
       "    .dataframe tbody tr th {\n",
       "        vertical-align: top;\n",
       "    }\n",
       "\n",
       "    .dataframe thead th {\n",
       "        text-align: right;\n",
       "    }\n",
       "</style>\n",
       "<table border=\"1\" class=\"dataframe\">\n",
       "  <thead>\n",
       "    <tr style=\"text-align: right;\">\n",
       "      <th></th>\n",
       "      <th>VOOV</th>\n",
       "      <th>EZU</th>\n",
       "      <th>IWM</th>\n",
       "      <th>SMH</th>\n",
       "      <th>IBB</th>\n",
       "      <th>XLU</th>\n",
       "      <th>VOOG</th>\n",
       "      <th>SPY</th>\n",
       "      <th>QQQ</th>\n",
       "    </tr>\n",
       "    <tr>\n",
       "      <th>Date</th>\n",
       "      <th></th>\n",
       "      <th></th>\n",
       "      <th></th>\n",
       "      <th></th>\n",
       "      <th></th>\n",
       "      <th></th>\n",
       "      <th></th>\n",
       "      <th></th>\n",
       "      <th></th>\n",
       "    </tr>\n",
       "  </thead>\n",
       "  <tbody>\n",
       "    <tr>\n",
       "      <td>2015-02-12</td>\n",
       "      <td>0.009904</td>\n",
       "      <td>0.026330</td>\n",
       "      <td>0.011386</td>\n",
       "      <td>0.014110</td>\n",
       "      <td>0.010024</td>\n",
       "      <td>-0.004557</td>\n",
       "      <td>0.010638</td>\n",
       "      <td>0.009617</td>\n",
       "      <td>0.011643</td>\n",
       "    </tr>\n",
       "    <tr>\n",
       "      <td>2015-02-13</td>\n",
       "      <td>0.003636</td>\n",
       "      <td>0.002356</td>\n",
       "      <td>0.005960</td>\n",
       "      <td>0.005887</td>\n",
       "      <td>0.009456</td>\n",
       "      <td>-0.015261</td>\n",
       "      <td>0.005068</td>\n",
       "      <td>0.004116</td>\n",
       "      <td>0.008585</td>\n",
       "    </tr>\n",
       "    <tr>\n",
       "      <td>2015-02-17</td>\n",
       "      <td>0.000549</td>\n",
       "      <td>0.001306</td>\n",
       "      <td>0.003127</td>\n",
       "      <td>0.004256</td>\n",
       "      <td>0.010388</td>\n",
       "      <td>-0.000886</td>\n",
       "      <td>0.001164</td>\n",
       "      <td>0.001573</td>\n",
       "      <td>0.000935</td>\n",
       "    </tr>\n",
       "    <tr>\n",
       "      <td>2015-02-18</td>\n",
       "      <td>-0.001317</td>\n",
       "      <td>0.002608</td>\n",
       "      <td>0.001066</td>\n",
       "      <td>-0.003355</td>\n",
       "      <td>0.007986</td>\n",
       "      <td>0.023709</td>\n",
       "      <td>0.001937</td>\n",
       "      <td>0.000095</td>\n",
       "      <td>0.001402</td>\n",
       "    </tr>\n",
       "    <tr>\n",
       "      <td>2015-02-19</td>\n",
       "      <td>-0.002857</td>\n",
       "      <td>-0.001041</td>\n",
       "      <td>0.000082</td>\n",
       "      <td>0.000532</td>\n",
       "      <td>0.007741</td>\n",
       "      <td>-0.011255</td>\n",
       "      <td>0.001933</td>\n",
       "      <td>-0.000714</td>\n",
       "      <td>0.004946</td>\n",
       "    </tr>\n",
       "    <tr>\n",
       "      <td>...</td>\n",
       "      <td>...</td>\n",
       "      <td>...</td>\n",
       "      <td>...</td>\n",
       "      <td>...</td>\n",
       "      <td>...</td>\n",
       "      <td>...</td>\n",
       "      <td>...</td>\n",
       "      <td>...</td>\n",
       "      <td>...</td>\n",
       "    </tr>\n",
       "    <tr>\n",
       "      <td>2020-02-03</td>\n",
       "      <td>0.003189</td>\n",
       "      <td>0.003953</td>\n",
       "      <td>0.011151</td>\n",
       "      <td>0.013666</td>\n",
       "      <td>0.017661</td>\n",
       "      <td>0.003189</td>\n",
       "      <td>0.011048</td>\n",
       "      <td>0.007429</td>\n",
       "      <td>0.015109</td>\n",
       "    </tr>\n",
       "    <tr>\n",
       "      <td>2020-02-04</td>\n",
       "      <td>0.011657</td>\n",
       "      <td>0.016732</td>\n",
       "      <td>0.015094</td>\n",
       "      <td>0.032198</td>\n",
       "      <td>0.023571</td>\n",
       "      <td>-0.009971</td>\n",
       "      <td>0.018248</td>\n",
       "      <td>0.015241</td>\n",
       "      <td>0.022889</td>\n",
       "    </tr>\n",
       "    <tr>\n",
       "      <td>2020-02-05</td>\n",
       "      <td>0.018050</td>\n",
       "      <td>0.011133</td>\n",
       "      <td>0.015415</td>\n",
       "      <td>0.019869</td>\n",
       "      <td>0.025390</td>\n",
       "      <td>0.004087</td>\n",
       "      <td>0.005502</td>\n",
       "      <td>0.011548</td>\n",
       "      <td>0.003297</td>\n",
       "    </tr>\n",
       "    <tr>\n",
       "      <td>2020-02-06</td>\n",
       "      <td>0.000871</td>\n",
       "      <td>0.005026</td>\n",
       "      <td>-0.002271</td>\n",
       "      <td>0.000681</td>\n",
       "      <td>0.007486</td>\n",
       "      <td>0.000291</td>\n",
       "      <td>0.006176</td>\n",
       "      <td>0.003365</td>\n",
       "      <td>0.008632</td>\n",
       "    </tr>\n",
       "    <tr>\n",
       "      <td>2020-02-07</td>\n",
       "      <td>-0.005852</td>\n",
       "      <td>-0.008573</td>\n",
       "      <td>-0.012281</td>\n",
       "      <td>-0.022873</td>\n",
       "      <td>-0.007675</td>\n",
       "      <td>-0.003197</td>\n",
       "      <td>-0.004684</td>\n",
       "      <td>-0.005330</td>\n",
       "      <td>-0.004301</td>\n",
       "    </tr>\n",
       "  </tbody>\n",
       "</table>\n",
       "<p>1256 rows × 9 columns</p>\n",
       "</div>"
      ],
      "text/plain": [
       "                VOOV       EZU       IWM       SMH       IBB       XLU  \\\n",
       "Date                                                                     \n",
       "2015-02-12  0.009904  0.026330  0.011386  0.014110  0.010024 -0.004557   \n",
       "2015-02-13  0.003636  0.002356  0.005960  0.005887  0.009456 -0.015261   \n",
       "2015-02-17  0.000549  0.001306  0.003127  0.004256  0.010388 -0.000886   \n",
       "2015-02-18 -0.001317  0.002608  0.001066 -0.003355  0.007986  0.023709   \n",
       "2015-02-19 -0.002857 -0.001041  0.000082  0.000532  0.007741 -0.011255   \n",
       "...              ...       ...       ...       ...       ...       ...   \n",
       "2020-02-03  0.003189  0.003953  0.011151  0.013666  0.017661  0.003189   \n",
       "2020-02-04  0.011657  0.016732  0.015094  0.032198  0.023571 -0.009971   \n",
       "2020-02-05  0.018050  0.011133  0.015415  0.019869  0.025390  0.004087   \n",
       "2020-02-06  0.000871  0.005026 -0.002271  0.000681  0.007486  0.000291   \n",
       "2020-02-07 -0.005852 -0.008573 -0.012281 -0.022873 -0.007675 -0.003197   \n",
       "\n",
       "                VOOG       SPY       QQQ  \n",
       "Date                                      \n",
       "2015-02-12  0.010638  0.009617  0.011643  \n",
       "2015-02-13  0.005068  0.004116  0.008585  \n",
       "2015-02-17  0.001164  0.001573  0.000935  \n",
       "2015-02-18  0.001937  0.000095  0.001402  \n",
       "2015-02-19  0.001933 -0.000714  0.004946  \n",
       "...              ...       ...       ...  \n",
       "2020-02-03  0.011048  0.007429  0.015109  \n",
       "2020-02-04  0.018248  0.015241  0.022889  \n",
       "2020-02-05  0.005502  0.011548  0.003297  \n",
       "2020-02-06  0.006176  0.003365  0.008632  \n",
       "2020-02-07 -0.004684 -0.005330 -0.004301  \n",
       "\n",
       "[1256 rows x 9 columns]"
      ]
     },
     "execution_count": 112,
     "metadata": {},
     "output_type": "execute_result"
    }
   ],
   "source": [
    "# ETF daily return\n",
    "etf_daily_return = etf_combined.pct_change()\n",
    "etf_daily_return.dropna(inplace=True)\n",
    "etf_daily_return"
   ]
  },
  {
   "cell_type": "code",
   "execution_count": 115,
   "metadata": {},
   "outputs": [
    {
     "data": {
      "text/plain": [
       "<matplotlib.axes._subplots.AxesSubplot at 0x27c8841f588>"
      ]
     },
     "execution_count": 115,
     "metadata": {},
     "output_type": "execute_result"
    },
    {
     "data": {
      "image/png": "[encoded data removed]",
      "text/plain": [
       "<Figure size 432x288 with 1 Axes>"
      ]
     },
     "metadata": {
      "needs_background": "light"
     },
     "output_type": "display_data"
    }
   ],
   "source": [
    "# ETF stdev\n",
    "etf_stdev = etf_daily_return.rolling(window = 60).std()\n",
    "etf_stdev.plot()"
   ]
  },
  {
   "cell_type": "code",
   "execution_count": 104,
   "metadata": {},
   "outputs": [],
   "source": [
    "# ETF Sharpe Ratio\n",
    "etf_sharpe_ratio = (etf_daily_return.mean()*252)/(etf_stdev*np.sqrt(252))"
   ]
  },
  {
   "cell_type": "code",
   "execution_count": 103,
   "metadata": {},
   "outputs": [],
   "source": [
    "# Correlation between ETF\n",
    "etf_corr = correlation = etf_daily_return.corr() "
   ]
  },
  {
   "cell_type": "code",
   "execution_count": null,
   "metadata": {},
   "outputs": [],
   "source": [
    "\n",
    "\n",
    "#get list of columns\n",
    "#loop through list of columns\n",
    "#on each loop, change data type"
   ]
  }
 ],
 "metadata": {
  "kernelspec": {
   "display_name": "Python 3",
   "language": "python",
   "name": "python3"
  },
  "language_info": {
   "codemirror_mode": {
    "name": "ipython",
    "version": 3
   },
   "file_extension": ".py",
   "mimetype": "text/x-python",
   "name": "python",
   "nbconvert_exporter": "python",
   "pygments_lexer": "ipython3",
   "version": "3.7.4"
  }
 },
 "nbformat": 4,
 "nbformat_minor": 4
}
