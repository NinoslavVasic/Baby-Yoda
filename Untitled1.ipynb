{
 "cells": [
  {
   "cell_type": "code",
   "execution_count": 1,
   "metadata": {},
   "outputs": [],
   "source": [
    "import numpy as np"
   ]
  },
  {
   "cell_type": "code",
   "execution_count": 7,
   "metadata": {},
   "outputs": [
    {
     "data": {
      "text/plain": [
       "array([[2.11860719, 1.78520779, 2.62415602, ..., 2.81041948, 1.90252806,\n",
       "        1.92972593],\n",
       "       [2.98882796, 1.619287  , 3.93117036, ..., 1.63359867, 2.56245281,\n",
       "        2.67419757],\n",
       "       [2.51853999, 3.00339223, 3.13722512, ..., 1.94943162, 0.80750895,\n",
       "        2.43354321],\n",
       "       ...,\n",
       "       [0.85836978, 2.29806356, 1.21968335, ..., 1.70375919, 2.56615997,\n",
       "        1.48390256],\n",
       "       [3.77097859, 0.5649972 , 0.97325936, ..., 2.36818196, 1.83674826,\n",
       "        3.14300464],\n",
       "       [3.3021176 , 2.15628668, 2.44017771, ..., 0.94997643, 2.67712816,\n",
       "        2.9963261 ]])"
      ]
     },
     "execution_count": 7,
     "metadata": {},
     "output_type": "execute_result"
    }
   ],
   "source": [
    "np.random.normal(2,1,(252*30,500))"
   ]
  },
  {
   "cell_type": "code",
   "execution_count": 9,
   "metadata": {},
   "outputs": [
    {
     "data": {
      "text/plain": [
       "array([-0.83544492,  1.34756332, -0.28294652, -0.59173995,  0.8412557 ])"
      ]
     },
     "execution_count": 9,
     "metadata": {},
     "output_type": "execute_result"
    }
   ],
   "source": [
    "np.random.randn(5)"
   ]
  },
  {
   "cell_type": "code",
   "execution_count": null,
   "metadata": {},
   "outputs": [],
   "source": []
  }
 ],
 "metadata": {
  "kernelspec": {
   "display_name": "Python 3",
   "language": "python",
   "name": "python3"
  },
  "language_info": {
   "codemirror_mode": {
    "name": "ipython",
    "version": 3
   },
   "file_extension": ".py",
   "mimetype": "text/x-python",
   "name": "python",
   "nbconvert_exporter": "python",
   "pygments_lexer": "ipython3",
   "version": "3.7.4"
  }
 },
 "nbformat": 4,
 "nbformat_minor": 2
}
