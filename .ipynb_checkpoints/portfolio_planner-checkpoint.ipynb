{
 "cells": [
  {
   "cell_type": "code",
   "execution_count": 1,
   "metadata": {
    "deletable": true,
    "editable": true
   },
   "outputs": [],
   "source": [
    "import numpy as np\n",
    "import pandas as pd\n",
    "from datetime import datetime, timedelta\n",
    "import matplotlib.pyplot as plt\n",
    "%matplotlib inline"
   ]
  },
  {
   "cell_type": "code",
   "execution_count": 2,
   "metadata": {
    "deletable": true,
    "editable": true
   },
   "outputs": [],
   "source": [
    "np.random.seed(42)"
   ]
  },
  {
   "cell_type": "markdown",
   "metadata": {
    "deletable": true,
    "editable": true
   },
   "source": [
    "# Portfolio Planner\n",
    "\n",
    "In this activity, you will use the iexfinance api to grab historical data for a 60/40 portfolio using `SPY` to represent the stock portion and `AGG` to represent the bonds."
   ]
  },
  {
   "cell_type": "code",
   "execution_count": 3,
   "metadata": {
    "deletable": true,
    "editable": true
   },
   "outputs": [],
   "source": [
    "from iexfinance.stocks import get_historical_data\n",
    "import iexfinance as iex"
   ]
  },
  {
   "cell_type": "markdown",
   "metadata": {
    "deletable": true,
    "editable": true
   },
   "source": [
    "# Data Collection\n",
    "\n",
    "In this step, you will need to use the IEX api to fetch closing prices for the `SPY` and `AGG` tickers. Save the results as a pandas DataFrame"
   ]
  },
  {
   "cell_type": "code",
   "execution_count": 4,
   "metadata": {
    "deletable": true,
    "editable": true
   },
   "outputs": [],
   "source": [
    "list_of_tickers = [\"SPY\", \"AGG\"]\n",
    "# comment the downloading and to_pickle of transaction data unless we need to use it again.  I will take 3 years instead of 1.\n",
    "#df = get_historical_data(list_of_tickers, output_format='pandas', start = '2017-01-01', end = '2019-12-31', close_only = True, volume= False)\n",
    "#df.to_pickle(\"./iex3years\")"
   ]
  },
  {
   "cell_type": "code",
   "execution_count": 6,
   "metadata": {
    "collapsed": false,
    "deletable": true,
    "editable": true,
    "jupyter": {
     "outputs_hidden": false
    }
   },
   "outputs": [
    {
     "data": {
      "text/html": [
       "<div>\n",
       "<style scoped>\n",
       "    .dataframe tbody tr th:only-of-type {\n",
       "        vertical-align: middle;\n",
       "    }\n",
       "\n",
       "    .dataframe tbody tr th {\n",
       "        vertical-align: top;\n",
       "    }\n",
       "\n",
       "    .dataframe thead th {\n",
       "        text-align: right;\n",
       "    }\n",
       "</style>\n",
       "<table border=\"1\" class=\"dataframe\">\n",
       "  <thead>\n",
       "    <tr style=\"text-align: right;\">\n",
       "      <th></th>\n",
       "      <th>SPY</th>\n",
       "      <th>AGG</th>\n",
       "    </tr>\n",
       "    <tr>\n",
       "      <th>date</th>\n",
       "      <th></th>\n",
       "      <th></th>\n",
       "    </tr>\n",
       "  </thead>\n",
       "  <tbody>\n",
       "    <tr>\n",
       "      <th>2017-01-03</th>\n",
       "      <td>225.24</td>\n",
       "      <td>108.17</td>\n",
       "    </tr>\n",
       "    <tr>\n",
       "      <th>2017-01-04</th>\n",
       "      <td>226.58</td>\n",
       "      <td>108.20</td>\n",
       "    </tr>\n",
       "    <tr>\n",
       "      <th>2017-01-05</th>\n",
       "      <td>226.40</td>\n",
       "      <td>108.65</td>\n",
       "    </tr>\n",
       "    <tr>\n",
       "      <th>2017-01-06</th>\n",
       "      <td>227.21</td>\n",
       "      <td>108.29</td>\n",
       "    </tr>\n",
       "    <tr>\n",
       "      <th>2017-01-09</th>\n",
       "      <td>226.46</td>\n",
       "      <td>108.47</td>\n",
       "    </tr>\n",
       "  </tbody>\n",
       "</table>\n",
       "</div>"
      ],
      "text/plain": [
       "               SPY     AGG\n",
       "date                      \n",
       "2017-01-03  225.24  108.17\n",
       "2017-01-04  226.58  108.20\n",
       "2017-01-05  226.40  108.65\n",
       "2017-01-06  227.21  108.29\n",
       "2017-01-09  226.46  108.47"
      ]
     },
     "execution_count": 6,
     "metadata": {},
     "output_type": "execute_result"
    }
   ],
   "source": [
    "iex_df = pd.read_pickle(\"./iex3years\")\n",
    "iex_df.drop(columns=['volume'], level=1, inplace=True)\n",
    "iex_df.columns = iex_df.columns.droplevel(1)\n",
    "iex_df.sort_index(ascending = True, inplace = True)\n",
    "iex_df.head(5)"
   ]
  },
  {
   "cell_type": "markdown",
   "metadata": {
    "deletable": true,
    "editable": true
   },
   "source": [
    "# Monte Carlo Simulation\n",
    "\n",
    "In this step, you will run Monte Carlo Simulations for your portfolio to model portfolio performance at different retirement ages. \n",
    "\n",
    "Complete the following steps:\n",
    "1. Calculate the daily returns for the SPY and AGG closing prices.\n",
    "2. Calculate volatility for both the SPY and AGG closing prices.\n",
    "3. Find the last day's closing price for both stocks and save those as variables.\n",
    "4. Run a Monte Carlo Simulation of at least 500 iterations and generate at least 30 years of closing prices\n",
    "\n",
    "### HINTS:\n",
    "There are 252 trading days per year, so the number of records to generate for each Monte Carlo run will be 252 days * 30 years"
   ]
  },
  {
   "cell_type": "code",
   "execution_count": 7,
   "metadata": {
    "collapsed": false,
    "deletable": true,
    "editable": true,
    "jupyter": {
     "outputs_hidden": false
    }
   },
   "outputs": [
    {
     "data": {
      "text/html": [
       "<div>\n",
       "<style scoped>\n",
       "    .dataframe tbody tr th:only-of-type {\n",
       "        vertical-align: middle;\n",
       "    }\n",
       "\n",
       "    .dataframe tbody tr th {\n",
       "        vertical-align: top;\n",
       "    }\n",
       "\n",
       "    .dataframe thead th {\n",
       "        text-align: right;\n",
       "    }\n",
       "</style>\n",
       "<table border=\"1\" class=\"dataframe\">\n",
       "  <thead>\n",
       "    <tr style=\"text-align: right;\">\n",
       "      <th></th>\n",
       "      <th>SPY</th>\n",
       "      <th>AGG</th>\n",
       "    </tr>\n",
       "    <tr>\n",
       "      <th>date</th>\n",
       "      <th></th>\n",
       "      <th></th>\n",
       "    </tr>\n",
       "  </thead>\n",
       "  <tbody>\n",
       "    <tr>\n",
       "      <th>2017-01-04</th>\n",
       "      <td>0.005949</td>\n",
       "      <td>0.000277</td>\n",
       "    </tr>\n",
       "    <tr>\n",
       "      <th>2017-01-05</th>\n",
       "      <td>-0.000794</td>\n",
       "      <td>0.004159</td>\n",
       "    </tr>\n",
       "    <tr>\n",
       "      <th>2017-01-06</th>\n",
       "      <td>0.003578</td>\n",
       "      <td>-0.003313</td>\n",
       "    </tr>\n",
       "    <tr>\n",
       "      <th>2017-01-09</th>\n",
       "      <td>-0.003301</td>\n",
       "      <td>0.001662</td>\n",
       "    </tr>\n",
       "    <tr>\n",
       "      <th>2017-01-10</th>\n",
       "      <td>0.000000</td>\n",
       "      <td>-0.000277</td>\n",
       "    </tr>\n",
       "  </tbody>\n",
       "</table>\n",
       "</div>"
      ],
      "text/plain": [
       "                 SPY       AGG\n",
       "date                          \n",
       "2017-01-04  0.005949  0.000277\n",
       "2017-01-05 -0.000794  0.004159\n",
       "2017-01-06  0.003578 -0.003313\n",
       "2017-01-09 -0.003301  0.001662\n",
       "2017-01-10  0.000000 -0.000277"
      ]
     },
     "execution_count": 7,
     "metadata": {},
     "output_type": "execute_result"
    }
   ],
   "source": [
    "# Calculate the daily roi for the stocks\n",
    "daily_return = iex_df.pct_change().dropna()\n",
    "daily_return.head()"
   ]
  },
  {
   "cell_type": "code",
   "execution_count": 8,
   "metadata": {
    "collapsed": false,
    "deletable": true,
    "editable": true,
    "jupyter": {
     "outputs_hidden": false
    }
   },
   "outputs": [
    {
     "data": {
      "text/plain": [
       "SPY    0.008114\n",
       "AGG    0.001879\n",
       "dtype: float64"
      ]
     },
     "execution_count": 8,
     "metadata": {},
     "output_type": "execute_result"
    }
   ],
   "source": [
    "# Calculate volatility\n",
    "# YOUR CODE HERE\n",
    "daily_std = daily_return.std()\n",
    "daily_std"
   ]
  },
  {
   "cell_type": "code",
   "execution_count": 9,
   "metadata": {
    "collapsed": false,
    "deletable": true,
    "editable": true,
    "jupyter": {
     "outputs_hidden": false
    }
   },
   "outputs": [
    {
     "data": {
      "text/plain": [
       "SPY    321.86\n",
       "AGG    112.37\n",
       "Name: 2019-12-31 00:00:00, dtype: float64"
      ]
     },
     "execution_count": 9,
     "metadata": {},
     "output_type": "execute_result"
    }
   ],
   "source": [
    "# Save the last day's closing price\n",
    "last_day_price = iex_df.iloc[-1] # in later calculation, last closing price is not relevant.\n",
    "last_day_price"
   ]
  },
  {
   "cell_type": "code",
   "execution_count": 10,
   "metadata": {
    "deletable": true,
    "editable": true
   },
   "outputs": [],
   "source": [
    "# If my portfolio is $1, my portfolio should invest $.6 into SPY and $0.4 into AGG no matter what the latest price is:\n",
    "# Therefore, last closing price is not relevant.  The only thing relevant is mean and std of daily return.\n",
    "# Next two lines are generating random daily returns for each stock for 30 years before calculating portfolio separately.\n",
    "# By vectorizing the random generator, we can save loops and computational power.\n",
    "SPY_sim = np.random.normal(daily_return.mean()[0], daily_std[0],252*30*500).reshape(252*30,500)\n",
    "AGG_sim = np.random.normal(daily_return.mean()[1], daily_std[1],252*30*500).reshape(252*30,500)\n",
    "# Next 3 blocks are 3 different methods to calculate portfolio return for 30 years."
   ]
  },
  {
   "cell_type": "code",
   "execution_count": 174,
   "metadata": {
    "collapsed": false,
    "deletable": true,
    "editable": true,
    "jupyter": {
     "outputs_hidden": false
    }
   },
   "outputs": [
    {
     "name": "stdout",
     "output_type": "stream",
     "text": [
      "CPU times: user 2 µs, sys: 0 ns, total: 2 µs\n",
      "Wall time: 5.96 µs\n"
     ]
    },
    {
     "data": {
      "text/html": [
       "<div>\n",
       "<style scoped>\n",
       "    .dataframe tbody tr th:only-of-type {\n",
       "        vertical-align: middle;\n",
       "    }\n",
       "\n",
       "    .dataframe tbody tr th {\n",
       "        vertical-align: top;\n",
       "    }\n",
       "\n",
       "    .dataframe thead th {\n",
       "        text-align: right;\n",
       "    }\n",
       "</style>\n",
       "<table border=\"1\" class=\"dataframe\">\n",
       "  <thead>\n",
       "    <tr style=\"text-align: right;\">\n",
       "      <th></th>\n",
       "      <th>0</th>\n",
       "      <th>1</th>\n",
       "      <th>2</th>\n",
       "      <th>3</th>\n",
       "      <th>4</th>\n",
       "      <th>5</th>\n",
       "      <th>6</th>\n",
       "      <th>7</th>\n",
       "      <th>8</th>\n",
       "      <th>9</th>\n",
       "      <th>...</th>\n",
       "      <th>490</th>\n",
       "      <th>491</th>\n",
       "      <th>492</th>\n",
       "      <th>493</th>\n",
       "      <th>494</th>\n",
       "      <th>495</th>\n",
       "      <th>496</th>\n",
       "      <th>497</th>\n",
       "      <th>498</th>\n",
       "      <th>499</th>\n",
       "    </tr>\n",
       "  </thead>\n",
       "  <tbody>\n",
       "    <tr>\n",
       "      <th>0</th>\n",
       "      <td>1.002346</td>\n",
       "      <td>0.998975</td>\n",
       "      <td>1.004309</td>\n",
       "      <td>1.007797</td>\n",
       "      <td>0.999369</td>\n",
       "      <td>0.997436</td>\n",
       "      <td>1.009312</td>\n",
       "      <td>1.003537</td>\n",
       "      <td>0.997907</td>\n",
       "      <td>1.002836</td>\n",
       "      <td>...</td>\n",
       "      <td>0.999866</td>\n",
       "      <td>1.006470</td>\n",
       "      <td>1.002308</td>\n",
       "      <td>0.997632</td>\n",
       "      <td>1.007740</td>\n",
       "      <td>1.003581</td>\n",
       "      <td>0.993436</td>\n",
       "      <td>1.000356</td>\n",
       "      <td>0.996343</td>\n",
       "      <td>0.992947</td>\n",
       "    </tr>\n",
       "    <tr>\n",
       "      <th>1</th>\n",
       "      <td>1.006804</td>\n",
       "      <td>1.009329</td>\n",
       "      <td>0.998320</td>\n",
       "      <td>1.009633</td>\n",
       "      <td>0.998659</td>\n",
       "      <td>0.995090</td>\n",
       "      <td>1.007111</td>\n",
       "      <td>1.000019</td>\n",
       "      <td>0.997995</td>\n",
       "      <td>0.998552</td>\n",
       "      <td>...</td>\n",
       "      <td>1.002213</td>\n",
       "      <td>0.995829</td>\n",
       "      <td>1.002293</td>\n",
       "      <td>0.995335</td>\n",
       "      <td>1.003117</td>\n",
       "      <td>1.001207</td>\n",
       "      <td>1.002622</td>\n",
       "      <td>1.002826</td>\n",
       "      <td>0.995430</td>\n",
       "      <td>0.995063</td>\n",
       "    </tr>\n",
       "    <tr>\n",
       "      <th>2</th>\n",
       "      <td>1.013737</td>\n",
       "      <td>1.012875</td>\n",
       "      <td>0.998848</td>\n",
       "      <td>1.006545</td>\n",
       "      <td>1.002414</td>\n",
       "      <td>0.995488</td>\n",
       "      <td>1.013087</td>\n",
       "      <td>1.002807</td>\n",
       "      <td>1.003685</td>\n",
       "      <td>0.995210</td>\n",
       "      <td>...</td>\n",
       "      <td>0.999078</td>\n",
       "      <td>1.008105</td>\n",
       "      <td>1.001214</td>\n",
       "      <td>0.997277</td>\n",
       "      <td>1.011917</td>\n",
       "      <td>1.012421</td>\n",
       "      <td>1.012463</td>\n",
       "      <td>1.008694</td>\n",
       "      <td>1.000218</td>\n",
       "      <td>0.999238</td>\n",
       "    </tr>\n",
       "    <tr>\n",
       "      <th>3</th>\n",
       "      <td>1.017345</td>\n",
       "      <td>1.010976</td>\n",
       "      <td>0.994795</td>\n",
       "      <td>1.006688</td>\n",
       "      <td>1.001368</td>\n",
       "      <td>0.993724</td>\n",
       "      <td>1.017296</td>\n",
       "      <td>1.007668</td>\n",
       "      <td>1.004360</td>\n",
       "      <td>1.003150</td>\n",
       "      <td>...</td>\n",
       "      <td>1.004105</td>\n",
       "      <td>1.012397</td>\n",
       "      <td>1.006416</td>\n",
       "      <td>1.001508</td>\n",
       "      <td>1.013742</td>\n",
       "      <td>1.018040</td>\n",
       "      <td>1.013229</td>\n",
       "      <td>1.003679</td>\n",
       "      <td>0.999512</td>\n",
       "      <td>0.995648</td>\n",
       "    </tr>\n",
       "    <tr>\n",
       "      <th>4</th>\n",
       "      <td>1.012834</td>\n",
       "      <td>1.011806</td>\n",
       "      <td>0.990237</td>\n",
       "      <td>1.005604</td>\n",
       "      <td>0.991948</td>\n",
       "      <td>0.995631</td>\n",
       "      <td>1.017377</td>\n",
       "      <td>1.002915</td>\n",
       "      <td>1.009683</td>\n",
       "      <td>1.007695</td>\n",
       "      <td>...</td>\n",
       "      <td>1.005110</td>\n",
       "      <td>1.009787</td>\n",
       "      <td>1.004315</td>\n",
       "      <td>1.008569</td>\n",
       "      <td>1.007341</td>\n",
       "      <td>1.023354</td>\n",
       "      <td>1.012903</td>\n",
       "      <td>1.001944</td>\n",
       "      <td>1.003997</td>\n",
       "      <td>0.998796</td>\n",
       "    </tr>\n",
       "    <tr>\n",
       "      <th>...</th>\n",
       "      <td>...</td>\n",
       "      <td>...</td>\n",
       "      <td>...</td>\n",
       "      <td>...</td>\n",
       "      <td>...</td>\n",
       "      <td>...</td>\n",
       "      <td>...</td>\n",
       "      <td>...</td>\n",
       "      <td>...</td>\n",
       "      <td>...</td>\n",
       "      <td>...</td>\n",
       "      <td>...</td>\n",
       "      <td>...</td>\n",
       "      <td>...</td>\n",
       "      <td>...</td>\n",
       "      <td>...</td>\n",
       "      <td>...</td>\n",
       "      <td>...</td>\n",
       "      <td>...</td>\n",
       "      <td>...</td>\n",
       "      <td>...</td>\n",
       "    </tr>\n",
       "    <tr>\n",
       "      <th>7555</th>\n",
       "      <td>2.662507</td>\n",
       "      <td>2.362732</td>\n",
       "      <td>2.159271</td>\n",
       "      <td>2.748372</td>\n",
       "      <td>2.494063</td>\n",
       "      <td>5.187366</td>\n",
       "      <td>4.074156</td>\n",
       "      <td>2.241507</td>\n",
       "      <td>4.829418</td>\n",
       "      <td>4.118931</td>\n",
       "      <td>...</td>\n",
       "      <td>3.262767</td>\n",
       "      <td>2.415624</td>\n",
       "      <td>2.031422</td>\n",
       "      <td>2.582743</td>\n",
       "      <td>1.920519</td>\n",
       "      <td>3.006554</td>\n",
       "      <td>4.687145</td>\n",
       "      <td>2.525354</td>\n",
       "      <td>4.116642</td>\n",
       "      <td>2.014621</td>\n",
       "    </tr>\n",
       "    <tr>\n",
       "      <th>7556</th>\n",
       "      <td>2.680973</td>\n",
       "      <td>2.356016</td>\n",
       "      <td>2.165829</td>\n",
       "      <td>2.770421</td>\n",
       "      <td>2.510976</td>\n",
       "      <td>5.190210</td>\n",
       "      <td>4.081042</td>\n",
       "      <td>2.224316</td>\n",
       "      <td>4.846716</td>\n",
       "      <td>4.134746</td>\n",
       "      <td>...</td>\n",
       "      <td>3.263548</td>\n",
       "      <td>2.430894</td>\n",
       "      <td>2.038358</td>\n",
       "      <td>2.577386</td>\n",
       "      <td>1.921176</td>\n",
       "      <td>3.027878</td>\n",
       "      <td>4.680144</td>\n",
       "      <td>2.496963</td>\n",
       "      <td>4.115931</td>\n",
       "      <td>2.039681</td>\n",
       "    </tr>\n",
       "    <tr>\n",
       "      <th>7557</th>\n",
       "      <td>2.690347</td>\n",
       "      <td>2.340513</td>\n",
       "      <td>2.163428</td>\n",
       "      <td>2.780201</td>\n",
       "      <td>2.489501</td>\n",
       "      <td>5.116133</td>\n",
       "      <td>4.093306</td>\n",
       "      <td>2.219540</td>\n",
       "      <td>4.807212</td>\n",
       "      <td>4.165753</td>\n",
       "      <td>...</td>\n",
       "      <td>3.248324</td>\n",
       "      <td>2.447650</td>\n",
       "      <td>2.033562</td>\n",
       "      <td>2.579035</td>\n",
       "      <td>1.915932</td>\n",
       "      <td>3.042493</td>\n",
       "      <td>4.678891</td>\n",
       "      <td>2.486037</td>\n",
       "      <td>4.105347</td>\n",
       "      <td>2.048168</td>\n",
       "    </tr>\n",
       "    <tr>\n",
       "      <th>7558</th>\n",
       "      <td>2.695884</td>\n",
       "      <td>2.338259</td>\n",
       "      <td>2.151796</td>\n",
       "      <td>2.779015</td>\n",
       "      <td>2.475621</td>\n",
       "      <td>5.064056</td>\n",
       "      <td>4.084508</td>\n",
       "      <td>2.221032</td>\n",
       "      <td>4.783578</td>\n",
       "      <td>4.157004</td>\n",
       "      <td>...</td>\n",
       "      <td>3.226667</td>\n",
       "      <td>2.452530</td>\n",
       "      <td>2.034522</td>\n",
       "      <td>2.577499</td>\n",
       "      <td>1.926752</td>\n",
       "      <td>3.049759</td>\n",
       "      <td>4.668355</td>\n",
       "      <td>2.496974</td>\n",
       "      <td>4.122941</td>\n",
       "      <td>2.040233</td>\n",
       "    </tr>\n",
       "    <tr>\n",
       "      <th>7559</th>\n",
       "      <td>2.698699</td>\n",
       "      <td>2.323751</td>\n",
       "      <td>2.158402</td>\n",
       "      <td>2.800189</td>\n",
       "      <td>2.475278</td>\n",
       "      <td>5.057556</td>\n",
       "      <td>4.110954</td>\n",
       "      <td>2.224904</td>\n",
       "      <td>4.782314</td>\n",
       "      <td>4.177881</td>\n",
       "      <td>...</td>\n",
       "      <td>3.243567</td>\n",
       "      <td>2.461431</td>\n",
       "      <td>2.020119</td>\n",
       "      <td>2.582477</td>\n",
       "      <td>1.920049</td>\n",
       "      <td>3.052284</td>\n",
       "      <td>4.704956</td>\n",
       "      <td>2.503558</td>\n",
       "      <td>4.122493</td>\n",
       "      <td>2.045116</td>\n",
       "    </tr>\n",
       "  </tbody>\n",
       "</table>\n",
       "<p>7560 rows × 500 columns</p>\n",
       "</div>"
      ],
      "text/plain": [
       "           0         1         2         3         4         5         6    \\\n",
       "0     1.002346  0.998975  1.004309  1.007797  0.999369  0.997436  1.009312   \n",
       "1     1.006804  1.009329  0.998320  1.009633  0.998659  0.995090  1.007111   \n",
       "2     1.013737  1.012875  0.998848  1.006545  1.002414  0.995488  1.013087   \n",
       "3     1.017345  1.010976  0.994795  1.006688  1.001368  0.993724  1.017296   \n",
       "4     1.012834  1.011806  0.990237  1.005604  0.991948  0.995631  1.017377   \n",
       "...        ...       ...       ...       ...       ...       ...       ...   \n",
       "7555  2.662507  2.362732  2.159271  2.748372  2.494063  5.187366  4.074156   \n",
       "7556  2.680973  2.356016  2.165829  2.770421  2.510976  5.190210  4.081042   \n",
       "7557  2.690347  2.340513  2.163428  2.780201  2.489501  5.116133  4.093306   \n",
       "7558  2.695884  2.338259  2.151796  2.779015  2.475621  5.064056  4.084508   \n",
       "7559  2.698699  2.323751  2.158402  2.800189  2.475278  5.057556  4.110954   \n",
       "\n",
       "           7         8         9    ...       490       491       492  \\\n",
       "0     1.003537  0.997907  1.002836  ...  0.999866  1.006470  1.002308   \n",
       "1     1.000019  0.997995  0.998552  ...  1.002213  0.995829  1.002293   \n",
       "2     1.002807  1.003685  0.995210  ...  0.999078  1.008105  1.001214   \n",
       "3     1.007668  1.004360  1.003150  ...  1.004105  1.012397  1.006416   \n",
       "4     1.002915  1.009683  1.007695  ...  1.005110  1.009787  1.004315   \n",
       "...        ...       ...       ...  ...       ...       ...       ...   \n",
       "7555  2.241507  4.829418  4.118931  ...  3.262767  2.415624  2.031422   \n",
       "7556  2.224316  4.846716  4.134746  ...  3.263548  2.430894  2.038358   \n",
       "7557  2.219540  4.807212  4.165753  ...  3.248324  2.447650  2.033562   \n",
       "7558  2.221032  4.783578  4.157004  ...  3.226667  2.452530  2.034522   \n",
       "7559  2.224904  4.782314  4.177881  ...  3.243567  2.461431  2.020119   \n",
       "\n",
       "           493       494       495       496       497       498       499  \n",
       "0     0.997632  1.007740  1.003581  0.993436  1.000356  0.996343  0.992947  \n",
       "1     0.995335  1.003117  1.001207  1.002622  1.002826  0.995430  0.995063  \n",
       "2     0.997277  1.011917  1.012421  1.012463  1.008694  1.000218  0.999238  \n",
       "3     1.001508  1.013742  1.018040  1.013229  1.003679  0.999512  0.995648  \n",
       "4     1.008569  1.007341  1.023354  1.012903  1.001944  1.003997  0.998796  \n",
       "...        ...       ...       ...       ...       ...       ...       ...  \n",
       "7555  2.582743  1.920519  3.006554  4.687145  2.525354  4.116642  2.014621  \n",
       "7556  2.577386  1.921176  3.027878  4.680144  2.496963  4.115931  2.039681  \n",
       "7557  2.579035  1.915932  3.042493  4.678891  2.486037  4.105347  2.048168  \n",
       "7558  2.577499  1.926752  3.049759  4.668355  2.496974  4.122941  2.040233  \n",
       "7559  2.582477  1.920049  3.052284  4.704956  2.503558  4.122493  2.045116  \n",
       "\n",
       "[7560 rows x 500 columns]"
      ]
     },
     "execution_count": 174,
     "metadata": {},
     "output_type": "execute_result"
    }
   ],
   "source": [
    "%time\n",
    "\n",
    "next_beginning_balance = np.ones((1,500))\n",
    "Portfolio_30_year = np.ones((1,500))\n",
    "for month in range(360):\n",
    "    withdraw_rate = 0\n",
    "    SPY_month_daily_return = np.concatenate((next_beginning_balance,(SPY_sim[month*21:(month+1)*21])+1), axis = 0)\n",
    "    AGG_month_daily_return = np.concatenate((next_beginning_balance,(AGG_sim[month*21:(month+1)*21])+1), axis = 0)\n",
    "    portfolio_monthly_return = (np.cumprod(SPY_month_daily_return, axis = 0)*0.6 + \n",
    "                                                np.cumprod(AGG_month_daily_return, axis = 0)*0.4)\n",
    "    if month%12==0 and month !=0:\n",
    "        withdraw_rate = 0.05\n",
    "    next_beginning_balance = (portfolio_monthly_return[-1,:]).reshape(1,500)*(1-withdraw_rate)\n",
    "    Portfolio_30_year = np.concatenate((Portfolio_30_year,portfolio_monthly_return[1:,:]), axis = 0)\n",
    "Portfolio_30_year_simulation = pd.DataFrame(Portfolio_30_year[1:])\n",
    "Portfolio_30_year_simulation"
   ]
  },
  {
   "cell_type": "code",
   "execution_count": 177,
   "metadata": {},
   "outputs": [
    {
     "name": "stdout",
     "output_type": "stream",
     "text": [
      "CPU times: user 2 µs, sys: 1e+03 ns, total: 3 µs\n",
      "Wall time: 5.01 µs\n"
     ]
    },
    {
     "data": {
      "text/html": [
       "<div>\n",
       "<style scoped>\n",
       "    .dataframe tbody tr th:only-of-type {\n",
       "        vertical-align: middle;\n",
       "    }\n",
       "\n",
       "    .dataframe tbody tr th {\n",
       "        vertical-align: top;\n",
       "    }\n",
       "\n",
       "    .dataframe thead th {\n",
       "        text-align: right;\n",
       "    }\n",
       "</style>\n",
       "<table border=\"1\" class=\"dataframe\">\n",
       "  <thead>\n",
       "    <tr style=\"text-align: right;\">\n",
       "      <th></th>\n",
       "      <th>0</th>\n",
       "      <th>1</th>\n",
       "      <th>2</th>\n",
       "      <th>3</th>\n",
       "      <th>4</th>\n",
       "      <th>5</th>\n",
       "      <th>6</th>\n",
       "      <th>7</th>\n",
       "      <th>8</th>\n",
       "      <th>9</th>\n",
       "      <th>...</th>\n",
       "      <th>490</th>\n",
       "      <th>491</th>\n",
       "      <th>492</th>\n",
       "      <th>493</th>\n",
       "      <th>494</th>\n",
       "      <th>495</th>\n",
       "      <th>496</th>\n",
       "      <th>497</th>\n",
       "      <th>498</th>\n",
       "      <th>499</th>\n",
       "    </tr>\n",
       "  </thead>\n",
       "  <tbody>\n",
       "    <tr>\n",
       "      <th>0</th>\n",
       "      <td>1.002346</td>\n",
       "      <td>0.998975</td>\n",
       "      <td>1.004309</td>\n",
       "      <td>1.007797</td>\n",
       "      <td>0.999369</td>\n",
       "      <td>0.997436</td>\n",
       "      <td>1.009312</td>\n",
       "      <td>1.003537</td>\n",
       "      <td>0.997907</td>\n",
       "      <td>1.002836</td>\n",
       "      <td>...</td>\n",
       "      <td>0.999866</td>\n",
       "      <td>1.006470</td>\n",
       "      <td>1.002308</td>\n",
       "      <td>0.997632</td>\n",
       "      <td>1.007740</td>\n",
       "      <td>1.003581</td>\n",
       "      <td>0.993436</td>\n",
       "      <td>1.000356</td>\n",
       "      <td>0.996343</td>\n",
       "      <td>0.992947</td>\n",
       "    </tr>\n",
       "    <tr>\n",
       "      <th>1</th>\n",
       "      <td>1.006804</td>\n",
       "      <td>1.009329</td>\n",
       "      <td>0.998320</td>\n",
       "      <td>1.009633</td>\n",
       "      <td>0.998659</td>\n",
       "      <td>0.995090</td>\n",
       "      <td>1.007111</td>\n",
       "      <td>1.000019</td>\n",
       "      <td>0.997995</td>\n",
       "      <td>0.998552</td>\n",
       "      <td>...</td>\n",
       "      <td>1.002213</td>\n",
       "      <td>0.995829</td>\n",
       "      <td>1.002293</td>\n",
       "      <td>0.995335</td>\n",
       "      <td>1.003117</td>\n",
       "      <td>1.001207</td>\n",
       "      <td>1.002622</td>\n",
       "      <td>1.002826</td>\n",
       "      <td>0.995430</td>\n",
       "      <td>0.995063</td>\n",
       "    </tr>\n",
       "    <tr>\n",
       "      <th>2</th>\n",
       "      <td>1.013737</td>\n",
       "      <td>1.012875</td>\n",
       "      <td>0.998848</td>\n",
       "      <td>1.006545</td>\n",
       "      <td>1.002414</td>\n",
       "      <td>0.995488</td>\n",
       "      <td>1.013087</td>\n",
       "      <td>1.002807</td>\n",
       "      <td>1.003685</td>\n",
       "      <td>0.995210</td>\n",
       "      <td>...</td>\n",
       "      <td>0.999078</td>\n",
       "      <td>1.008105</td>\n",
       "      <td>1.001214</td>\n",
       "      <td>0.997277</td>\n",
       "      <td>1.011917</td>\n",
       "      <td>1.012421</td>\n",
       "      <td>1.012463</td>\n",
       "      <td>1.008694</td>\n",
       "      <td>1.000218</td>\n",
       "      <td>0.999238</td>\n",
       "    </tr>\n",
       "    <tr>\n",
       "      <th>3</th>\n",
       "      <td>1.017345</td>\n",
       "      <td>1.010976</td>\n",
       "      <td>0.994795</td>\n",
       "      <td>1.006688</td>\n",
       "      <td>1.001368</td>\n",
       "      <td>0.993724</td>\n",
       "      <td>1.017296</td>\n",
       "      <td>1.007668</td>\n",
       "      <td>1.004360</td>\n",
       "      <td>1.003150</td>\n",
       "      <td>...</td>\n",
       "      <td>1.004105</td>\n",
       "      <td>1.012397</td>\n",
       "      <td>1.006416</td>\n",
       "      <td>1.001508</td>\n",
       "      <td>1.013742</td>\n",
       "      <td>1.018040</td>\n",
       "      <td>1.013229</td>\n",
       "      <td>1.003679</td>\n",
       "      <td>0.999512</td>\n",
       "      <td>0.995648</td>\n",
       "    </tr>\n",
       "    <tr>\n",
       "      <th>4</th>\n",
       "      <td>1.012834</td>\n",
       "      <td>1.011806</td>\n",
       "      <td>0.990237</td>\n",
       "      <td>1.005604</td>\n",
       "      <td>0.991948</td>\n",
       "      <td>0.995631</td>\n",
       "      <td>1.017377</td>\n",
       "      <td>1.002915</td>\n",
       "      <td>1.009683</td>\n",
       "      <td>1.007695</td>\n",
       "      <td>...</td>\n",
       "      <td>1.005110</td>\n",
       "      <td>1.009787</td>\n",
       "      <td>1.004315</td>\n",
       "      <td>1.008569</td>\n",
       "      <td>1.007341</td>\n",
       "      <td>1.023354</td>\n",
       "      <td>1.012903</td>\n",
       "      <td>1.001944</td>\n",
       "      <td>1.003997</td>\n",
       "      <td>0.998796</td>\n",
       "    </tr>\n",
       "    <tr>\n",
       "      <th>...</th>\n",
       "      <td>...</td>\n",
       "      <td>...</td>\n",
       "      <td>...</td>\n",
       "      <td>...</td>\n",
       "      <td>...</td>\n",
       "      <td>...</td>\n",
       "      <td>...</td>\n",
       "      <td>...</td>\n",
       "      <td>...</td>\n",
       "      <td>...</td>\n",
       "      <td>...</td>\n",
       "      <td>...</td>\n",
       "      <td>...</td>\n",
       "      <td>...</td>\n",
       "      <td>...</td>\n",
       "      <td>...</td>\n",
       "      <td>...</td>\n",
       "      <td>...</td>\n",
       "      <td>...</td>\n",
       "      <td>...</td>\n",
       "      <td>...</td>\n",
       "    </tr>\n",
       "    <tr>\n",
       "      <th>7555</th>\n",
       "      <td>2.662507</td>\n",
       "      <td>2.362732</td>\n",
       "      <td>2.159271</td>\n",
       "      <td>2.748372</td>\n",
       "      <td>2.494063</td>\n",
       "      <td>5.187366</td>\n",
       "      <td>4.074156</td>\n",
       "      <td>2.241507</td>\n",
       "      <td>4.829418</td>\n",
       "      <td>4.118931</td>\n",
       "      <td>...</td>\n",
       "      <td>3.262767</td>\n",
       "      <td>2.415624</td>\n",
       "      <td>2.031422</td>\n",
       "      <td>2.582743</td>\n",
       "      <td>1.920519</td>\n",
       "      <td>3.006554</td>\n",
       "      <td>4.687145</td>\n",
       "      <td>2.525354</td>\n",
       "      <td>4.116642</td>\n",
       "      <td>2.014621</td>\n",
       "    </tr>\n",
       "    <tr>\n",
       "      <th>7556</th>\n",
       "      <td>2.680973</td>\n",
       "      <td>2.356016</td>\n",
       "      <td>2.165829</td>\n",
       "      <td>2.770421</td>\n",
       "      <td>2.510976</td>\n",
       "      <td>5.190210</td>\n",
       "      <td>4.081042</td>\n",
       "      <td>2.224316</td>\n",
       "      <td>4.846716</td>\n",
       "      <td>4.134746</td>\n",
       "      <td>...</td>\n",
       "      <td>3.263548</td>\n",
       "      <td>2.430894</td>\n",
       "      <td>2.038358</td>\n",
       "      <td>2.577386</td>\n",
       "      <td>1.921176</td>\n",
       "      <td>3.027878</td>\n",
       "      <td>4.680144</td>\n",
       "      <td>2.496963</td>\n",
       "      <td>4.115931</td>\n",
       "      <td>2.039681</td>\n",
       "    </tr>\n",
       "    <tr>\n",
       "      <th>7557</th>\n",
       "      <td>2.690347</td>\n",
       "      <td>2.340513</td>\n",
       "      <td>2.163428</td>\n",
       "      <td>2.780201</td>\n",
       "      <td>2.489501</td>\n",
       "      <td>5.116133</td>\n",
       "      <td>4.093306</td>\n",
       "      <td>2.219540</td>\n",
       "      <td>4.807212</td>\n",
       "      <td>4.165753</td>\n",
       "      <td>...</td>\n",
       "      <td>3.248324</td>\n",
       "      <td>2.447650</td>\n",
       "      <td>2.033562</td>\n",
       "      <td>2.579035</td>\n",
       "      <td>1.915932</td>\n",
       "      <td>3.042493</td>\n",
       "      <td>4.678891</td>\n",
       "      <td>2.486037</td>\n",
       "      <td>4.105347</td>\n",
       "      <td>2.048168</td>\n",
       "    </tr>\n",
       "    <tr>\n",
       "      <th>7558</th>\n",
       "      <td>2.695884</td>\n",
       "      <td>2.338259</td>\n",
       "      <td>2.151796</td>\n",
       "      <td>2.779015</td>\n",
       "      <td>2.475621</td>\n",
       "      <td>5.064056</td>\n",
       "      <td>4.084508</td>\n",
       "      <td>2.221032</td>\n",
       "      <td>4.783578</td>\n",
       "      <td>4.157004</td>\n",
       "      <td>...</td>\n",
       "      <td>3.226667</td>\n",
       "      <td>2.452530</td>\n",
       "      <td>2.034522</td>\n",
       "      <td>2.577499</td>\n",
       "      <td>1.926752</td>\n",
       "      <td>3.049759</td>\n",
       "      <td>4.668355</td>\n",
       "      <td>2.496974</td>\n",
       "      <td>4.122941</td>\n",
       "      <td>2.040233</td>\n",
       "    </tr>\n",
       "    <tr>\n",
       "      <th>7559</th>\n",
       "      <td>2.698699</td>\n",
       "      <td>2.323751</td>\n",
       "      <td>2.158402</td>\n",
       "      <td>2.800189</td>\n",
       "      <td>2.475278</td>\n",
       "      <td>5.057556</td>\n",
       "      <td>4.110954</td>\n",
       "      <td>2.224904</td>\n",
       "      <td>4.782314</td>\n",
       "      <td>4.177881</td>\n",
       "      <td>...</td>\n",
       "      <td>3.243567</td>\n",
       "      <td>2.461431</td>\n",
       "      <td>2.020119</td>\n",
       "      <td>2.582477</td>\n",
       "      <td>1.920049</td>\n",
       "      <td>3.052284</td>\n",
       "      <td>4.704956</td>\n",
       "      <td>2.503558</td>\n",
       "      <td>4.122493</td>\n",
       "      <td>2.045116</td>\n",
       "    </tr>\n",
       "  </tbody>\n",
       "</table>\n",
       "<p>7560 rows × 500 columns</p>\n",
       "</div>"
      ],
      "text/plain": [
       "           0         1         2         3         4         5         6    \\\n",
       "0     1.002346  0.998975  1.004309  1.007797  0.999369  0.997436  1.009312   \n",
       "1     1.006804  1.009329  0.998320  1.009633  0.998659  0.995090  1.007111   \n",
       "2     1.013737  1.012875  0.998848  1.006545  1.002414  0.995488  1.013087   \n",
       "3     1.017345  1.010976  0.994795  1.006688  1.001368  0.993724  1.017296   \n",
       "4     1.012834  1.011806  0.990237  1.005604  0.991948  0.995631  1.017377   \n",
       "...        ...       ...       ...       ...       ...       ...       ...   \n",
       "7555  2.662507  2.362732  2.159271  2.748372  2.494063  5.187366  4.074156   \n",
       "7556  2.680973  2.356016  2.165829  2.770421  2.510976  5.190210  4.081042   \n",
       "7557  2.690347  2.340513  2.163428  2.780201  2.489501  5.116133  4.093306   \n",
       "7558  2.695884  2.338259  2.151796  2.779015  2.475621  5.064056  4.084508   \n",
       "7559  2.698699  2.323751  2.158402  2.800189  2.475278  5.057556  4.110954   \n",
       "\n",
       "           7         8         9    ...       490       491       492  \\\n",
       "0     1.003537  0.997907  1.002836  ...  0.999866  1.006470  1.002308   \n",
       "1     1.000019  0.997995  0.998552  ...  1.002213  0.995829  1.002293   \n",
       "2     1.002807  1.003685  0.995210  ...  0.999078  1.008105  1.001214   \n",
       "3     1.007668  1.004360  1.003150  ...  1.004105  1.012397  1.006416   \n",
       "4     1.002915  1.009683  1.007695  ...  1.005110  1.009787  1.004315   \n",
       "...        ...       ...       ...  ...       ...       ...       ...   \n",
       "7555  2.241507  4.829418  4.118931  ...  3.262767  2.415624  2.031422   \n",
       "7556  2.224316  4.846716  4.134746  ...  3.263548  2.430894  2.038358   \n",
       "7557  2.219540  4.807212  4.165753  ...  3.248324  2.447650  2.033562   \n",
       "7558  2.221032  4.783578  4.157004  ...  3.226667  2.452530  2.034522   \n",
       "7559  2.224904  4.782314  4.177881  ...  3.243567  2.461431  2.020119   \n",
       "\n",
       "           493       494       495       496       497       498       499  \n",
       "0     0.997632  1.007740  1.003581  0.993436  1.000356  0.996343  0.992947  \n",
       "1     0.995335  1.003117  1.001207  1.002622  1.002826  0.995430  0.995063  \n",
       "2     0.997277  1.011917  1.012421  1.012463  1.008694  1.000218  0.999238  \n",
       "3     1.001508  1.013742  1.018040  1.013229  1.003679  0.999512  0.995648  \n",
       "4     1.008569  1.007341  1.023354  1.012903  1.001944  1.003997  0.998796  \n",
       "...        ...       ...       ...       ...       ...       ...       ...  \n",
       "7555  2.582743  1.920519  3.006554  4.687145  2.525354  4.116642  2.014621  \n",
       "7556  2.577386  1.921176  3.027878  4.680144  2.496963  4.115931  2.039681  \n",
       "7557  2.579035  1.915932  3.042493  4.678891  2.486037  4.105347  2.048168  \n",
       "7558  2.577499  1.926752  3.049759  4.668355  2.496974  4.122941  2.040233  \n",
       "7559  2.582477  1.920049  3.052284  4.704956  2.503558  4.122493  2.045116  \n",
       "\n",
       "[7560 rows x 500 columns]"
      ]
     },
     "execution_count": 177,
     "metadata": {},
     "output_type": "execute_result"
    }
   ],
   "source": [
    "# Method 3: Rebalance every month back to 60/40 between SPY and AGG, nested loop to calculate withdrawed balance.\n",
    "# This is closest to reality as portfolio managers do rebalancing periodically. \n",
    "# The code can be easily modified to rebalance quarterly, semi-annually or annually.\n",
    "# This method has to use loop, as the ending balance of each month has to be set as begining balance for next period.\n",
    "%time \n",
    "# - n 1000\n",
    "next_beginning_balance = np.ones((1,500))\n",
    "Portfolio_30_year = np.ones((1,500))\n",
    "Portfolio_1_year = np.ones((1,500))\n",
    "withdraw_rate = 0.05\n",
    "for year in range(30):\n",
    "    Portfolio_1_year = np.ones((1,500))\n",
    "    for month in range(12):\n",
    "        SPY_month_daily_return = np.concatenate((next_beginning_balance,(SPY_sim[year*12*21+month*21:year*12*21+(month+1)*21])+1), axis = 0)\n",
    "        AGG_month_daily_return = np.concatenate((next_beginning_balance,(AGG_sim[year*12*21+month*21:year*12*21+(month+1)*21])+1), axis = 0)\n",
    "        portfolio_monthly_return = (np.cumprod(SPY_month_daily_return, axis = 0)*0.6 + \n",
    "                                                    np.cumprod(AGG_month_daily_return, axis = 0)*0.4)\n",
    "        next_beginning_balance = (portfolio_monthly_return[-1,:]).reshape(1,500)\n",
    "        Portfolio_1_year = np.concatenate((Portfolio_1_year,portfolio_monthly_return[1:,:]), axis = 0)\n",
    "    next_beginning_balance *=(1-withdraw_rate)\n",
    "    Portfolio_30_year = np.concatenate((Portfolio_30_year,Portfolio_1_year[1:,:]), axis = 0)\n",
    "Portfolio_30_year_simulation = pd.DataFrame(Portfolio_30_year[1:])\n",
    "Portfolio_30_year_simulation   "
   ]
  },
  {
   "cell_type": "code",
   "execution_count": 147,
   "metadata": {
    "collapsed": false,
    "deletable": true,
    "editable": true,
    "jupyter": {
     "outputs_hidden": false
    }
   },
   "outputs": [
    {
     "data": {
      "image/png": "[encoded data removed]",
      "text/plain": [
       "<Figure size 720x360 with 1 Axes>"
      ]
     },
     "metadata": {
      "needs_background": "light"
     },
     "output_type": "display_data"
    }
   ],
   "source": [
    "# Visualize the Simulation\n",
    "Portfolio_30_year_simulation.plot(legend = False, title = \"Portfolio 60 SPY / 40 AGG: $1\", figsize = (10,5))\n",
    "plt.savefig(\"./financial_report_images/simulation.png\")"
   ]
  },
  {
   "cell_type": "code",
   "execution_count": 148,
   "metadata": {
    "collapsed": false,
    "deletable": true,
    "editable": true,
    "jupyter": {
     "outputs_hidden": false
    }
   },
   "outputs": [
    {
     "data": {
      "text/plain": [
       "0      2.698699\n",
       "1      2.323751\n",
       "2      2.158402\n",
       "3      2.800189\n",
       "4      2.475278\n",
       "         ...   \n",
       "495    3.052284\n",
       "496    4.704956\n",
       "497    2.503558\n",
       "498    4.122493\n",
       "499    2.045116\n",
       "Name: 7559, Length: 500, dtype: float64"
      ]
     },
     "execution_count": 148,
     "metadata": {},
     "output_type": "execute_result"
    }
   ],
   "source": [
    "# Select the last row for the cumulative returns (cumulative returns at 30 years)\n",
    "simulation_ending_price_30 = Portfolio_30_year_simulation.iloc[-1]\n",
    "simulation_ending_price_30"
   ]
  },
  {
   "cell_type": "code",
   "execution_count": 149,
   "metadata": {
    "collapsed": false,
    "deletable": true,
    "editable": true,
    "jupyter": {
     "outputs_hidden": false
    }
   },
   "outputs": [
    {
     "data": {
      "text/plain": [
       "0      2.166491\n",
       "1      1.692736\n",
       "2      1.048891\n",
       "3      1.446360\n",
       "4      2.263007\n",
       "         ...   \n",
       "495    2.611128\n",
       "496    2.031486\n",
       "497    1.956862\n",
       "498    2.847052\n",
       "499    1.273952\n",
       "Name: 5039, Length: 500, dtype: float64"
      ]
     },
     "execution_count": 149,
     "metadata": {},
     "output_type": "execute_result"
    }
   ],
   "source": [
    "# Select the last row for the cumulative returns (cumulative returns at 20 years)\n",
    "simulation_ending_price_20 = Portfolio_30_year_simulation.iloc[252*20-1]\n",
    "simulation_ending_price_20"
   ]
  },
  {
   "cell_type": "code",
   "execution_count": 150,
   "metadata": {
    "collapsed": false,
    "deletable": true,
    "editable": true,
    "jupyter": {
     "outputs_hidden": false
    }
   },
   "outputs": [
    {
     "name": "stdout",
     "output_type": "stream",
     "text": [
      "The 90% confidence interval of 30-year ending price for $1 investment in portfolio is between $1 and $4.\n"
     ]
    }
   ],
   "source": [
    "# Display the 90% confidence interval for the ending returns\n",
    "quantile_result = simulation_ending_price_30.quantile(q=[0.05, 0.95])\n",
    "print(f\"The 90% confidence interval of 30-year ending price for $1 investment in portfolio \\\n",
    "is between ${int(quantile_result[0.05])} and ${int(quantile_result[.95])}.\")"
   ]
  },
  {
   "cell_type": "code",
   "execution_count": 151,
   "metadata": {
    "collapsed": false,
    "deletable": true,
    "editable": true,
    "jupyter": {
     "outputs_hidden": false
    }
   },
   "outputs": [
    {
     "data": {
      "image/png": "[encoded data removed]",
      "text/plain": [
       "<Figure size 432x288 with 1 Axes>"
      ]
     },
     "metadata": {
      "needs_background": "light"
     },
     "output_type": "display_data"
    }
   ],
   "source": [
    "# Visualize the distribution of the ending returns\n",
    "plt.figure() # this is top-level container for all plot elements, make sure to close it when not suing any more.\n",
    "simulation_ending_price_30.plot(kind = 'hist', title=\"90% confidence interval for tails\")\n",
    "plt.axvline(quantile_result.iloc[0], color='r')\n",
    "plt.axvline(quantile_result.iloc[1], color='r')\n",
    "plt.savefig(\"./financial_report_images/confidence_level.png\")"
   ]
  },
  {
   "cell_type": "markdown",
   "metadata": {
    "deletable": true,
    "editable": true
   },
   "source": [
    "---"
   ]
  },
  {
   "cell_type": "markdown",
   "metadata": {
    "deletable": true,
    "editable": true
   },
   "source": [
    "# Retirement Analysis\n",
    "\n",
    "In this section, you will use the monte carlo model to answer the following retirement planning questions:\n",
    "\n",
    "1. What are the expected cumulative returns at 30 years for the 10th, 50th, and 90th percentiles?\n",
    "2. Given an initial investment of `$20,000`, what is the expected portfolio return in dollars at the 10th, 50th, and 90th percentiles?\n",
    "3. Given the current projected annual income from the Plaid analysis, will a 4% withdraw rate from the retirement portfolio meet or exceed that value at the 10th percentile?\n",
    "4. How would a 50% increase in the initial investment amount affect the 4% retirement withdrawal?"
   ]
  },
  {
   "cell_type": "markdown",
   "metadata": {
    "deletable": true,
    "editable": true
   },
   "source": [
    "### What are the expected cumulative returns at 30 years for the 10th, 50th, and 90th percentiles?"
   ]
  },
  {
   "cell_type": "code",
   "execution_count": 152,
   "metadata": {
    "deletable": true,
    "editable": true
   },
   "outputs": [],
   "source": [
    "# YOUR CODE HERE\n",
    "quantile_10_50_90=simulation_ending_price_30.quantile(q = [0.10,0.50,0.90])"
   ]
  },
  {
   "cell_type": "markdown",
   "metadata": {
    "deletable": true,
    "editable": true
   },
   "source": [
    "### Given an initial investment of `$20,000`, what is the expected portfolio return in dollars at the 10th, 50th, and 90th percentiles?"
   ]
  },
  {
   "cell_type": "code",
   "execution_count": 153,
   "metadata": {
    "collapsed": false,
    "deletable": true,
    "editable": true,
    "jupyter": {
     "outputs_hidden": false
    }
   },
   "outputs": [
    {
     "data": {
      "text/plain": [
       "0.1    26839\n",
       "0.5    48102\n",
       "0.9    86322\n",
       "Name: 7559, dtype: int64"
      ]
     },
     "execution_count": 153,
     "metadata": {},
     "output_type": "execute_result"
    }
   ],
   "source": [
    "initial_investment = 20_000\n",
    "return_10_50_90 = quantile_10_50_90*initial_investment\n",
    "return_10_50_90.astype(int)"
   ]
  },
  {
   "cell_type": "markdown",
   "metadata": {
    "deletable": true,
    "editable": true
   },
   "source": [
    "### Given the current projected annual income from the Plaid analysis, will a 4% withdraw rate from the retirement portfolio meet or exceed that value at the 10th percentile?\n",
    "\n",
    "Note: This is effectively saying that 90% of the expected returns will be greater than the return at the 10th percentile, so this can help measure the uncertainty about having enough funds at retirement"
   ]
  },
  {
   "cell_type": "code",
   "execution_count": 154,
   "metadata": {
    "deletable": true,
    "editable": true
   },
   "outputs": [],
   "source": [
    "def efficient_fund(withdraw_rate, initial_investment, simulation_ending_price_30, plaid_projected_annual_income):\n",
    "    retirement_income = withdraw_rate * (initial_investment * simulation_ending_price_30.quantile(.1))\n",
    "    if retirement_income > plaid_projected_annual_income:\n",
    "        answer = \"exceeds\"\n",
    "    else:\n",
    "        answer = \"doesn't meet\"\n",
    "    return (f\"Your retirement income at 10th percentile and {withdraw_rate} withdraw is ${int(retirement_income)}, \\\n",
    "which {answer} meet current income ${plaid_projected_annual_income}.\")"
   ]
  },
  {
   "cell_type": "code",
   "execution_count": 155,
   "metadata": {
    "collapsed": false,
    "deletable": true,
    "editable": true,
    "jupyter": {
     "outputs_hidden": false
    }
   },
   "outputs": [
    {
     "name": "stdout",
     "output_type": "stream",
     "text": [
      "Your retirement income at 10th percentile and 0.04 withdraw is $1073, which doesn't meet meet current income $7389.\n"
     ]
    }
   ],
   "source": [
    "withdraw_rate = 0.04\n",
    "initial_investment = 20000\n",
    "plaid_projected_annual_income = 7389\n",
    "print(efficient_fund(withdraw_rate,initial_investment, simulation_ending_price_30,plaid_projected_annual_income))"
   ]
  },
  {
   "cell_type": "markdown",
   "metadata": {
    "deletable": true,
    "editable": true
   },
   "source": [
    "### How would a 50% increase in the initial investment amount affect the 4% retirement withdrawal?"
   ]
  },
  {
   "cell_type": "code",
   "execution_count": 156,
   "metadata": {
    "collapsed": false,
    "deletable": true,
    "editable": true,
    "jupyter": {
     "outputs_hidden": false
    }
   },
   "outputs": [
    {
     "name": "stdout",
     "output_type": "stream",
     "text": [
      "Your retirement income at 10th percentile and 0.04 withdraw is $1610, which doesn't meet meet current income $7389.\n"
     ]
    }
   ],
   "source": [
    "initial_investment *= 1.5\n",
    "print(efficient_fund(withdraw_rate,initial_investment, simulation_ending_price_30,plaid_projected_annual_income))"
   ]
  },
  {
   "cell_type": "markdown",
   "metadata": {
    "deletable": true,
    "editable": true
   },
   "source": [
    "### Optional Challenge\n",
    "\n",
    "In this section, you will calculate and plot the cumulative returns for the median and 90% confidence intervals. This plot shows the expected cumulative returns for any given day between the first day and the last day of investment. "
   ]
  },
  {
   "cell_type": "code",
   "execution_count": 157,
   "metadata": {
    "collapsed": false,
    "deletable": true,
    "editable": true,
    "jupyter": {
     "outputs_hidden": false
    }
   },
   "outputs": [
    {
     "data": {
      "text/html": [
       "<div>\n",
       "<style scoped>\n",
       "    .dataframe tbody tr th:only-of-type {\n",
       "        vertical-align: middle;\n",
       "    }\n",
       "\n",
       "    .dataframe tbody tr th {\n",
       "        vertical-align: top;\n",
       "    }\n",
       "\n",
       "    .dataframe thead th {\n",
       "        text-align: right;\n",
       "    }\n",
       "</style>\n",
       "<table border=\"1\" class=\"dataframe\">\n",
       "  <thead>\n",
       "    <tr style=\"text-align: right;\">\n",
       "      <th></th>\n",
       "      <th>0.1</th>\n",
       "      <th>0.5</th>\n",
       "      <th>0.9</th>\n",
       "    </tr>\n",
       "  </thead>\n",
       "  <tbody>\n",
       "    <tr>\n",
       "      <th>0</th>\n",
       "      <td>0.993954</td>\n",
       "      <td>1.000380</td>\n",
       "      <td>1.006401</td>\n",
       "    </tr>\n",
       "    <tr>\n",
       "      <th>1</th>\n",
       "      <td>0.992939</td>\n",
       "      <td>1.000780</td>\n",
       "      <td>1.009460</td>\n",
       "    </tr>\n",
       "    <tr>\n",
       "      <th>2</th>\n",
       "      <td>0.991755</td>\n",
       "      <td>1.001460</td>\n",
       "      <td>1.012267</td>\n",
       "    </tr>\n",
       "    <tr>\n",
       "      <th>3</th>\n",
       "      <td>0.990711</td>\n",
       "      <td>1.001587</td>\n",
       "      <td>1.014222</td>\n",
       "    </tr>\n",
       "    <tr>\n",
       "      <th>4</th>\n",
       "      <td>0.989595</td>\n",
       "      <td>1.002367</td>\n",
       "      <td>1.016137</td>\n",
       "    </tr>\n",
       "    <tr>\n",
       "      <th>...</th>\n",
       "      <td>...</td>\n",
       "      <td>...</td>\n",
       "      <td>...</td>\n",
       "    </tr>\n",
       "    <tr>\n",
       "      <th>7555</th>\n",
       "      <td>1.338814</td>\n",
       "      <td>2.386314</td>\n",
       "      <td>4.350480</td>\n",
       "    </tr>\n",
       "    <tr>\n",
       "      <th>7556</th>\n",
       "      <td>1.343081</td>\n",
       "      <td>2.400577</td>\n",
       "      <td>4.333802</td>\n",
       "    </tr>\n",
       "    <tr>\n",
       "      <th>7557</th>\n",
       "      <td>1.340545</td>\n",
       "      <td>2.398364</td>\n",
       "      <td>4.313633</td>\n",
       "    </tr>\n",
       "    <tr>\n",
       "      <th>7558</th>\n",
       "      <td>1.338153</td>\n",
       "      <td>2.404549</td>\n",
       "      <td>4.317702</td>\n",
       "    </tr>\n",
       "    <tr>\n",
       "      <th>7559</th>\n",
       "      <td>1.341991</td>\n",
       "      <td>2.405132</td>\n",
       "      <td>4.316148</td>\n",
       "    </tr>\n",
       "  </tbody>\n",
       "</table>\n",
       "<p>7560 rows × 3 columns</p>\n",
       "</div>"
      ],
      "text/plain": [
       "           0.1       0.5       0.9\n",
       "0     0.993954  1.000380  1.006401\n",
       "1     0.992939  1.000780  1.009460\n",
       "2     0.991755  1.001460  1.012267\n",
       "3     0.990711  1.001587  1.014222\n",
       "4     0.989595  1.002367  1.016137\n",
       "...        ...       ...       ...\n",
       "7555  1.338814  2.386314  4.350480\n",
       "7556  1.343081  2.400577  4.333802\n",
       "7557  1.340545  2.398364  4.313633\n",
       "7558  1.338153  2.404549  4.317702\n",
       "7559  1.341991  2.405132  4.316148\n",
       "\n",
       "[7560 rows x 3 columns]"
      ]
     },
     "execution_count": 157,
     "metadata": {},
     "output_type": "execute_result"
    }
   ],
   "source": [
    "daily_quantiles = Portfolio_30_year_simulation.quantile(q=(0.10,0.5,0.9), axis = 1).T\n",
    "daily_quantiles"
   ]
  },
  {
   "cell_type": "code",
   "execution_count": 158,
   "metadata": {
    "collapsed": false,
    "deletable": true,
    "editable": true,
    "jupyter": {
     "outputs_hidden": false
    }
   },
   "outputs": [
    {
     "data": {
      "image/png": "[encoded data removed]",
      "text/plain": [
       "<Figure size 432x288 with 1 Axes>"
      ]
     },
     "metadata": {
      "needs_background": "light"
     },
     "output_type": "display_data"
    }
   ],
   "source": [
    "daily_quantiles.plot()\n",
    "plt.savefig(\"./financial_report_images/30_year_percentile.png\")"
   ]
  },
  {
   "cell_type": "code",
   "execution_count": null,
   "metadata": {},
   "outputs": [],
   "source": []
  },
  {
   "cell_type": "code",
   "execution_count": null,
   "metadata": {},
   "outputs": [],
   "source": []
  },
  {
   "cell_type": "code",
   "execution_count": null,
   "metadata": {},
   "outputs": [],
   "source": []
  }
 ],
 "metadata": {
  "kernel_info": {
   "name": "dev"
  },
  "kernelspec": {
   "display_name": "Python 3",
   "language": "python",
   "name": "python3"
  },
  "language_info": {
   "codemirror_mode": {
    "name": "ipython",
    "version": 3
   },
   "file_extension": ".py",
   "mimetype": "text/x-python",
   "name": "python",
   "nbconvert_exporter": "python",
   "pygments_lexer": "ipython3",
   "version": "3.7.4"
  },
  "nteract": {
   "version": "0.12.3"
  }
 },
 "nbformat": 4,
 "nbformat_minor": 4
}
