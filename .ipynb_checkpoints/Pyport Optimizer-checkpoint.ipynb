{
 "cells": [
  {
   "cell_type": "code",
   "execution_count": 1,
   "metadata": {},
   "outputs": [],
   "source": [
    "import pandas as pd\n",
    "from pypfopt.efficient_frontier import EfficientFrontier\n",
    "from pypfopt import risk_models\n",
    "from pypfopt import expected_returns"
   ]
  },
  {
   "cell_type": "code",
   "execution_count": 9,
   "metadata": {},
   "outputs": [],
   "source": [
    "# Read in price data for Equity\n",
    "df = pd.read_csv(\"equitydata.csv\", parse_dates=True)\n",
    "df.set_index('Date', inplace=True)\n",
    "df.head()"
   ]
  },
  {
   "cell_type": "code",
   "execution_count": 15,
   "metadata": {},
   "outputs": [
    {
     "data": {
      "text/html": [
       "<div>\n",
       "<style scoped>\n",
       "    .dataframe tbody tr th:only-of-type {\n",
       "        vertical-align: middle;\n",
       "    }\n",
       "\n",
       "    .dataframe tbody tr th {\n",
       "        vertical-align: top;\n",
       "    }\n",
       "\n",
       "    .dataframe thead th {\n",
       "        text-align: right;\n",
       "    }\n",
       "</style>\n",
       "<table border=\"1\" class=\"dataframe\">\n",
       "  <thead>\n",
       "    <tr style=\"text-align: right;\">\n",
       "      <th></th>\n",
       "      <th>Unnamed: 0</th>\n",
       "      <th>AGG</th>\n",
       "      <th>TLT</th>\n",
       "      <th>SHY</th>\n",
       "      <th>IEI</th>\n",
       "      <th>HYG</th>\n",
       "      <th>BKLN</th>\n",
       "      <th>LQD</th>\n",
       "    </tr>\n",
       "  </thead>\n",
       "  <tbody>\n",
       "    <tr>\n",
       "      <th>0</th>\n",
       "      <td>date</td>\n",
       "      <td>NaN</td>\n",
       "      <td>NaN</td>\n",
       "      <td>NaN</td>\n",
       "      <td>NaN</td>\n",
       "      <td>NaN</td>\n",
       "      <td>NaN</td>\n",
       "      <td>NaN</td>\n",
       "    </tr>\n",
       "    <tr>\n",
       "      <th>1</th>\n",
       "      <td>2/11/15</td>\n",
       "      <td>110.87</td>\n",
       "      <td>129.95</td>\n",
       "      <td>84.61</td>\n",
       "      <td>123.09</td>\n",
       "      <td>91.00</td>\n",
       "      <td>24.07</td>\n",
       "      <td>121.00</td>\n",
       "    </tr>\n",
       "    <tr>\n",
       "      <th>2</th>\n",
       "      <td>2/12/15</td>\n",
       "      <td>110.89</td>\n",
       "      <td>129.52</td>\n",
       "      <td>84.64</td>\n",
       "      <td>123.23</td>\n",
       "      <td>90.99</td>\n",
       "      <td>24.10</td>\n",
       "      <td>121.31</td>\n",
       "    </tr>\n",
       "    <tr>\n",
       "      <th>3</th>\n",
       "      <td>2/13/15</td>\n",
       "      <td>110.76</td>\n",
       "      <td>128.19</td>\n",
       "      <td>84.64</td>\n",
       "      <td>123.09</td>\n",
       "      <td>91.12</td>\n",
       "      <td>24.02</td>\n",
       "      <td>120.83</td>\n",
       "    </tr>\n",
       "    <tr>\n",
       "      <th>4</th>\n",
       "      <td>2/17/15</td>\n",
       "      <td>110.31</td>\n",
       "      <td>126.26</td>\n",
       "      <td>84.60</td>\n",
       "      <td>122.64</td>\n",
       "      <td>91.06</td>\n",
       "      <td>24.12</td>\n",
       "      <td>120.27</td>\n",
       "    </tr>\n",
       "  </tbody>\n",
       "</table>\n",
       "</div>"
      ],
      "text/plain": [
       "  Unnamed: 0     AGG     TLT    SHY     IEI    HYG   BKLN     LQD\n",
       "0       date     NaN     NaN    NaN     NaN    NaN    NaN     NaN\n",
       "1    2/11/15  110.87  129.95  84.61  123.09  91.00  24.07  121.00\n",
       "2    2/12/15  110.89  129.52  84.64  123.23  90.99  24.10  121.31\n",
       "3    2/13/15  110.76  128.19  84.64  123.09  91.12  24.02  120.83\n",
       "4    2/17/15  110.31  126.26  84.60  122.64  91.06  24.12  120.27"
      ]
     },
     "execution_count": 15,
     "metadata": {},
     "output_type": "execute_result"
    }
   ],
   "source": [
    "# Read in price data for FICC\n",
    "df2 = pd.read_csv('ficcdata.csv', parse_dates=True)\n",
    "df2.head()"
   ]
  },
  {
   "cell_type": "code",
   "execution_count": 10,
   "metadata": {},
   "outputs": [],
   "source": [
    "# Calculate expected returns and sample covariance\n",
    "mu = expected_returns.mean_historical_return(df)\n",
    "S = risk_models.sample_cov(df)"
   ]
  },
  {
   "cell_type": "code",
   "execution_count": 13,
   "metadata": {},
   "outputs": [
    {
     "name": "stdout",
     "output_type": "stream",
     "text": [
      "{'VOOV': 0.0, 'EZU': 0.0, 'IWM': 0.0, 'SMH': 0.28961, 'IBB': 0.0, 'XLU': 0.35317, 'VOOG': 0.0, 'SPY': 0.0, 'QQQ': 0.35722}\n",
      "Expected annual return: 15.6%\n",
      "Annual volatility: 14.1%\n",
      "Sharpe Ratio: 0.97\n"
     ]
    },
    {
     "data": {
      "text/plain": [
       "(0.15632238591315972, 0.14061605214841388, 0.9694653194307974)"
      ]
     },
     "execution_count": 13,
     "metadata": {},
     "output_type": "execute_result"
    }
   ],
   "source": [
    "# Optimise for maximal Sharpe ratio\n",
    "ef = EfficientFrontier(mu, S)\n",
    "raw_weights = ef.max_sharpe()\n",
    "cleaned_weights = ef.clean_weights()\n",
    "ef.save_weights_to_file(\"weights.csv\")  # saves to file\n",
    "print(cleaned_weights)\n",
    "ef.portfolio_performance(verbose=True)"
   ]
  },
  {
   "cell_type": "code",
   "execution_count": null,
   "metadata": {},
   "outputs": [],
   "source": []
  }
 ],
 "metadata": {
  "kernelspec": {
   "display_name": "Python 3",
   "language": "python",
   "name": "python3"
  },
  "language_info": {
   "codemirror_mode": {
    "name": "ipython",
    "version": 3
   },
   "file_extension": ".py",
   "mimetype": "text/x-python",
   "name": "python",
   "nbconvert_exporter": "python",
   "pygments_lexer": "ipython3",
   "version": "3.7.4"
  }
 },
 "nbformat": 4,
 "nbformat_minor": 4
}
