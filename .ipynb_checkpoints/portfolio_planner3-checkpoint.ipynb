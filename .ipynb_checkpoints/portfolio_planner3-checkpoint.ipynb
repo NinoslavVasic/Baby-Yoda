{
 "cells": [
  {
   "cell_type": "code",
   "execution_count": 1,
   "metadata": {
    "deletable": true,
    "editable": true
   },
   "outputs": [],
   "source": [
    "import numpy as np\n",
    "import pandas as pd\n",
    "from datetime import datetime, timedelta\n",
    "import matplotlib.pyplot as plt\n",
    "%matplotlib inline"
   ]
  },
  {
   "cell_type": "code",
   "execution_count": 2,
   "metadata": {
    "deletable": true,
    "editable": true
   },
   "outputs": [],
   "source": [
    "np.random.seed(42)"
   ]
  },
  {
   "cell_type": "markdown",
   "metadata": {
    "deletable": true,
    "editable": true
   },
   "source": [
    "# Portfolio Planner\n",
    "\n",
    "In this activity, you will use the iexfinance api to grab historical data for a 60/40 portfolio using `SPY` to represent the stock portion and `AGG` to represent the bonds."
   ]
  },
  {
   "cell_type": "code",
   "execution_count": 3,
   "metadata": {
    "deletable": true,
    "editable": true
   },
   "outputs": [],
   "source": [
    "from iexfinance.stocks import get_historical_data\n",
    "import iexfinance as iex"
   ]
  },
  {
   "cell_type": "markdown",
   "metadata": {
    "deletable": true,
    "editable": true
   },
   "source": [
    "# Data Collection\n",
    "\n",
    "In this step, you will need to use the IEX api to fetch closing prices for the `SPY` and `AGG` tickers. Save the results as a pandas DataFrame"
   ]
  },
  {
   "cell_type": "code",
   "execution_count": 4,
   "metadata": {
    "deletable": true,
    "editable": true
   },
   "outputs": [],
   "source": [
    "list_of_tickers = [\"SPY\", \"AGG\"]\n",
    "# comment the downloading and to_pickle of transaction data unless we need to use it again.  I will take 3 years instead of 1.\n",
    "#df = get_historical_data(list_of_tickers, output_format='pandas', start = '2017-01-01', end = '2019-12-31', close_only = True, volume= False)\n",
    "#df.to_pickle(\"./iex3years\")"
   ]
  },
  {
   "cell_type": "code",
   "execution_count": 5,
   "metadata": {
    "collapsed": false,
    "deletable": true,
    "editable": true,
    "jupyter": {
     "outputs_hidden": false
    }
   },
   "outputs": [
    {
     "data": {
      "text/html": [
       "<div>\n",
       "<style scoped>\n",
       "    .dataframe tbody tr th:only-of-type {\n",
       "        vertical-align: middle;\n",
       "    }\n",
       "\n",
       "    .dataframe tbody tr th {\n",
       "        vertical-align: top;\n",
       "    }\n",
       "\n",
       "    .dataframe thead th {\n",
       "        text-align: right;\n",
       "    }\n",
       "</style>\n",
       "<table border=\"1\" class=\"dataframe\">\n",
       "  <thead>\n",
       "    <tr style=\"text-align: right;\">\n",
       "      <th></th>\n",
       "      <th>SPY</th>\n",
       "      <th>AGG</th>\n",
       "    </tr>\n",
       "    <tr>\n",
       "      <th>date</th>\n",
       "      <th></th>\n",
       "      <th></th>\n",
       "    </tr>\n",
       "  </thead>\n",
       "  <tbody>\n",
       "    <tr>\n",
       "      <th>2017-01-03</th>\n",
       "      <td>225.24</td>\n",
       "      <td>108.17</td>\n",
       "    </tr>\n",
       "    <tr>\n",
       "      <th>2017-01-04</th>\n",
       "      <td>226.58</td>\n",
       "      <td>108.20</td>\n",
       "    </tr>\n",
       "    <tr>\n",
       "      <th>2017-01-05</th>\n",
       "      <td>226.40</td>\n",
       "      <td>108.65</td>\n",
       "    </tr>\n",
       "    <tr>\n",
       "      <th>2017-01-06</th>\n",
       "      <td>227.21</td>\n",
       "      <td>108.29</td>\n",
       "    </tr>\n",
       "    <tr>\n",
       "      <th>2017-01-09</th>\n",
       "      <td>226.46</td>\n",
       "      <td>108.47</td>\n",
       "    </tr>\n",
       "  </tbody>\n",
       "</table>\n",
       "</div>"
      ],
      "text/plain": [
       "               SPY     AGG\n",
       "date                      \n",
       "2017-01-03  225.24  108.17\n",
       "2017-01-04  226.58  108.20\n",
       "2017-01-05  226.40  108.65\n",
       "2017-01-06  227.21  108.29\n",
       "2017-01-09  226.46  108.47"
      ]
     },
     "execution_count": 5,
     "metadata": {},
     "output_type": "execute_result"
    }
   ],
   "source": [
    "iex_df = pd.read_pickle(\"./iex3years\")\n",
    "iex_df.drop(columns=['volume'], level=1, inplace=True)\n",
    "iex_df.columns = iex_df.columns.droplevel(1)\n",
    "iex_df.sort_index(ascending = True, inplace = True)\n",
    "iex_df.head(5)"
   ]
  },
  {
   "cell_type": "markdown",
   "metadata": {
    "deletable": true,
    "editable": true
   },
   "source": [
    "# Monte Carlo Simulation\n",
    "\n",
    "In this step, you will run Monte Carlo Simulations for your portfolio to model portfolio performance at different retirement ages. \n",
    "\n",
    "Complete the following steps:\n",
    "1. Calculate the daily returns for the SPY and AGG closing prices.\n",
    "2. Calculate volatility for both the SPY and AGG closing prices.\n",
    "3. Find the last day's closing price for both stocks and save those as variables.\n",
    "4. Run a Monte Carlo Simulation of at least 500 iterations and generate at least 30 years of closing prices\n",
    "\n",
    "### HINTS:\n",
    "There are 252 trading days per year, so the number of records to generate for each Monte Carlo run will be 252 days * 30 years"
   ]
  },
  {
   "cell_type": "code",
   "execution_count": 6,
   "metadata": {
    "collapsed": false,
    "deletable": true,
    "editable": true,
    "jupyter": {
     "outputs_hidden": false
    }
   },
   "outputs": [
    {
     "data": {
      "text/html": [
       "<div>\n",
       "<style scoped>\n",
       "    .dataframe tbody tr th:only-of-type {\n",
       "        vertical-align: middle;\n",
       "    }\n",
       "\n",
       "    .dataframe tbody tr th {\n",
       "        vertical-align: top;\n",
       "    }\n",
       "\n",
       "    .dataframe thead th {\n",
       "        text-align: right;\n",
       "    }\n",
       "</style>\n",
       "<table border=\"1\" class=\"dataframe\">\n",
       "  <thead>\n",
       "    <tr style=\"text-align: right;\">\n",
       "      <th></th>\n",
       "      <th>SPY</th>\n",
       "      <th>AGG</th>\n",
       "    </tr>\n",
       "    <tr>\n",
       "      <th>date</th>\n",
       "      <th></th>\n",
       "      <th></th>\n",
       "    </tr>\n",
       "  </thead>\n",
       "  <tbody>\n",
       "    <tr>\n",
       "      <th>2017-01-04</th>\n",
       "      <td>0.005949</td>\n",
       "      <td>0.000277</td>\n",
       "    </tr>\n",
       "    <tr>\n",
       "      <th>2017-01-05</th>\n",
       "      <td>-0.000794</td>\n",
       "      <td>0.004159</td>\n",
       "    </tr>\n",
       "    <tr>\n",
       "      <th>2017-01-06</th>\n",
       "      <td>0.003578</td>\n",
       "      <td>-0.003313</td>\n",
       "    </tr>\n",
       "    <tr>\n",
       "      <th>2017-01-09</th>\n",
       "      <td>-0.003301</td>\n",
       "      <td>0.001662</td>\n",
       "    </tr>\n",
       "    <tr>\n",
       "      <th>2017-01-10</th>\n",
       "      <td>0.000000</td>\n",
       "      <td>-0.000277</td>\n",
       "    </tr>\n",
       "  </tbody>\n",
       "</table>\n",
       "</div>"
      ],
      "text/plain": [
       "                 SPY       AGG\n",
       "date                          \n",
       "2017-01-04  0.005949  0.000277\n",
       "2017-01-05 -0.000794  0.004159\n",
       "2017-01-06  0.003578 -0.003313\n",
       "2017-01-09 -0.003301  0.001662\n",
       "2017-01-10  0.000000 -0.000277"
      ]
     },
     "execution_count": 6,
     "metadata": {},
     "output_type": "execute_result"
    }
   ],
   "source": [
    "# Calculate the daily roi for the stocks\n",
    "daily_return = iex_df.pct_change().dropna()\n",
    "daily_return.head()"
   ]
  },
  {
   "cell_type": "code",
   "execution_count": 7,
   "metadata": {},
   "outputs": [
    {
     "data": {
      "text/html": [
       "<div>\n",
       "<style scoped>\n",
       "    .dataframe tbody tr th:only-of-type {\n",
       "        vertical-align: middle;\n",
       "    }\n",
       "\n",
       "    .dataframe tbody tr th {\n",
       "        vertical-align: top;\n",
       "    }\n",
       "\n",
       "    .dataframe thead th {\n",
       "        text-align: right;\n",
       "    }\n",
       "</style>\n",
       "<table border=\"1\" class=\"dataframe\">\n",
       "  <thead>\n",
       "    <tr style=\"text-align: right;\">\n",
       "      <th></th>\n",
       "      <th>SPY</th>\n",
       "      <th>AGG</th>\n",
       "      <th>XYZ</th>\n",
       "    </tr>\n",
       "  </thead>\n",
       "  <tbody>\n",
       "    <tr>\n",
       "      <th>avg</th>\n",
       "      <td>0.000507</td>\n",
       "      <td>0.000052</td>\n",
       "      <td>0.000002</td>\n",
       "    </tr>\n",
       "    <tr>\n",
       "      <th>std</th>\n",
       "      <td>0.008114</td>\n",
       "      <td>0.001879</td>\n",
       "      <td>0.030000</td>\n",
       "    </tr>\n",
       "    <tr>\n",
       "      <th>weight</th>\n",
       "      <td>0.700000</td>\n",
       "      <td>0.100000</td>\n",
       "      <td>0.200000</td>\n",
       "    </tr>\n",
       "  </tbody>\n",
       "</table>\n",
       "</div>"
      ],
      "text/plain": [
       "             SPY       AGG       XYZ\n",
       "avg     0.000507  0.000052  0.000002\n",
       "std     0.008114  0.001879  0.030000\n",
       "weight  0.700000  0.100000  0.200000"
      ]
     },
     "execution_count": 7,
     "metadata": {},
     "output_type": "execute_result"
    }
   ],
   "source": [
    "#get a portfolio\n",
    "cal_avg = pd.DataFrame(daily_return.mean()).rename(columns = ({0:'avg'}))\n",
    "cal_std = pd.DataFrame(daily_return.std()).rename(columns = ({0:'std'}))\n",
    "portfolio1 = pd.concat((cal_avg, cal_std), axis = 1).T\n",
    "portfolio1.loc['weight','SPY'] = 0.7\n",
    "portfolio1.loc['weight','AGG'] = 0.1\n",
    "portfolio1.loc[:,'XYZ'] =[0.000002,0.03,0.2]\n",
    "portfolio1"
   ]
  },
  {
   "cell_type": "code",
   "execution_count": 71,
   "metadata": {},
   "outputs": [
    {
     "data": {
      "text/html": [
       "<div>\n",
       "<style scoped>\n",
       "    .dataframe tbody tr th:only-of-type {\n",
       "        vertical-align: middle;\n",
       "    }\n",
       "\n",
       "    .dataframe tbody tr th {\n",
       "        vertical-align: top;\n",
       "    }\n",
       "\n",
       "    .dataframe thead th {\n",
       "        text-align: right;\n",
       "    }\n",
       "</style>\n",
       "<table border=\"1\" class=\"dataframe\">\n",
       "  <thead>\n",
       "    <tr style=\"text-align: right;\">\n",
       "      <th></th>\n",
       "      <th>0</th>\n",
       "      <th>1</th>\n",
       "      <th>2</th>\n",
       "      <th>3</th>\n",
       "    </tr>\n",
       "  </thead>\n",
       "  <tbody>\n",
       "    <tr>\n",
       "      <th>0</th>\n",
       "      <td>0.00020</td>\n",
       "      <td>0.000009</td>\n",
       "      <td>0.0002</td>\n",
       "      <td>0.000080</td>\n",
       "    </tr>\n",
       "    <tr>\n",
       "      <th>1</th>\n",
       "      <td>0.00003</td>\n",
       "      <td>0.008300</td>\n",
       "      <td>0.0005</td>\n",
       "      <td>0.000865</td>\n",
       "    </tr>\n",
       "    <tr>\n",
       "      <th>2</th>\n",
       "      <td>0.10000</td>\n",
       "      <td>0.200000</td>\n",
       "      <td>0.3000</td>\n",
       "      <td>0.400000</td>\n",
       "    </tr>\n",
       "  </tbody>\n",
       "</table>\n",
       "</div>"
      ],
      "text/plain": [
       "         0         1       2         3\n",
       "0  0.00020  0.000009  0.0002  0.000080\n",
       "1  0.00003  0.008300  0.0005  0.000865\n",
       "2  0.10000  0.200000  0.3000  0.400000"
      ]
     },
     "execution_count": 71,
     "metadata": {},
     "output_type": "execute_result"
    }
   ],
   "source": [
    "portfolio2 = pd.DataFrame([[0.0002,0.000009,0.0002,0.00008],\n",
    "                           [0.00003,0.0083,0.0005,0.000865],\n",
    "                           [0.1,0.2,0.3,0.4]])\n",
    "portfolio2"
   ]
  },
  {
   "cell_type": "code",
   "execution_count": 82,
   "metadata": {},
   "outputs": [],
   "source": [
    "portfolio = portfolio1\n",
    "portfolio_dimension = portfolio.shape"
   ]
  },
  {
   "cell_type": "code",
   "execution_count": 83,
   "metadata": {
    "deletable": true,
    "editable": true
   },
   "outputs": [],
   "source": [
    "# Next two lines are generating random daily returns for each stock for 30 years before calculating portfolio separately.\n",
    "for stock in range(portfolio_dimension[1]):\n",
    "    globals()['stock_%s' % stock]= np.random.normal(portfolio.iloc[0,stock], \n",
    "                                                    portfolio.iloc[1,stock],\n",
    "                                                    252*30*500).reshape(252*30,500)   "
   ]
  },
  {
   "cell_type": "code",
   "execution_count": 99,
   "metadata": {
    "collapsed": false,
    "deletable": true,
    "editable": true,
    "jupyter": {
     "outputs_hidden": false
    }
   },
   "outputs": [],
   "source": [
    "#placeholder for user's input\n",
    "withdraw_type = 'fixed amount'  #fixed amount or fixed rate\n",
    "input_withdraw_amount = 0.08\n",
    "input_withdraw_rate = 0.08\n",
    "years_to_retirement = 30"
   ]
  },
  {
   "cell_type": "code",
   "execution_count": 100,
   "metadata": {},
   "outputs": [
    {
     "name": "stdout",
     "output_type": "stream",
     "text": [
      "CPU times: user 2 µs, sys: 1e+03 ns, total: 3 µs\n",
      "Wall time: 5.25 µs\n"
     ]
    },
    {
     "data": {
      "text/html": [
       "<div>\n",
       "<style scoped>\n",
       "    .dataframe tbody tr th:only-of-type {\n",
       "        vertical-align: middle;\n",
       "    }\n",
       "\n",
       "    .dataframe tbody tr th {\n",
       "        vertical-align: top;\n",
       "    }\n",
       "\n",
       "    .dataframe thead th {\n",
       "        text-align: right;\n",
       "    }\n",
       "</style>\n",
       "<table border=\"1\" class=\"dataframe\">\n",
       "  <thead>\n",
       "    <tr style=\"text-align: right;\">\n",
       "      <th></th>\n",
       "      <th>0</th>\n",
       "      <th>1</th>\n",
       "      <th>2</th>\n",
       "      <th>3</th>\n",
       "      <th>4</th>\n",
       "      <th>5</th>\n",
       "      <th>6</th>\n",
       "      <th>7</th>\n",
       "      <th>8</th>\n",
       "      <th>9</th>\n",
       "      <th>...</th>\n",
       "      <th>490</th>\n",
       "      <th>491</th>\n",
       "      <th>492</th>\n",
       "      <th>493</th>\n",
       "      <th>494</th>\n",
       "      <th>495</th>\n",
       "      <th>496</th>\n",
       "      <th>497</th>\n",
       "      <th>498</th>\n",
       "      <th>499</th>\n",
       "    </tr>\n",
       "  </thead>\n",
       "  <tbody>\n",
       "    <tr>\n",
       "      <th>0</th>\n",
       "      <td>0.984341</td>\n",
       "      <td>1.012273</td>\n",
       "      <td>0.999342</td>\n",
       "      <td>0.999727</td>\n",
       "      <td>1.015201</td>\n",
       "      <td>1.003072</td>\n",
       "      <td>0.993708</td>\n",
       "      <td>1.011116</td>\n",
       "      <td>1.009528</td>\n",
       "      <td>0.992252</td>\n",
       "      <td>...</td>\n",
       "      <td>1.001027</td>\n",
       "      <td>1.002871</td>\n",
       "      <td>1.005767</td>\n",
       "      <td>0.996654</td>\n",
       "      <td>1.006012</td>\n",
       "      <td>1.010170</td>\n",
       "      <td>0.997583</td>\n",
       "      <td>1.004102</td>\n",
       "      <td>0.992191</td>\n",
       "      <td>0.995020</td>\n",
       "    </tr>\n",
       "    <tr>\n",
       "      <th>1</th>\n",
       "      <td>0.986306</td>\n",
       "      <td>1.025984</td>\n",
       "      <td>1.013506</td>\n",
       "      <td>0.998521</td>\n",
       "      <td>1.020666</td>\n",
       "      <td>1.005323</td>\n",
       "      <td>1.015225</td>\n",
       "      <td>1.010080</td>\n",
       "      <td>1.022414</td>\n",
       "      <td>0.984302</td>\n",
       "      <td>...</td>\n",
       "      <td>0.989434</td>\n",
       "      <td>1.002564</td>\n",
       "      <td>1.005831</td>\n",
       "      <td>0.998699</td>\n",
       "      <td>0.994285</td>\n",
       "      <td>1.019979</td>\n",
       "      <td>0.986268</td>\n",
       "      <td>1.008188</td>\n",
       "      <td>1.000756</td>\n",
       "      <td>0.985072</td>\n",
       "    </tr>\n",
       "    <tr>\n",
       "      <th>2</th>\n",
       "      <td>0.966715</td>\n",
       "      <td>1.021985</td>\n",
       "      <td>1.005312</td>\n",
       "      <td>1.012058</td>\n",
       "      <td>1.021480</td>\n",
       "      <td>1.004212</td>\n",
       "      <td>1.012028</td>\n",
       "      <td>1.004943</td>\n",
       "      <td>1.023453</td>\n",
       "      <td>0.991097</td>\n",
       "      <td>...</td>\n",
       "      <td>0.982642</td>\n",
       "      <td>0.996040</td>\n",
       "      <td>1.016286</td>\n",
       "      <td>0.997200</td>\n",
       "      <td>1.007773</td>\n",
       "      <td>1.031729</td>\n",
       "      <td>0.986946</td>\n",
       "      <td>1.008874</td>\n",
       "      <td>1.013032</td>\n",
       "      <td>0.993889</td>\n",
       "    </tr>\n",
       "    <tr>\n",
       "      <th>3</th>\n",
       "      <td>0.960975</td>\n",
       "      <td>1.015475</td>\n",
       "      <td>1.004982</td>\n",
       "      <td>1.006654</td>\n",
       "      <td>1.019239</td>\n",
       "      <td>0.992311</td>\n",
       "      <td>1.005815</td>\n",
       "      <td>1.003716</td>\n",
       "      <td>1.015618</td>\n",
       "      <td>1.002828</td>\n",
       "      <td>...</td>\n",
       "      <td>0.973960</td>\n",
       "      <td>1.000921</td>\n",
       "      <td>1.017781</td>\n",
       "      <td>1.008840</td>\n",
       "      <td>1.003647</td>\n",
       "      <td>1.034675</td>\n",
       "      <td>0.983782</td>\n",
       "      <td>1.015376</td>\n",
       "      <td>1.015189</td>\n",
       "      <td>0.998606</td>\n",
       "    </tr>\n",
       "    <tr>\n",
       "      <th>4</th>\n",
       "      <td>0.956603</td>\n",
       "      <td>1.002149</td>\n",
       "      <td>1.006960</td>\n",
       "      <td>1.016830</td>\n",
       "      <td>1.006455</td>\n",
       "      <td>0.989671</td>\n",
       "      <td>1.008315</td>\n",
       "      <td>1.008651</td>\n",
       "      <td>1.014838</td>\n",
       "      <td>0.999850</td>\n",
       "      <td>...</td>\n",
       "      <td>0.963402</td>\n",
       "      <td>1.001087</td>\n",
       "      <td>1.030701</td>\n",
       "      <td>1.005319</td>\n",
       "      <td>0.998695</td>\n",
       "      <td>1.041524</td>\n",
       "      <td>0.994006</td>\n",
       "      <td>1.012864</td>\n",
       "      <td>1.022271</td>\n",
       "      <td>0.983294</td>\n",
       "    </tr>\n",
       "  </tbody>\n",
       "</table>\n",
       "<p>5 rows × 500 columns</p>\n",
       "</div>"
      ],
      "text/plain": [
       "        0         1         2         3         4         5         6    \\\n",
       "0  0.984341  1.012273  0.999342  0.999727  1.015201  1.003072  0.993708   \n",
       "1  0.986306  1.025984  1.013506  0.998521  1.020666  1.005323  1.015225   \n",
       "2  0.966715  1.021985  1.005312  1.012058  1.021480  1.004212  1.012028   \n",
       "3  0.960975  1.015475  1.004982  1.006654  1.019239  0.992311  1.005815   \n",
       "4  0.956603  1.002149  1.006960  1.016830  1.006455  0.989671  1.008315   \n",
       "\n",
       "        7         8         9    ...       490       491       492       493  \\\n",
       "0  1.011116  1.009528  0.992252  ...  1.001027  1.002871  1.005767  0.996654   \n",
       "1  1.010080  1.022414  0.984302  ...  0.989434  1.002564  1.005831  0.998699   \n",
       "2  1.004943  1.023453  0.991097  ...  0.982642  0.996040  1.016286  0.997200   \n",
       "3  1.003716  1.015618  1.002828  ...  0.973960  1.000921  1.017781  1.008840   \n",
       "4  1.008651  1.014838  0.999850  ...  0.963402  1.001087  1.030701  1.005319   \n",
       "\n",
       "        494       495       496       497       498       499  \n",
       "0  1.006012  1.010170  0.997583  1.004102  0.992191  0.995020  \n",
       "1  0.994285  1.019979  0.986268  1.008188  1.000756  0.985072  \n",
       "2  1.007773  1.031729  0.986946  1.008874  1.013032  0.993889  \n",
       "3  1.003647  1.034675  0.983782  1.015376  1.015189  0.998606  \n",
       "4  0.998695  1.041524  0.994006  1.012864  1.022271  0.983294  \n",
       "\n",
       "[5 rows x 500 columns]"
      ]
     },
     "execution_count": 100,
     "metadata": {},
     "output_type": "execute_result"
    }
   ],
   "source": [
    "%time \n",
    "\n",
    "#initialize variables\n",
    "next_beginning_balance = np.ones((1,500))\n",
    "Portfolio_30_year = np.ones((1,500))\n",
    "\n",
    "withdraw_amount = input_withdraw_amount\n",
    "withdraw_rate = input_withdraw_rate\n",
    "\n",
    "for year in range(30):\n",
    "    #initialize for each year\n",
    "    Portfolio_1_year = np.ones((1,500))\n",
    "    \n",
    "    for month in range(12):\n",
    "        #initialize for each month\n",
    "        portfolio_monthly_return = np.zeros((22,500))\n",
    "        for stock in range(portfolio_dimension[1]):\n",
    "            stock_month_daily_return = np.concatenate((next_beginning_balance,\n",
    "                                                       (globals()['stock_%s' % stock][year*12*21+month*21:year*12*21+(month+1)*21])+1), \n",
    "                                                      axis = 0)\n",
    "            portfolio_monthly_return += np.cumprod(stock_month_daily_return, axis = 0)*portfolio.iloc[2,stock]\n",
    "        \n",
    "        #get balance for rebalancing in next loop.\n",
    "        next_beginning_balance = (portfolio_monthly_return[-1,:]).reshape(1,500)\n",
    "        \n",
    "        Portfolio_1_year = np.concatenate((Portfolio_1_year,portfolio_monthly_return[1:,:]), axis = 0)\n",
    "\n",
    "    if withdraw_type != 'fixed amount':\n",
    "        withdraw_rate = input_withdraw_rate\n",
    "        next_beginning_balance = (portfolio_monthly_return[-1,:]).reshape(1,500)*(1-withdraw_rate)\n",
    "    else:\n",
    "        withdraw_amount = input_withdraw_amount\n",
    "        next_beginning_balance =(portfolio_monthly_return[-1,:]).reshape(1,500)-withdraw_amount\n",
    "    \n",
    "    Portfolio_30_year = np.concatenate((Portfolio_30_year,Portfolio_1_year[1:,:]), axis = 0)\n",
    "Portfolio_30_year_simulation = pd.DataFrame(Portfolio_30_year[1:])\n",
    "Portfolio_30_year_simulation.head()"
   ]
  },
  {
   "cell_type": "code",
   "execution_count": 101,
   "metadata": {
    "collapsed": false,
    "deletable": true,
    "editable": true,
    "jupyter": {
     "outputs_hidden": false
    }
   },
   "outputs": [],
   "source": [
    "#filter for relevant years to retirment\n",
    "Portfolio_by_retirement = Portfolio_30_year_simulation.iloc[:years_to_retirement*252]\n",
    "Portfolio_by_retirement.shape\n",
    "daily_quantiles = Portfolio_by_retirement.quantile(q=(0.10,0.5,0.9), axis = 1).T"
   ]
  },
  {
   "cell_type": "code",
   "execution_count": 102,
   "metadata": {
    "collapsed": false,
    "deletable": true,
    "editable": true,
    "jupyter": {
     "outputs_hidden": false
    }
   },
   "outputs": [
    {
     "data": {
      "image/png": "[encoded data removed]",
      "text/plain": [
       "<Figure size 720x360 with 1 Axes>"
      ]
     },
     "metadata": {
      "needs_background": "light"
     },
     "output_type": "display_data"
    }
   ],
   "source": [
    "if withdraw_type == 'fixed amount':\n",
    "    withdraw_number = withdraw_amount\n",
    "else:\n",
    "    withdraw_number = withdraw_rate\n",
    "daily_quantiles.plot(title = f\"Withdraw {withdraw_type} by {withdraw_number} in {years_to_retirement} years.\", \n",
    "                     figsize=(10,5))\n",
    "plt.savefig(\"./financial_report_images/30_year_percentile.png\")"
   ]
  },
  {
   "cell_type": "code",
   "execution_count": 88,
   "metadata": {
    "collapsed": false,
    "deletable": true,
    "editable": true,
    "jupyter": {
     "outputs_hidden": false
    }
   },
   "outputs": [
    {
     "data": {
      "image/png": "[encoded data removed]",
      "text/plain": [
       "<Figure size 720x360 with 1 Axes>"
      ]
     },
     "metadata": {
      "needs_background": "light"
     },
     "output_type": "display_data"
    }
   ],
   "source": [
    "# Visualize the Simulation\n",
    "Portfolio_by_retirement.plot(legend = False, title = \"Portfolio simulation\", figsize = (10,5))\n",
    "plt.savefig(\"./financial_report_images/simulation.png\")"
   ]
  },
  {
   "cell_type": "code",
   "execution_count": 89,
   "metadata": {
    "collapsed": false,
    "deletable": true,
    "editable": true,
    "jupyter": {
     "outputs_hidden": false
    }
   },
   "outputs": [
    {
     "name": "stdout",
     "output_type": "stream",
     "text": [
      "The 90% confidence interval of investment at retirement for $1 investment in portfolio is between $0 and $3.\n"
     ]
    },
    {
     "data": {
      "text/plain": [
       "<Figure size 432x288 with 0 Axes>"
      ]
     },
     "metadata": {},
     "output_type": "display_data"
    }
   ],
   "source": [
    "# Visualize the distribution of the ending returns\n",
    "plt.figure() # this is top-level container for all plot elements, make sure to close it when not suing any more.\n",
    "investment_ending_price = Portfolio_by_retirement.iloc[-1]\n",
    "quantile_result = investment_ending_price.quantile(q=[0.05, 0.95])\n",
    "print(f\"The 90% confidence interval of investment at retirement for $1 investment in portfolio \\\n",
    "is between ${int(quantile_result[0.05])} and ${int(quantile_result[.95])}.\")"
   ]
  },
  {
   "cell_type": "code",
   "execution_count": 90,
   "metadata": {
    "collapsed": false,
    "deletable": true,
    "editable": true,
    "jupyter": {
     "outputs_hidden": false
    }
   },
   "outputs": [
    {
     "data": {
      "image/png": "[encoded data removed]",
      "text/plain": [
       "<Figure size 432x288 with 1 Axes>"
      ]
     },
     "metadata": {
      "needs_background": "light"
     },
     "output_type": "display_data"
    }
   ],
   "source": [
    "investment_ending_price.plot(kind = 'hist', title=\"90% confidence interval for tails\")\n",
    "plt.axvline(quantile_result.iloc[0], color='r')\n",
    "plt.axvline(quantile_result.iloc[1], color='r')\n",
    "plt.savefig(\"./financial_report_images/confidence_level.png\")"
   ]
  },
  {
   "cell_type": "markdown",
   "metadata": {},
   "source": [
    "---"
   ]
  },
  {
   "cell_type": "code",
   "execution_count": null,
   "metadata": {},
   "outputs": [],
   "source": []
  },
  {
   "cell_type": "code",
   "execution_count": null,
   "metadata": {},
   "outputs": [],
   "source": []
  },
  {
   "cell_type": "code",
   "execution_count": null,
   "metadata": {},
   "outputs": [],
   "source": []
  },
  {
   "cell_type": "markdown",
   "metadata": {
    "deletable": true,
    "editable": true
   },
   "source": [
    "---"
   ]
  },
  {
   "cell_type": "markdown",
   "metadata": {
    "deletable": true,
    "editable": true
   },
   "source": [
    "# Retirement Analysis\n",
    "\n",
    "In this section, you will use the monte carlo model to answer the following retirement planning questions:\n",
    "\n",
    "1. What are the expected cumulative returns at 30 years for the 10th, 50th, and 90th percentiles?\n",
    "2. Given an initial investment of `$20,000`, what is the expected portfolio return in dollars at the 10th, 50th, and 90th percentiles?\n",
    "3. Given the current projected annual income from the Plaid analysis, will a 4% withdraw rate from the retirement portfolio meet or exceed that value at the 10th percentile?\n",
    "4. How would a 50% increase in the initial investment amount affect the 4% retirement withdrawal?"
   ]
  },
  {
   "cell_type": "markdown",
   "metadata": {
    "deletable": true,
    "editable": true
   },
   "source": [
    "### What are the expected cumulative returns at 30 years for the 10th, 50th, and 90th percentiles?"
   ]
  },
  {
   "cell_type": "code",
   "execution_count": 46,
   "metadata": {
    "deletable": true,
    "editable": true
   },
   "outputs": [],
   "source": [
    "# YOUR CODE HERE\n",
    "quantile_10_50_90=simulation_ending_price_30.quantile(q = [0.10,0.50,0.90])"
   ]
  },
  {
   "cell_type": "markdown",
   "metadata": {
    "deletable": true,
    "editable": true
   },
   "source": [
    "### Given an initial investment of `$20,000`, what is the expected portfolio return in dollars at the 10th, 50th, and 90th percentiles?"
   ]
  },
  {
   "cell_type": "code",
   "execution_count": 47,
   "metadata": {
    "collapsed": false,
    "deletable": true,
    "editable": true,
    "jupyter": {
     "outputs_hidden": false
    }
   },
   "outputs": [
    {
     "data": {
      "text/plain": [
       "0.1    10453\n",
       "0.5    18872\n",
       "0.9    31266\n",
       "Name: 7559, dtype: int64"
      ]
     },
     "execution_count": 47,
     "metadata": {},
     "output_type": "execute_result"
    }
   ],
   "source": [
    "initial_investment = 20_000\n",
    "return_10_50_90 = quantile_10_50_90*initial_investment\n",
    "return_10_50_90.astype(int)"
   ]
  },
  {
   "cell_type": "markdown",
   "metadata": {
    "deletable": true,
    "editable": true
   },
   "source": [
    "### Given the current projected annual income from the Plaid analysis, will a 4% withdraw rate from the retirement portfolio meet or exceed that value at the 10th percentile?\n",
    "\n",
    "Note: This is effectively saying that 90% of the expected returns will be greater than the return at the 10th percentile, so this can help measure the uncertainty about having enough funds at retirement"
   ]
  },
  {
   "cell_type": "code",
   "execution_count": 48,
   "metadata": {
    "deletable": true,
    "editable": true
   },
   "outputs": [],
   "source": [
    "def sufficient_fund(withdraw_rate, initial_investment, simulation_ending_price_30, plaid_projected_annual_income):\n",
    "    retirement_income = withdraw_rate * (initial_investment * simulation_ending_price_30.quantile(.1))\n",
    "    if retirement_income > plaid_projected_annual_income:\n",
    "        answer = \"exceeds\"\n",
    "    else:\n",
    "        answer = \"doesn't meet\"\n",
    "    return (f\"Your retirement income at 10th percentile and {withdraw_rate} withdraw is ${int(retirement_income)}, \\\n",
    "which {answer} meet current income ${plaid_projected_annual_income}.\")"
   ]
  },
  {
   "cell_type": "code",
   "execution_count": 49,
   "metadata": {
    "collapsed": false,
    "deletable": true,
    "editable": true,
    "jupyter": {
     "outputs_hidden": false
    }
   },
   "outputs": [
    {
     "name": "stdout",
     "output_type": "stream",
     "text": [
      "Your retirement income at 10th percentile and 0.04 withdraw is $418, which doesn't meet meet current income $7389.\n"
     ]
    }
   ],
   "source": [
    "withdraw_rate = 0.04\n",
    "initial_investment = 20000\n",
    "plaid_projected_annual_income = 7389\n",
    "print(sufficient_fund(withdraw_rate,initial_investment, simulation_ending_price_30,plaid_projected_annual_income))"
   ]
  },
  {
   "cell_type": "markdown",
   "metadata": {
    "deletable": true,
    "editable": true
   },
   "source": [
    "### How would a 50% increase in the initial investment amount affect the 4% retirement withdrawal?"
   ]
  },
  {
   "cell_type": "code",
   "execution_count": 50,
   "metadata": {
    "collapsed": false,
    "deletable": true,
    "editable": true,
    "jupyter": {
     "outputs_hidden": false
    }
   },
   "outputs": [
    {
     "name": "stdout",
     "output_type": "stream",
     "text": [
      "Your retirement income at 10th percentile and 0.04 withdraw is $627, which doesn't meet meet current income $7389.\n"
     ]
    }
   ],
   "source": [
    "initial_investment *= 1.5\n",
    "print(sufficient_fund(withdraw_rate,initial_investment, simulation_ending_price_30,plaid_projected_annual_income))"
   ]
  },
  {
   "cell_type": "code",
   "execution_count": null,
   "metadata": {},
   "outputs": [],
   "source": []
  },
  {
   "cell_type": "code",
   "execution_count": null,
   "metadata": {},
   "outputs": [],
   "source": []
  },
  {
   "cell_type": "code",
   "execution_count": null,
   "metadata": {},
   "outputs": [],
   "source": []
  }
 ],
 "metadata": {
  "kernel_info": {
   "name": "dev"
  },
  "kernelspec": {
   "display_name": "Python 3",
   "language": "python",
   "name": "python3"
  },
  "language_info": {
   "codemirror_mode": {
    "name": "ipython",
    "version": 3
   },
   "file_extension": ".py",
   "mimetype": "text/x-python",
   "name": "python",
   "nbconvert_exporter": "python",
   "pygments_lexer": "ipython3",
   "version": "3.7.4"
  },
  "nteract": {
   "version": "0.12.3"
  }
 },
 "nbformat": 4,
 "nbformat_minor": 4
}
