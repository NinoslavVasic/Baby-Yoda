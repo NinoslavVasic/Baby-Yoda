{
 "cells": [
  {
   "cell_type": "code",
   "execution_count": 47,
   "metadata": {},
   "outputs": [
    {
     "data": {
      "application/vnd.jupyter.widget-view+json": {
       "model_id": "7cc2dac6981f4392807c390db2034e5d",
       "version_major": 2,
       "version_minor": 0
      },
      "text/plain": [
       "Box(children=(Box(children=(Label(value='Years Until Retirement'), IntSlider(value=5, max=30, min=5)), layout=…"
      ]
     },
     "metadata": {},
     "output_type": "display_data"
    }
   ],
   "source": [
    "from ipywidgets import Layout, Button, Box, FloatText, Textarea, Dropdown, Label, IntSlider\n",
    "from ipywidgets import widgets\n",
    "import yoda_simulator as ys\n",
    "from IPython.display import display\n",
    "\n",
    "slider = widgets.IntSlider(value= 5, min=5, max=30)\n",
    "years_until_retirement = slider.value\n",
    "\n",
    "dropdown = widgets.Dropdown(options=['Yoda 1 - Equally Weighted Equity Portfolio',\n",
    "                           'Yoda 2 - Fixed income Optimized Portfolio Yoda',\n",
    "                           'Yoda 3 - Fixed income Equally Weighted',\n",
    "                           'Yoda 4 - Blended - Will the real Yoda please stand up!', \n",
    "                           'Yoda 5 - Maximized Profit Adjusting Returns '])\n",
    "portfolio_choice = dropdown.value\n",
    "\n",
    "investment = widgets.FloatText()\n",
    "initial_investment = investment.value\n",
    "\n",
    "withdrawal_pct = widgets.FloatText()\n",
    "annual_withdrawal_pct = withdrawal_pct.value\n",
    "\n",
    "withdrawal_amount = widgets.FloatText()\n",
    "annual_withdrawal_ammount = withdrawal_amount.value\n",
    "\n",
    "button = widgets.Button(description=\"Calculate!\")\n",
    "output = widgets.Output()\n",
    "\n",
    "#here we are gonna need a function to get the output correctly. CHALLENGE!!!\n",
    "def on_button_clicked(b):\n",
    "    with output:\n",
    "        print(\"Button clicked.\")\n",
    "        \n",
    "        \n",
    "button.on_click(on_button_clicked)\n",
    "\n",
    "form_item_layout = Layout(\n",
    "    display='flex',\n",
    "    flex_flow='row',\n",
    "    justify_content='space-between'\n",
    ")\n",
    "\n",
    "form_items = [\n",
    "    Box([Label(value='Years Until Retirement'), slider], layout=form_item_layout),\n",
    "    Box([Label(value='Yoda Portfolio Choice'),dropdown], layout=form_item_layout),\n",
    "    Box([Label(value='Initial Investment'), investment], layout=form_item_layout),\n",
    "    \n",
    "    Box([Label(value='% of Annual Withdrawal'), withdrawal_pct], layout=form_item_layout),\n",
    "    \n",
    "    Box([Label(value='Annual Withdrawal Amount'), withdrawal_amount], layout=form_item_layout),\n",
    "    \n",
    "    Box([Label(value='Additional Information'), widgets.Textarea()], layout=form_item_layout),\n",
    "    Box([Label(value='YODA Calculator'), button], layout=form_item_layout)\n",
    "    \n",
    "]\n",
    "\n",
    "widgets.interact_manual()\n",
    "\n",
    "insert_param = Box(form_items, layout=Layout(\n",
    "    display='flex',\n",
    "    flex_flow='column',\n",
    "    border='solid 2px',\n",
    "    align_items='stretch',\n",
    "    width='50%'\n",
    "))\n",
    "insert_param\n"
   ]
  },
  {
   "cell_type": "code",
   "execution_count": 36,
   "metadata": {},
   "outputs": [
    {
     "data": {
      "text/plain": [
       "5"
      ]
     },
     "execution_count": 36,
     "metadata": {},
     "output_type": "execute_result"
    }
   ],
   "source": [
    "years_until_retirement"
   ]
  },
  {
   "cell_type": "code",
   "execution_count": 60,
   "metadata": {},
   "outputs": [
    {
     "data": {
      "application/vnd.jupyter.widget-view+json": {
       "model_id": "84257755d6ee4d42b089a31d990fd815",
       "version_major": 2,
       "version_minor": 0
      },
      "text/plain": [
       "Label(value='Changes in source_range values are reflected in target_range1')"
      ]
     },
     "metadata": {},
     "output_type": "display_data"
    },
    {
     "data": {
      "application/vnd.jupyter.widget-view+json": {
       "model_id": "6c0283637d5c4696ad2634aed4474de9",
       "version_major": 2,
       "version_minor": 0
      },
      "text/plain": [
       "FloatText(value=5.0)"
      ]
     },
     "metadata": {},
     "output_type": "display_data"
    },
    {
     "data": {
      "application/vnd.jupyter.widget-view+json": {
       "model_id": "e17969496fa147f0b9471c75ed5074a1",
       "version_major": 2,
       "version_minor": 0
      },
      "text/plain": [
       "FloatText(value=0.0)"
      ]
     },
     "metadata": {},
     "output_type": "display_data"
    }
   ],
   "source": [
    "caption = widgets.Label(value='Changes in source_range values are reflected in target_range1')\n",
    "source_range, target_range1 = investment,\\\n",
    "                            withdrawal_amount\n",
    "dl = widgets.jsdlink((source_range, 'value'), (target_range1, 'value'))\n",
    "display(caption, source_range, target_range1)"
   ]
  },
  {
   "cell_type": "code",
   "execution_count": null,
   "metadata": {},
   "outputs": [],
   "source": [
    "\n",
    "\n"
   ]
  },
  {
   "cell_type": "code",
   "execution_count": 58,
   "metadata": {},
   "outputs": [
    {
     "data": {
      "application/vnd.jupyter.widget-view+json": {
       "model_id": "27a1ce427b2d45cbb5ba7506f75cb1d9",
       "version_major": 2,
       "version_minor": 0
      },
      "text/plain": [
       "VBox(children=(IntSlider(value=0, continuous_update=False, description='Delayed'), IntText(value=0, descriptio…"
      ]
     },
     "metadata": {},
     "output_type": "display_data"
    }
   ],
   "source": [
    "a = widgets.IntSlider(description=\"Delayed\", continuous_update=False)\n",
    "b = widgets.IntText(description=\"Delayed\", continuous_update=False)\n",
    "c = widgets.IntSlider(description=\"Continuous\", continuous_update=True)\n",
    "d = widgets.IntText(description=\"Continuous\", continuous_update=True)\n",
    "\n",
    "widgets.jslink((a, 'value'), (b, 'value'))\n",
    "widgets.jslink((a, 'value'), (c, 'value'))\n",
    "widgets.jslink((a, 'value'), (d, 'value'))\n",
    "widgets.VBox([a,b,c,d])"
   ]
  },
  {
   "cell_type": "code",
   "execution_count": 31,
   "metadata": {},
   "outputs": [],
   "source": []
  },
  {
   "cell_type": "code",
   "execution_count": null,
   "metadata": {},
   "outputs": [],
   "source": []
  },
  {
   "cell_type": "code",
   "execution_count": null,
   "metadata": {},
   "outputs": [],
   "source": [
    "\n"
   ]
  },
  {
   "cell_type": "code",
   "execution_count": null,
   "metadata": {},
   "outputs": [],
   "source": []
  },
  {
   "cell_type": "code",
   "execution_count": null,
   "metadata": {},
   "outputs": [],
   "source": []
  }
 ],
 "metadata": {
  "kernelspec": {
   "display_name": "Python 3",
   "language": "python",
   "name": "python3"
  },
  "language_info": {
   "codemirror_mode": {
    "name": "ipython",
    "version": 3
   },
   "file_extension": ".py",
   "mimetype": "text/x-python",
   "name": "python",
   "nbconvert_exporter": "python",
   "pygments_lexer": "ipython3",
   "version": "3.7.4"
  }
 },
 "nbformat": 4,
 "nbformat_minor": 4
}
